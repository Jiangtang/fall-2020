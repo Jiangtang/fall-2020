{
 "cells": [
  {
   "cell_type": "markdown",
   "metadata": {
    "toc": true
   },
   "source": [
    "<h1>Table of Contents<span class=\"tocSkip\"></span></h1>\n",
    "<div class=\"toc\"><ul class=\"toc-item\"><li><span><a href=\"#Data\" data-toc-modified-id=\"Data-1\"><span class=\"toc-item-num\">1&nbsp;&nbsp;</span>Data</a></span></li><li><span><a href=\"#OLS\" data-toc-modified-id=\"OLS-2\"><span class=\"toc-item-num\">2&nbsp;&nbsp;</span>OLS</a></span><ul class=\"toc-item\"><li><span><a href=\"#LM.jl\" data-toc-modified-id=\"LM.jl-2.1\"><span class=\"toc-item-num\">2.1&nbsp;&nbsp;</span>LM.jl</a></span></li><li><span><a href=\"#GMM\" data-toc-modified-id=\"GMM-2.2\"><span class=\"toc-item-num\">2.2&nbsp;&nbsp;</span>GMM</a></span></li></ul></li><li><span><a href=\"#Logit\" data-toc-modified-id=\"Logit-3\"><span class=\"toc-item-num\">3&nbsp;&nbsp;</span>Logit</a></span><ul class=\"toc-item\"><li><span><a href=\"#GLM.jl\" data-toc-modified-id=\"GLM.jl-3.1\"><span class=\"toc-item-num\">3.1&nbsp;&nbsp;</span>GLM.jl</a></span></li><li><span><a href=\"#GMM\" data-toc-modified-id=\"GMM-3.2\"><span class=\"toc-item-num\">3.2&nbsp;&nbsp;</span>GMM</a></span></li></ul></li><li><span><a href=\"#Multinomial-Logit-Model\" data-toc-modified-id=\"Multinomial-Logit-Model-4\"><span class=\"toc-item-num\">4&nbsp;&nbsp;</span>Multinomial Logit Model</a></span><ul class=\"toc-item\"><li><span><a href=\"#for-loop\" data-toc-modified-id=\"for-loop-4.1\"><span class=\"toc-item-num\">4.1&nbsp;&nbsp;</span>for loop</a></span></li><li><span><a href=\"#matrix-version\" data-toc-modified-id=\"matrix-version-4.2\"><span class=\"toc-item-num\">4.2&nbsp;&nbsp;</span>matrix version</a></span></li><li><span><a href=\"#with-Hessian\" data-toc-modified-id=\"with-Hessian-4.3\"><span class=\"toc-item-num\">4.3&nbsp;&nbsp;</span>with Hessian</a></span></li></ul></li><li><span><a href=\"#Multinomial-Logit-Model-with-Alternative-specific-Covariates-$Z$\" data-toc-modified-id=\"Multinomial-Logit-Model-with-Alternative-specific-Covariates-$Z$-5\"><span class=\"toc-item-num\">5&nbsp;&nbsp;</span>Multinomial Logit Model with Alternative-specific Covariates $Z$</a></span></li><li><span><a href=\"#Nested-Logit\" data-toc-modified-id=\"Nested-Logit-6\"><span class=\"toc-item-num\">6&nbsp;&nbsp;</span>Nested Logit</a></span></li><li><span><a href=\"#multinomial-logit-(with-alternative-specific-covariates-Z)\" data-toc-modified-id=\"multinomial-logit-(with-alternative-specific-covariates-Z)-7\"><span class=\"toc-item-num\">7&nbsp;&nbsp;</span>multinomial logit (with alternative-specific covariates Z)</a></span></li><li><span><a href=\"#mixed-logit\" data-toc-modified-id=\"mixed-logit-8\"><span class=\"toc-item-num\">8&nbsp;&nbsp;</span>mixed logit</a></span></li><li><span><a href=\"#test-DM\" data-toc-modified-id=\"test-DM-9\"><span class=\"toc-item-num\">9&nbsp;&nbsp;</span>test DM</a></span></li></ul></div>"
   ]
  },
  {
   "cell_type": "code",
   "execution_count": 1,
   "metadata": {
    "ExecuteTime": {
     "end_time": "2020-10-10T14:30:47.855000-04:00",
     "start_time": "2020-10-10T18:30:46.367Z"
    }
   },
   "outputs": [
    {
     "name": "stdout",
     "output_type": "stream",
     "text": [
      "/c/Users/jhu/Documents/GitHub/fall-2020/ProblemSets\n"
     ]
    }
   ],
   "source": [
    ";pwd"
   ]
  },
  {
   "cell_type": "code",
   "execution_count": 2,
   "metadata": {
    "ExecuteTime": {
     "end_time": "2020-10-10T14:30:48.628000-04:00",
     "start_time": "2020-10-10T18:30:46.375Z"
    }
   },
   "outputs": [
    {
     "data": {
      "text/plain": [
       "1000"
      ]
     },
     "execution_count": 2,
     "metadata": {},
     "output_type": "execute_result"
    }
   ],
   "source": [
    "ENV[\"COLUMNS\"] = 1000"
   ]
  },
  {
   "cell_type": "code",
   "execution_count": 3,
   "metadata": {
    "ExecuteTime": {
     "end_time": "2020-10-10T14:31:16.982000-04:00",
     "start_time": "2020-10-10T18:30:46.381Z"
    }
   },
   "outputs": [],
   "source": [
    "using Random\n",
    "using LinearAlgebra\n",
    "using Statistics\n",
    "using Optim\n",
    "using DataFrames\n",
    "using CSV\n",
    "using HTTP\n",
    "using GLM\n",
    "using FreqTables\n",
    "using ForwardDiff \n",
    "using LineSearches\n",
    "using Distributions"
   ]
  },
  {
   "cell_type": "markdown",
   "metadata": {},
   "source": [
    "# Data"
   ]
  },
  {
   "cell_type": "code",
   "execution_count": 4,
   "metadata": {
    "ExecuteTime": {
     "end_time": "2020-10-10T14:31:46.280000-04:00",
     "start_time": "2020-10-10T18:30:46.389Z"
    }
   },
   "outputs": [],
   "source": [
    "url = \"https://raw.githubusercontent.com/OU-PhD-Econometrics/fall-2020/master/ProblemSets/PS1-julia-intro/nlsw88.csv\"\n",
    "df = CSV.read(HTTP.get(url).body)\n",
    "X = [ones(size(df,1),1) df.age df.race.==1 df.collgrad.==1]\n",
    "y = df.married.==1;"
   ]
  },
  {
   "cell_type": "code",
   "execution_count": 5,
   "metadata": {
    "ExecuteTime": {
     "end_time": "2020-10-10T14:31:47.715000-04:00",
     "start_time": "2020-10-10T18:30:46.395Z"
    }
   },
   "outputs": [
    {
     "data": {
      "text/plain": [
       "((2246, 17), (2246, 4), (2246,), [1.0, 37.0, 0.0, 0.0], Bool[0, 0, 0, 1])"
      ]
     },
     "execution_count": 5,
     "metadata": {},
     "output_type": "execute_result"
    }
   ],
   "source": [
    "size(df),size(X), size(y), X[1,:],y[1:4]"
   ]
  },
  {
   "cell_type": "code",
   "execution_count": 6,
   "metadata": {
    "ExecuteTime": {
     "end_time": "2020-10-10T14:31:54.660000-04:00",
     "start_time": "2020-10-10T18:30:46.403Z"
    }
   },
   "outputs": [
    {
     "data": {
      "text/html": [
       "<table class=\"data-frame\"><thead><tr><th></th><th>idcode</th><th>age</th><th>race</th><th>married</th><th>never_married</th><th>grade</th><th>collgrad</th><th>south</th><th>smsa</th><th>c_city</th><th>industry</th><th>occupation</th><th>union</th><th>wage</th><th>hours</th><th>ttl_exp</th><th>tenure</th></tr><tr><th></th><th>Int64</th><th>Int64</th><th>Int64</th><th>Int64</th><th>Int64</th><th>Int64?</th><th>Int64</th><th>Int64</th><th>Int64</th><th>Int64</th><th>Int64?</th><th>Int64?</th><th>Int64?</th><th>Float64</th><th>Int64?</th><th>Float64</th><th>Float64?</th></tr></thead><tbody><p>4 rows × 17 columns</p><tr><th>1</th><td>1</td><td>37</td><td>2</td><td>0</td><td>0</td><td>12</td><td>0</td><td>0</td><td>1</td><td>0</td><td>5</td><td>6</td><td>1</td><td>11.7391</td><td>48</td><td>10.3333</td><td>5.33333</td></tr><tr><th>2</th><td>2</td><td>37</td><td>2</td><td>0</td><td>0</td><td>12</td><td>0</td><td>0</td><td>1</td><td>1</td><td>4</td><td>5</td><td>1</td><td>6.40096</td><td>40</td><td>13.6218</td><td>5.25</td></tr><tr><th>3</th><td>3</td><td>42</td><td>2</td><td>0</td><td>1</td><td>12</td><td>0</td><td>0</td><td>1</td><td>1</td><td>4</td><td>3</td><td><em>missing</em></td><td>5.01672</td><td>40</td><td>17.7308</td><td>1.25</td></tr><tr><th>4</th><td>4</td><td>43</td><td>1</td><td>1</td><td>0</td><td>17</td><td>1</td><td>0</td><td>1</td><td>0</td><td>11</td><td>13</td><td>1</td><td>9.03381</td><td>42</td><td>13.2115</td><td>1.75</td></tr></tbody></table>"
      ],
      "text/latex": [
       "\\begin{tabular}{r|ccccccccccccccccc}\n",
       "\t& idcode & age & race & married & never\\_married & grade & collgrad & south & smsa & c\\_city & industry & occupation & union & wage & hours & ttl\\_exp & tenure\\\\\n",
       "\t\\hline\n",
       "\t& Int64 & Int64 & Int64 & Int64 & Int64 & Int64? & Int64 & Int64 & Int64 & Int64 & Int64? & Int64? & Int64? & Float64 & Int64? & Float64 & Float64?\\\\\n",
       "\t\\hline\n",
       "\t1 & 1 & 37 & 2 & 0 & 0 & 12 & 0 & 0 & 1 & 0 & 5 & 6 & 1 & 11.7391 & 48 & 10.3333 & 5.33333 \\\\\n",
       "\t2 & 2 & 37 & 2 & 0 & 0 & 12 & 0 & 0 & 1 & 1 & 4 & 5 & 1 & 6.40096 & 40 & 13.6218 & 5.25 \\\\\n",
       "\t3 & 3 & 42 & 2 & 0 & 1 & 12 & 0 & 0 & 1 & 1 & 4 & 3 & \\emph{missing} & 5.01672 & 40 & 17.7308 & 1.25 \\\\\n",
       "\t4 & 4 & 43 & 1 & 1 & 0 & 17 & 1 & 0 & 1 & 0 & 11 & 13 & 1 & 9.03381 & 42 & 13.2115 & 1.75 \\\\\n",
       "\\end{tabular}\n"
      ],
      "text/plain": [
       "4×17 DataFrame\n",
       "│ Row │ idcode │ age   │ race  │ married │ never_married │ grade  │ collgrad │ south │ smsa  │ c_city │ industry │ occupation │ union   │ wage    │ hours  │ ttl_exp │ tenure   │\n",
       "│     │ \u001b[90mInt64\u001b[39m  │ \u001b[90mInt64\u001b[39m │ \u001b[90mInt64\u001b[39m │ \u001b[90mInt64\u001b[39m   │ \u001b[90mInt64\u001b[39m         │ \u001b[90mInt64?\u001b[39m │ \u001b[90mInt64\u001b[39m    │ \u001b[90mInt64\u001b[39m │ \u001b[90mInt64\u001b[39m │ \u001b[90mInt64\u001b[39m  │ \u001b[90mInt64?\u001b[39m   │ \u001b[90mInt64?\u001b[39m     │ \u001b[90mInt64?\u001b[39m  │ \u001b[90mFloat64\u001b[39m │ \u001b[90mInt64?\u001b[39m │ \u001b[90mFloat64\u001b[39m │ \u001b[90mFloat64?\u001b[39m │\n",
       "├─────┼────────┼───────┼───────┼─────────┼───────────────┼────────┼──────────┼───────┼───────┼────────┼──────────┼────────────┼─────────┼─────────┼────────┼─────────┼──────────┤\n",
       "│ 1   │ 1      │ 37    │ 2     │ 0       │ 0             │ 12     │ 0        │ 0     │ 1     │ 0      │ 5        │ 6          │ 1       │ 11.7391 │ 48     │ 10.3333 │ 5.33333  │\n",
       "│ 2   │ 2      │ 37    │ 2     │ 0       │ 0             │ 12     │ 0        │ 0     │ 1     │ 1      │ 4        │ 5          │ 1       │ 6.40096 │ 40     │ 13.6218 │ 5.25     │\n",
       "│ 3   │ 3      │ 42    │ 2     │ 0       │ 1             │ 12     │ 0        │ 0     │ 1     │ 1      │ 4        │ 3          │ \u001b[90mmissing\u001b[39m │ 5.01672 │ 40     │ 17.7308 │ 1.25     │\n",
       "│ 4   │ 4      │ 43    │ 1     │ 1       │ 0             │ 17     │ 1        │ 0     │ 1     │ 0      │ 11       │ 13         │ 1       │ 9.03381 │ 42     │ 13.2115 │ 1.75     │"
      ]
     },
     "execution_count": 6,
     "metadata": {},
     "output_type": "execute_result"
    }
   ],
   "source": [
    "df[1:4,:]"
   ]
  },
  {
   "cell_type": "markdown",
   "metadata": {},
   "source": [
    "# OLS"
   ]
  },
  {
   "cell_type": "markdown",
   "metadata": {},
   "source": [
    "\\begin{align*}\n",
    "    \\min_\\beta \\sum_i\\left(y_i - \n",
    "    X_i\\beta\\right)^2\n",
    "\\end{align*}"
   ]
  },
  {
   "cell_type": "code",
   "execution_count": 7,
   "metadata": {
    "ExecuteTime": {
     "end_time": "2020-10-10T14:31:55.240000-04:00",
     "start_time": "2020-10-10T18:30:46.413Z"
    }
   },
   "outputs": [
    {
     "data": {
      "text/plain": [
       "ols (generic function with 1 method)"
      ]
     },
     "execution_count": 7,
     "metadata": {},
     "output_type": "execute_result"
    }
   ],
   "source": [
    "function ols(β, X, y)\n",
    "    ssr = (y.-X*β)'*(y.-X*β)\n",
    "    return ssr\n",
    "end"
   ]
  },
  {
   "cell_type": "code",
   "execution_count": 8,
   "metadata": {
    "ExecuteTime": {
     "end_time": "2020-10-10T14:31:59.381000-04:00",
     "start_time": "2020-10-10T18:30:46.419Z"
    }
   },
   "outputs": [
    {
     "name": "stdout",
     "output_type": "stream",
     "text": [
      "[0.661350951535174, -0.004625908044343551, 0.2259504322824406, -0.012184197718293887]\n"
     ]
    }
   ],
   "source": [
    "β_ols = optimize(β -> ols(β, X, y), rand(size(X,2)), LBFGS(), \n",
    "        Optim.Options(g_tol=1e-6, iterations=100_000, show_trace=false))\n",
    "\n",
    "println(β_ols.minimizer) "
   ]
  },
  {
   "cell_type": "code",
   "execution_count": null,
   "metadata": {
    "ExecuteTime": {
     "end_time": "2020-10-08T22:45:18.693000-04:00",
     "start_time": "2020-10-09T02:45:17.731Z"
    }
   },
   "outputs": [],
   "source": [
    "    "
   ]
  },
  {
   "cell_type": "code",
   "execution_count": 9,
   "metadata": {
    "ExecuteTime": {
     "end_time": "2020-10-10T14:32:02.091000-04:00",
     "start_time": "2020-10-10T18:30:46.429Z"
    }
   },
   "outputs": [
    {
     "name": "stdout",
     "output_type": "stream",
     "text": [
      "[0.6613509511877042, -0.004625908035375747, 0.22595043227530237, -0.01218419772065558]\n"
     ]
    }
   ],
   "source": [
    "β_ols = inv(X'*X)*X'*y\n",
    "println(β_ols)"
   ]
  },
  {
   "cell_type": "markdown",
   "metadata": {},
   "source": [
    "## LM.jl"
   ]
  },
  {
   "cell_type": "code",
   "execution_count": 10,
   "metadata": {
    "ExecuteTime": {
     "end_time": "2020-10-10T14:32:17.721000-04:00",
     "start_time": "2020-10-10T18:30:46.438Z"
    }
   },
   "outputs": [
    {
     "name": "stdout",
     "output_type": "stream",
     "text": [
      "StatsModels.TableRegressionModel{LinearModel{GLM.LmResp{Array{Float64,1}},GLM.DensePredChol{Float64,Cholesky{Float64,Array{Float64,2}}}},Array{Float64,2}}\n",
      "\n",
      "married ~ 1 + age + white + collgrad\n",
      "\n",
      "Coefficients:\n",
      "─────────────────────────────────────────────────────────────────────────────\n",
      "                   Coef.  Std. Error      t  Pr(>|t|)   Lower 95%   Upper 95%\n",
      "─────────────────────────────────────────────────────────────────────────────\n",
      "(Intercept)   0.661351    0.127491     5.19    <1e-6    0.411338   0.911364\n",
      "age          -0.00462591  0.00324314  -1.43    0.1539  -0.0109858  0.00173397\n",
      "white         0.22595     0.0223827   10.09    <1e-22   0.182057   0.269843\n",
      "collgrad     -0.0121842   0.0233565   -0.52    0.6020  -0.0579868  0.0336184\n",
      "─────────────────────────────────────────────────────────────────────────────\n"
     ]
    }
   ],
   "source": [
    "df.white = df.race.==1\n",
    "bols_lm = lm(@formula(married ~ age + white + collgrad), df)\n",
    "println(bols_lm)"
   ]
  },
  {
   "cell_type": "markdown",
   "metadata": {},
   "source": [
    "## GMM"
   ]
  },
  {
   "cell_type": "code",
   "execution_count": 11,
   "metadata": {
    "ExecuteTime": {
     "end_time": "2020-10-10T14:32:17.860000-04:00",
     "start_time": "2020-10-10T18:30:46.444Z"
    }
   },
   "outputs": [
    {
     "data": {
      "text/plain": [
       "ols_gmm (generic function with 1 method)"
      ]
     },
     "execution_count": 11,
     "metadata": {},
     "output_type": "execute_result"
    }
   ],
   "source": [
    "function ols_gmm(α, X, y)    \n",
    "    g = y .- X*α\n",
    "    J = g'*I*g\n",
    "    return J\n",
    "end"
   ]
  },
  {
   "cell_type": "code",
   "execution_count": 12,
   "metadata": {
    "ExecuteTime": {
     "end_time": "2020-10-10T14:32:18.136000-04:00",
     "start_time": "2020-10-10T18:30:46.450Z"
    }
   },
   "outputs": [
    {
     "name": "stdout",
     "output_type": "stream",
     "text": [
      "[0.6613509519821575, -0.004625908055546829, 0.2259504322771398, -0.012184197726113821]\n"
     ]
    }
   ],
   "source": [
    "α̂_optim = optimize(a -> ols_gmm(a, X, y), rand(size(X,2)), LBFGS(), Optim.Options(g_tol=1e-8, iterations=100_000))\n",
    "println(α̂_optim.minimizer)"
   ]
  },
  {
   "cell_type": "markdown",
   "metadata": {},
   "source": [
    "# Logit"
   ]
  },
  {
   "cell_type": "code",
   "execution_count": 13,
   "metadata": {
    "ExecuteTime": {
     "end_time": "2020-10-10T14:32:18.279000-04:00",
     "start_time": "2020-10-10T18:30:46.460Z"
    }
   },
   "outputs": [
    {
     "data": {
      "text/plain": [
       "logit (generic function with 1 method)"
      ]
     },
     "execution_count": 13,
     "metadata": {},
     "output_type": "execute_result"
    }
   ],
   "source": [
    "function logit(β, X, y)\n",
    "\n",
    "    P = exp.(X*β)./(1 .+ exp.(X*β))\n",
    "\n",
    "    loglike = -sum( (y.==1).*log.(P) .+ (y.==0).*log.(1 .- P) )\n",
    "\n",
    "    return loglike\n",
    "end"
   ]
  },
  {
   "cell_type": "code",
   "execution_count": 14,
   "metadata": {
    "ExecuteTime": {
     "end_time": "2020-10-10T14:32:18.931000-04:00",
     "start_time": "2020-10-10T18:30:46.469Z"
    }
   },
   "outputs": [
    {
     "name": "stdout",
     "output_type": "stream",
     "text": [
      "[0.7465534201381056, -0.02107775603173581, 0.9558065345399978, -0.05597400452588138]\n"
     ]
    }
   ],
   "source": [
    "β_optim = optimize(β -> logit(β, X, y), rand(size(X,2)), LBFGS(), \n",
    "           Optim.Options(g_tol=1e-6, iterations=100_000, show_trace=false))\n",
    "println(β_optim.minimizer)"
   ]
  },
  {
   "cell_type": "markdown",
   "metadata": {
    "ExecuteTime": {
     "end_time": "2020-10-08T22:48:31.863000-04:00",
     "start_time": "2020-10-09T02:48:30.868Z"
    }
   },
   "source": [
    "## GLM.jl"
   ]
  },
  {
   "cell_type": "code",
   "execution_count": 15,
   "metadata": {
    "ExecuteTime": {
     "end_time": "2020-10-10T14:32:21.481000-04:00",
     "start_time": "2020-10-10T18:30:46.478Z"
    }
   },
   "outputs": [
    {
     "name": "stdout",
     "output_type": "stream",
     "text": [
      "StatsModels.TableRegressionModel{GeneralizedLinearModel{GLM.GlmResp{Array{Float64,1},Binomial{Float64},LogitLink},GLM.DensePredChol{Float64,Cholesky{Float64,Array{Float64,2}}}},Array{Float64,2}}\n",
      "\n",
      "married ~ 1 + age + white + collgrad\n",
      "\n",
      "Coefficients:\n",
      "────────────────────────────────────────────────────────────────────────────\n",
      "                  Coef.  Std. Error      z  Pr(>|z|)   Lower 95%   Upper 95%\n",
      "────────────────────────────────────────────────────────────────────────────\n",
      "(Intercept)   0.746554    0.578983    1.29    0.1973  -0.388231   1.88134\n",
      "age          -0.0210778   0.0147497  -1.43    0.1530  -0.0499867  0.00783116\n",
      "white         0.955807    0.0981953   9.73    <1e-21   0.763347   1.14827\n",
      "collgrad     -0.055974    0.106218   -0.53    0.5982  -0.264157   0.152209\n",
      "────────────────────────────────────────────────────────────────────────────\n"
     ]
    }
   ],
   "source": [
    "β_glm = glm(@formula(married ~ age + white + collgrad), df, Binomial(), LogitLink())\n",
    "println(β_glm)"
   ]
  },
  {
   "cell_type": "markdown",
   "metadata": {},
   "source": [
    "## GMM"
   ]
  },
  {
   "cell_type": "code",
   "execution_count": 16,
   "metadata": {
    "ExecuteTime": {
     "end_time": "2020-10-10T14:32:21.618000-04:00",
     "start_time": "2020-10-10T18:30:46.487Z"
    }
   },
   "outputs": [
    {
     "data": {
      "text/plain": [
       "logit_gmm (generic function with 1 method)"
      ]
     },
     "execution_count": 16,
     "metadata": {},
     "output_type": "execute_result"
    }
   ],
   "source": [
    "function logit_gmm(β, X, y)\n",
    "    P = exp.(X*β)./(1 .+ exp.(X*β))\n",
    "    g = y .- P\n",
    "    J = g'*I*g\n",
    "    return J\n",
    "end\n"
   ]
  },
  {
   "cell_type": "code",
   "execution_count": 17,
   "metadata": {
    "ExecuteTime": {
     "end_time": "2020-10-10T14:32:21.867000-04:00",
     "start_time": "2020-10-10T18:30:46.494Z"
    }
   },
   "outputs": [
    {
     "name": "stdout",
     "output_type": "stream",
     "text": [
      "[0.7504022858104027, -0.021198601931836897, 0.9554883097159053, -0.052070109160042205]\n"
     ]
    }
   ],
   "source": [
    "β_optim = optimize(β -> logit_gmm(β, X, y), rand(size(X,2)), LBFGS(), \n",
    "                   Optim.Options(g_tol=1e-8, iterations=100_000))\n",
    "\n",
    "println(β_optim.minimizer)"
   ]
  },
  {
   "cell_type": "code",
   "execution_count": null,
   "metadata": {},
   "outputs": [],
   "source": []
  },
  {
   "cell_type": "markdown",
   "metadata": {},
   "source": [
    "# Multinomial Logit Model"
   ]
  },
  {
   "cell_type": "code",
   "execution_count": 18,
   "metadata": {
    "ExecuteTime": {
     "end_time": "2020-10-10T14:32:24.368000-04:00",
     "start_time": "2020-10-10T18:30:46.505Z"
    }
   },
   "outputs": [
    {
     "data": {
      "text/plain": [
       "14-element Named Array{Int64,1}\n",
       "occupation  │ \n",
       "────────────┼────\n",
       "1           │ 317\n",
       "2           │ 264\n",
       "3           │ 726\n",
       "4           │ 102\n",
       "5           │  53\n",
       "6           │ 246\n",
       "7           │  28\n",
       "8           │ 286\n",
       "9           │   1\n",
       "10          │   9\n",
       "11          │  16\n",
       "12          │   2\n",
       "13          │ 187\n",
       "missing     │   9"
      ]
     },
     "execution_count": 18,
     "metadata": {},
     "output_type": "execute_result"
    }
   ],
   "source": [
    "freqtable(df, :occupation)"
   ]
  },
  {
   "cell_type": "code",
   "execution_count": 19,
   "metadata": {
    "ExecuteTime": {
     "end_time": "2020-10-10T14:32:26.478000-04:00",
     "start_time": "2020-10-10T18:30:46.512Z"
    }
   },
   "outputs": [
    {
     "data": {
      "text/plain": [
       "7-element Named Array{Int64,1}\n",
       "occupation  │ \n",
       "────────────┼────\n",
       "1           │ 317\n",
       "2           │ 264\n",
       "3           │ 726\n",
       "4           │ 102\n",
       "5           │  53\n",
       "6           │ 246\n",
       "7           │ 529"
      ]
     },
     "execution_count": 19,
     "metadata": {},
     "output_type": "execute_result"
    }
   ],
   "source": [
    "df = dropmissing(df, :occupation)\n",
    "df[df.occupation.==8 ,:occupation] .= 7\n",
    "df[df.occupation.==9 ,:occupation] .= 7\n",
    "df[df.occupation.==10,:occupation] .= 7\n",
    "df[df.occupation.==11,:occupation] .= 7\n",
    "df[df.occupation.==12,:occupation] .= 7\n",
    "df[df.occupation.==13,:occupation] .= 7\n",
    "freqtable(df, :occupation) # problem solved"
   ]
  },
  {
   "cell_type": "code",
   "execution_count": 20,
   "metadata": {
    "ExecuteTime": {
     "end_time": "2020-10-10T14:32:27.114000-04:00",
     "start_time": "2020-10-10T18:30:46.520Z"
    }
   },
   "outputs": [
    {
     "data": {
      "text/plain": [
       "((2237, 4), (2237,), [1.0, 37.0, 0.0, 0.0], [6, 5, 3, 7])"
      ]
     },
     "execution_count": 20,
     "metadata": {},
     "output_type": "execute_result"
    }
   ],
   "source": [
    "X = [ones(size(df,1),1) df.age df.race.==1 df.collgrad.==1]\n",
    "y = df.occupation\n",
    "\n",
    "size(X), size(y), X[1,:],y[1:4]"
   ]
  },
  {
   "cell_type": "markdown",
   "metadata": {},
   "source": [
    "## for loop"
   ]
  },
  {
   "cell_type": "code",
   "execution_count": 21,
   "metadata": {
    "ExecuteTime": {
     "end_time": "2020-10-10T14:32:27.283000-04:00",
     "start_time": "2020-10-10T18:30:46.525Z"
    }
   },
   "outputs": [
    {
     "data": {
      "text/plain": [
       "mlogit (generic function with 1 method)"
      ]
     },
     "execution_count": 21,
     "metadata": {},
     "output_type": "execute_result"
    }
   ],
   "source": [
    "function mlogit(alpha, X, y)\n",
    "    \n",
    "    K = size(X,2)\n",
    "    J = length(unique(y))\n",
    "    N = length(y)\n",
    "    bigY = zeros(N,J)\n",
    "    for j=1:J\n",
    "        bigY[:,j] = y.==j\n",
    "    end\n",
    "    bigAlpha = [reshape(alpha,K,J-1) zeros(K)]\n",
    "    \n",
    "    num = zeros(N,J)\n",
    "    dem = zeros(N)\n",
    "    for j=1:J\n",
    "        num[:,j] = exp.(X*bigAlpha[:,j])\n",
    "        dem .+= num[:,j]\n",
    "    end\n",
    "    \n",
    "    P = num./repeat(dem,1,J)\n",
    "    \n",
    "    loglike = -sum( bigY.*log.(P) )\n",
    "    \n",
    "    return loglike\n",
    "end"
   ]
  },
  {
   "cell_type": "code",
   "execution_count": null,
   "metadata": {},
   "outputs": [],
   "source": []
  },
  {
   "cell_type": "code",
   "execution_count": 22,
   "metadata": {
    "ExecuteTime": {
     "end_time": "2020-10-10T14:32:27.536000-04:00",
     "start_time": "2020-10-10T18:30:46.536Z"
    }
   },
   "outputs": [
    {
     "name": "stdout",
     "output_type": "stream",
     "text": [
      "(24,)\n"
     ]
    }
   ],
   "source": [
    "alpha_zero = zeros(6*size(X,2))\n",
    "alpha_rand = rand(6*size(X,2))\n",
    "alpha_true = [0.1910213\n",
    " -0.0335262\n",
    "  0.5963968\n",
    "  0.4165052\n",
    " -0.1698368\n",
    " -0.0359784\n",
    "  1.30684\n",
    " -0.430997\n",
    "  0.6894727\n",
    " -0.0104578\n",
    "  0.5231634\n",
    " -1.492475\n",
    " -2.26748\n",
    " -0.0053001\n",
    "  1.391402\n",
    " -0.9849661\n",
    " -1.398468\n",
    " -0.0142969\n",
    " -0.0176531\n",
    " -1.495123\n",
    "  0.2454891\n",
    " -0.0067267\n",
    " -0.5382892\n",
    " -3.78975]\n",
    "\n",
    "alpha_start = alpha_true.*rand(size(alpha_true))\n",
    "println(size(alpha_true))"
   ]
  },
  {
   "cell_type": "code",
   "execution_count": 23,
   "metadata": {
    "ExecuteTime": {
     "end_time": "2020-10-10T14:43:42.961000-04:00",
     "start_time": "2020-10-10T18:30:46.541Z"
    }
   },
   "outputs": [
    {
     "name": "stdout",
     "output_type": "stream",
     "text": [
      "[0.1910399136067419, -0.03352669726199581, 0.5963964533422411, 0.41650682254074517, -0.16981704681365417, -0.03597891914556963, 1.3068417348600714, -0.4309976813533497, 0.6894687649341755, -0.010457750613984178, 0.523163541217355, -1.4924725134974826, -2.2675054525730656, -0.0052995443084240534, 1.3914081829484672, -0.9849694461929859, -1.3985573317180762, -0.014294755144515744, -0.017649054627850436, -1.4951229891987001, 0.24546631806612798, -0.00672617103251503, -0.5382873987598918, -3.7897820064356496]\n"
     ]
    }
   ],
   "source": [
    "alpha_hat_optim = optimize(a -> mlogit(a, X, y), alpha_start, LBFGS(), \n",
    "               Optim.Options(g_tol = 1e-5, iterations=100_000, show_trace=false, show_every=500))\n",
    "alpha_hat_mle = alpha_hat_optim.minimizer\n",
    "println(alpha_hat_mle)"
   ]
  },
  {
   "cell_type": "markdown",
   "metadata": {},
   "source": [
    "## matrix version"
   ]
  },
  {
   "cell_type": "code",
   "execution_count": 24,
   "metadata": {
    "ExecuteTime": {
     "end_time": "2020-10-10T14:43:43.143000-04:00",
     "start_time": "2020-10-10T18:30:46.549Z"
    }
   },
   "outputs": [
    {
     "data": {
      "text/plain": [
       "mlogit2 (generic function with 1 method)"
      ]
     },
     "execution_count": 24,
     "metadata": {},
     "output_type": "execute_result"
    }
   ],
   "source": [
    "function mlogit2(β, X, y)\n",
    "        \n",
    "    K = size(X, 2)\n",
    "    J = length(unique(y))\n",
    "    N = length(y)\n",
    "    Y = zeros(N, J)\n",
    "    for j = 1:J\n",
    "        Y[:,j] = y .== j\n",
    "    end\n",
    "    Β = [reshape(β, K, J - 1) zeros(K)]\n",
    "        \n",
    "    V = X * Β\n",
    "    num = exp.(V)\n",
    "    dem = sum.(eachrow(num))\n",
    "    P = num ./ dem\n",
    "        \n",
    "    loglike = -sum(Y .* log.(P))\n",
    "        \n",
    "    return loglike\n",
    "end"
   ]
  },
  {
   "cell_type": "code",
   "execution_count": 25,
   "metadata": {
    "ExecuteTime": {
     "end_time": "2020-10-10T14:51:30.872000-04:00",
     "start_time": "2020-10-10T18:30:46.556Z"
    }
   },
   "outputs": [
    {
     "name": "stdout",
     "output_type": "stream",
     "text": [
      "[0.1909769941470058, -0.03352504690436137, 0.5963943649961156, 0.4165056616481326, -0.16989694116948678, -0.035976860508479515, 1.3068399975440717, -0.4309971146157321, 0.6894328442008153, -0.010456843135641025, 0.5231634628995318, -1.4924727790455, -2.26757505605333, -0.005297765330805531, 1.3914062264536815, -0.9849650420044826, -1.3985809630498485, -0.014294134181603572, -0.017651634385692297, -1.4951172024192974, 0.24544082506821177, -0.006725500433777165, -0.5382895688273234, -3.789769371059199]\n"
     ]
    }
   ],
   "source": [
    "β_hat_optim = optimize(β -> mlogit2(β, X, y), alpha_start, LBFGS(), \n",
    "               Optim.Options(g_tol = 1e-5, iterations=100_000, show_trace=false))\n",
    "β_hat_mle = β_hat_optim.minimizer\n",
    "println(β_hat_mle)"
   ]
  },
  {
   "cell_type": "markdown",
   "metadata": {},
   "source": [
    "## with Hessian"
   ]
  },
  {
   "cell_type": "code",
   "execution_count": 26,
   "metadata": {
    "ExecuteTime": {
     "end_time": "2020-10-10T14:51:31.067000-04:00",
     "start_time": "2020-10-10T18:30:46.565Z"
    }
   },
   "outputs": [
    {
     "data": {
      "text/plain": [
       "mlogit_for_h (generic function with 1 method)"
      ]
     },
     "execution_count": 26,
     "metadata": {},
     "output_type": "execute_result"
    }
   ],
   "source": [
    "function mlogit_for_h(alpha, X, y)\n",
    "    \n",
    "    K = size(X,2)\n",
    "    J = length(unique(y))\n",
    "    N = length(y)\n",
    "    bigY = zeros(N,J)\n",
    "    for j=1:J\n",
    "        bigY[:,j] = y.==j\n",
    "    end\n",
    "    bigAlpha = [reshape(alpha,K,J-1) zeros(K)]\n",
    "    \n",
    "    T = promote_type(eltype(X),eltype(alpha)) # this line is new\n",
    "    num   = zeros(T,N,J)                      # this line is new\n",
    "    dem   = zeros(T,N)                        # this line is new\n",
    "    for j=1:J\n",
    "        num[:,j] = exp.(X*bigAlpha[:,j])\n",
    "        dem .+= num[:,j]\n",
    "    end\n",
    "    \n",
    "    P = num./repeat(dem,1,J)\n",
    "    \n",
    "    loglike = -sum( bigY.*log.(P) )\n",
    "    \n",
    "    return loglike\n",
    "end"
   ]
  },
  {
   "cell_type": "code",
   "execution_count": 27,
   "metadata": {
    "ExecuteTime": {
     "end_time": "2020-10-10T14:53:30.379000-04:00",
     "start_time": "2020-10-10T18:30:46.571Z"
    }
   },
   "outputs": [
    {
     "data": {
      "text/plain": [
       "24-element Array{Float64,1}:\n",
       " 0.9250426228059639\n",
       " 0.02359600092699672\n",
       " 0.16643185567818417\n",
       " 0.14539833286543336\n",
       " 0.9877635472143963\n",
       " 0.025041034197731793\n",
       " 0.2088348450186434\n",
       " 0.16617533842935772\n",
       " 0.7574422123655382\n",
       " 0.019257796020397386\n",
       " 0.13049479985889972\n",
       " 0.14760682990849738\n",
       " 1.414571804288081\n",
       " 0.03552992911156632\n",
       " 0.3224823529296227\n",
       " 0.2716328320671566\n",
       " 1.8591571577880135\n",
       " 0.04742956036488801\n",
       " 0.30354607050491805\n",
       " 0.4434233597569664\n",
       " 1.0264137574720964\n",
       " 0.026162920649010726\n",
       " 0.16340581853775987\n",
       " 0.5881855599964643"
      ]
     },
     "execution_count": 27,
     "metadata": {},
     "output_type": "execute_result"
    }
   ],
   "source": [
    "# declare that the objective function is twice differentiable\n",
    "td = TwiceDifferentiable(b -> mlogit_for_h(b, X, y), alpha_start; autodiff = :forward)\n",
    "# run the optimizer\n",
    "alpha_hat_optim_ad = optimize(td, alpha_zero, LBFGS(), Optim.Options(g_tol = 1e-5, iterations=100_000, show_trace=false, show_every=50))\n",
    "alpha_hat_mle_ad = alpha_hat_optim_ad.minimizer\n",
    "\n",
    "# evaluate the Hessian at the estimates\n",
    "H  = Optim.hessian!(td, alpha_hat_mle_ad)\n",
    "alpha_hat_mle_ad_se = sqrt.(diag(inv(H)))"
   ]
  },
  {
   "cell_type": "code",
   "execution_count": 28,
   "metadata": {
    "ExecuteTime": {
     "end_time": "2020-10-10T14:53:30.778000-04:00",
     "start_time": "2020-10-10T18:30:46.578Z"
    }
   },
   "outputs": [
    {
     "data": {
      "text/html": [
       "<table class=\"data-frame\"><thead><tr><th></th><th>x1</th><th>x2</th></tr><tr><th></th><th>Float64</th><th>Float64</th></tr></thead><tbody><p>24 rows × 2 columns</p><tr><th>1</th><td>0.191049</td><td>0.925043</td></tr><tr><th>2</th><td>-0.0335269</td><td>0.023596</td></tr><tr><th>3</th><td>0.596397</td><td>0.166432</td></tr><tr><th>4</th><td>0.416504</td><td>0.145398</td></tr><tr><th>5</th><td>-0.169818</td><td>0.987764</td></tr><tr><th>6</th><td>-0.0359789</td><td>0.025041</td></tr><tr><th>7</th><td>1.30684</td><td>0.208835</td></tr><tr><th>8</th><td>-0.430997</td><td>0.166175</td></tr><tr><th>9</th><td>0.689487</td><td>0.757442</td></tr><tr><th>10</th><td>-0.0104582</td><td>0.0192578</td></tr><tr><th>11</th><td>0.523163</td><td>0.130495</td></tr><tr><th>12</th><td>-1.49247</td><td>0.147607</td></tr><tr><th>13</th><td>-2.26747</td><td>1.41457</td></tr><tr><th>14</th><td>-0.00530023</td><td>0.0355299</td></tr><tr><th>15</th><td>1.3914</td><td>0.322482</td></tr><tr><th>16</th><td>-0.984965</td><td>0.271633</td></tr><tr><th>17</th><td>-1.39852</td><td>1.85916</td></tr><tr><th>18</th><td>-0.0142956</td><td>0.0474296</td></tr><tr><th>19</th><td>-0.0176543</td><td>0.303546</td></tr><tr><th>20</th><td>-1.49512</td><td>0.443423</td></tr><tr><th>21</th><td>0.245496</td><td>1.02641</td></tr><tr><th>22</th><td>-0.00672689</td><td>0.0261629</td></tr><tr><th>23</th><td>-0.53829</td><td>0.163406</td></tr><tr><th>24</th><td>-3.78979</td><td>0.588186</td></tr></tbody></table>"
      ],
      "text/latex": [
       "\\begin{tabular}{r|cc}\n",
       "\t& x1 & x2\\\\\n",
       "\t\\hline\n",
       "\t& Float64 & Float64\\\\\n",
       "\t\\hline\n",
       "\t1 & 0.191049 & 0.925043 \\\\\n",
       "\t2 & -0.0335269 & 0.023596 \\\\\n",
       "\t3 & 0.596397 & 0.166432 \\\\\n",
       "\t4 & 0.416504 & 0.145398 \\\\\n",
       "\t5 & -0.169818 & 0.987764 \\\\\n",
       "\t6 & -0.0359789 & 0.025041 \\\\\n",
       "\t7 & 1.30684 & 0.208835 \\\\\n",
       "\t8 & -0.430997 & 0.166175 \\\\\n",
       "\t9 & 0.689487 & 0.757442 \\\\\n",
       "\t10 & -0.0104582 & 0.0192578 \\\\\n",
       "\t11 & 0.523163 & 0.130495 \\\\\n",
       "\t12 & -1.49247 & 0.147607 \\\\\n",
       "\t13 & -2.26747 & 1.41457 \\\\\n",
       "\t14 & -0.00530023 & 0.0355299 \\\\\n",
       "\t15 & 1.3914 & 0.322482 \\\\\n",
       "\t16 & -0.984965 & 0.271633 \\\\\n",
       "\t17 & -1.39852 & 1.85916 \\\\\n",
       "\t18 & -0.0142956 & 0.0474296 \\\\\n",
       "\t19 & -0.0176543 & 0.303546 \\\\\n",
       "\t20 & -1.49512 & 0.443423 \\\\\n",
       "\t21 & 0.245496 & 1.02641 \\\\\n",
       "\t22 & -0.00672689 & 0.0261629 \\\\\n",
       "\t23 & -0.53829 & 0.163406 \\\\\n",
       "\t24 & -3.78979 & 0.588186 \\\\\n",
       "\\end{tabular}\n"
      ],
      "text/plain": [
       "24×2 DataFrame\n",
       "│ Row │ x1          │ x2        │\n",
       "│     │ \u001b[90mFloat64\u001b[39m     │ \u001b[90mFloat64\u001b[39m   │\n",
       "├─────┼─────────────┼───────────┤\n",
       "│ 1   │ 0.191049    │ 0.925043  │\n",
       "│ 2   │ -0.0335269  │ 0.023596  │\n",
       "│ 3   │ 0.596397    │ 0.166432  │\n",
       "│ 4   │ 0.416504    │ 0.145398  │\n",
       "│ 5   │ -0.169818   │ 0.987764  │\n",
       "│ 6   │ -0.0359789  │ 0.025041  │\n",
       "│ 7   │ 1.30684     │ 0.208835  │\n",
       "│ 8   │ -0.430997   │ 0.166175  │\n",
       "│ 9   │ 0.689487    │ 0.757442  │\n",
       "│ 10  │ -0.0104582  │ 0.0192578 │\n",
       "⋮\n",
       "│ 14  │ -0.00530023 │ 0.0355299 │\n",
       "│ 15  │ 1.3914      │ 0.322482  │\n",
       "│ 16  │ -0.984965   │ 0.271633  │\n",
       "│ 17  │ -1.39852    │ 1.85916   │\n",
       "│ 18  │ -0.0142956  │ 0.0474296 │\n",
       "│ 19  │ -0.0176543  │ 0.303546  │\n",
       "│ 20  │ -1.49512    │ 0.443423  │\n",
       "│ 21  │ 0.245496    │ 1.02641   │\n",
       "│ 22  │ -0.00672689 │ 0.0261629 │\n",
       "│ 23  │ -0.53829    │ 0.163406  │\n",
       "│ 24  │ -3.78979    │ 0.588186  │"
      ]
     },
     "execution_count": 28,
     "metadata": {},
     "output_type": "execute_result"
    }
   ],
   "source": [
    "DataFrame([alpha_hat_mle_ad alpha_hat_mle_ad_se])"
   ]
  },
  {
   "cell_type": "markdown",
   "metadata": {},
   "source": [
    "# Multinomial Logit Model with Alternative-specific Covariates $Z$"
   ]
  },
  {
   "cell_type": "code",
   "execution_count": 29,
   "metadata": {
    "ExecuteTime": {
     "end_time": "2020-10-10T14:53:31.937000-04:00",
     "start_time": "2020-10-10T18:30:46.585Z"
    }
   },
   "outputs": [],
   "source": [
    "url = \"https://raw.githubusercontent.com/OU-PhD-Econometrics/fall-2020/master/ProblemSets/PS3-gev/nlsw88w.csv\"\n",
    "df = CSV.read(HTTP.get(url).body)\n",
    "X = [df.age df.white df.collgrad]\n",
    "Z = hcat(df.elnwage1, df.elnwage2, df.elnwage3, df.elnwage4, \n",
    "         df.elnwage5, df.elnwage6, df.elnwage7, df.elnwage8)\n",
    "y = df.occupation;"
   ]
  },
  {
   "cell_type": "code",
   "execution_count": 30,
   "metadata": {
    "ExecuteTime": {
     "end_time": "2020-10-10T14:53:32.823000-04:00",
     "start_time": "2020-10-10T18:30:46.595Z"
    }
   },
   "outputs": [
    {
     "data": {
      "text/plain": [
       "((2237, 13), (2237, 3), (2237,), [37, 0, 0], [6, 5, 3, 8])"
      ]
     },
     "execution_count": 30,
     "metadata": {},
     "output_type": "execute_result"
    }
   ],
   "source": [
    "size(df), size(X), size(y), X[1,:],y[1:4]"
   ]
  },
  {
   "cell_type": "code",
   "execution_count": 31,
   "metadata": {
    "ExecuteTime": {
     "end_time": "2020-10-10T14:53:32.837000-04:00",
     "start_time": "2020-10-10T18:30:46.603Z"
    }
   },
   "outputs": [
    {
     "data": {
      "text/html": [
       "<table class=\"data-frame\"><thead><tr><th></th><th>idcode</th><th>age</th><th>collgrad</th><th>occupation</th><th>white</th><th>elnwage1</th><th>elnwage2</th><th>elnwage3</th><th>elnwage4</th><th>elnwage5</th><th>elnwage6</th><th>elnwage7</th><th>elnwage8</th></tr><tr><th></th><th>Int64</th><th>Int64</th><th>Int64</th><th>Int64</th><th>Int64</th><th>Float64</th><th>Float64</th><th>Float64</th><th>Float64</th><th>Float64</th><th>Float64</th><th>Float64</th><th>Float64</th></tr></thead><tbody><p>2 rows × 13 columns</p><tr><th>1</th><td>1</td><td>37</td><td>0</td><td>6</td><td>0</td><td>2.09645</td><td>2.06278</td><td>1.83843</td><td>1.71633</td><td>1.82249</td><td>1.5234</td><td>1.2562</td><td>1.48748</td></tr><tr><th>2</th><td>2</td><td>37</td><td>0</td><td>5</td><td>0</td><td>2.16366</td><td>2.10306</td><td>1.82444</td><td>1.90102</td><td>1.81032</td><td>1.65941</td><td>1.43933</td><td>1.52887</td></tr></tbody></table>"
      ],
      "text/latex": [
       "\\begin{tabular}{r|ccccccccccccc}\n",
       "\t& idcode & age & collgrad & occupation & white & elnwage1 & elnwage2 & elnwage3 & elnwage4 & elnwage5 & elnwage6 & elnwage7 & elnwage8\\\\\n",
       "\t\\hline\n",
       "\t& Int64 & Int64 & Int64 & Int64 & Int64 & Float64 & Float64 & Float64 & Float64 & Float64 & Float64 & Float64 & Float64\\\\\n",
       "\t\\hline\n",
       "\t1 & 1 & 37 & 0 & 6 & 0 & 2.09645 & 2.06278 & 1.83843 & 1.71633 & 1.82249 & 1.5234 & 1.2562 & 1.48748 \\\\\n",
       "\t2 & 2 & 37 & 0 & 5 & 0 & 2.16366 & 2.10306 & 1.82444 & 1.90102 & 1.81032 & 1.65941 & 1.43933 & 1.52887 \\\\\n",
       "\\end{tabular}\n"
      ],
      "text/plain": [
       "2×13 DataFrame\n",
       "│ Row │ idcode │ age   │ collgrad │ occupation │ white │ elnwage1 │ elnwage2 │ elnwage3 │ elnwage4 │ elnwage5 │ elnwage6 │ elnwage7 │ elnwage8 │\n",
       "│     │ \u001b[90mInt64\u001b[39m  │ \u001b[90mInt64\u001b[39m │ \u001b[90mInt64\u001b[39m    │ \u001b[90mInt64\u001b[39m      │ \u001b[90mInt64\u001b[39m │ \u001b[90mFloat64\u001b[39m  │ \u001b[90mFloat64\u001b[39m  │ \u001b[90mFloat64\u001b[39m  │ \u001b[90mFloat64\u001b[39m  │ \u001b[90mFloat64\u001b[39m  │ \u001b[90mFloat64\u001b[39m  │ \u001b[90mFloat64\u001b[39m  │ \u001b[90mFloat64\u001b[39m  │\n",
       "├─────┼────────┼───────┼──────────┼────────────┼───────┼──────────┼──────────┼──────────┼──────────┼──────────┼──────────┼──────────┼──────────┤\n",
       "│ 1   │ 1      │ 37    │ 0        │ 6          │ 0     │ 2.09645  │ 2.06278  │ 1.83843  │ 1.71633  │ 1.82249  │ 1.5234   │ 1.2562   │ 1.48748  │\n",
       "│ 2   │ 2      │ 37    │ 0        │ 5          │ 0     │ 2.16366  │ 2.10306  │ 1.82444  │ 1.90102  │ 1.81032  │ 1.65941  │ 1.43933  │ 1.52887  │"
      ]
     },
     "execution_count": 31,
     "metadata": {},
     "output_type": "execute_result"
    }
   ],
   "source": [
    "df[1:2,:]"
   ]
  },
  {
   "cell_type": "markdown",
   "metadata": {},
   "source": [
    "\\begin{align}\n",
    "    P_{ij} &= \\begin{cases} \\frac{\\exp\\left(X_{i}\\beta_j + \\gamma(Z_{ij}-Z_{iJ})\\right)}{1+\\sum_{k=1}^{J-1}\\exp\\left(X_{i}\\beta_k + \\gamma(Z_{ik}-Z_{iJ})\\right)} ,& j=1,\\ldots,J-1\\\\\n",
    "     \\frac{1}{1+\\sum_{k=1}^{J-1}\\exp\\left(X_{i}\\beta_k + \\gamma(Z_{ik}-Z_{iJ})\\right)} ,& j=J\n",
    "     \\end{cases}\n",
    "\\end{align}"
   ]
  },
  {
   "cell_type": "markdown",
   "metadata": {},
   "source": [
    "Normalize $\\beta_J = 0$"
   ]
  },
  {
   "cell_type": "code",
   "execution_count": 32,
   "metadata": {
    "ExecuteTime": {
     "end_time": "2020-10-10T14:53:33.202000-04:00",
     "start_time": "2020-10-10T18:30:46.613Z"
    }
   },
   "outputs": [
    {
     "data": {
      "text/plain": [
       "mlogit_with_Z (generic function with 1 method)"
      ]
     },
     "execution_count": 32,
     "metadata": {},
     "output_type": "execute_result"
    }
   ],
   "source": [
    "function mlogit_with_Z(theta, X, Z, y)\n",
    "    \n",
    "    alpha = theta[1:end-1]\n",
    "    gamma = theta[end]\n",
    "    K = size(X,2)\n",
    "    J = length(unique(y))\n",
    "    N = length(y)\n",
    "    bigY = zeros(N,J)\n",
    "    for j=1:J\n",
    "        bigY[:,j] = y.==j\n",
    "    end\n",
    "    bigAlpha = [reshape(alpha,K,J-1) zeros(K)]\n",
    "    \n",
    "    T = promote_type(eltype(X),eltype(theta))\n",
    "    num   = zeros(T,N,J)\n",
    "    dem   = zeros(T,N)\n",
    "    for j=1:J\n",
    "        num[:,j] = exp.(X*bigAlpha[:,j] .+ (Z[:,j] .- Z[:,J])*gamma)\n",
    "        dem .+= num[:,j]\n",
    "    end\n",
    "    \n",
    "    P = num./repeat(dem,1,J)\n",
    "    \n",
    "    loglike = -sum( bigY.*log.(P) )\n",
    "    \n",
    "    return loglike\n",
    "end"
   ]
  },
  {
   "cell_type": "code",
   "execution_count": 33,
   "metadata": {
    "ExecuteTime": {
     "end_time": "2020-10-10T14:54:41.926000-04:00",
     "start_time": "2020-10-10T18:30:46.621Z"
    }
   },
   "outputs": [
    {
     "name": "stdout",
     "output_type": "stream",
     "text": [
      "[0.05570773127400288 0.009006608489811288; 0.08342354076033426 0.2390042493528875; -2.3448875410640393 0.29596455764141905; 0.04500088794573018 0.009279355672487905; 0.73657144530772 0.27918938270715554; -3.1532456645091793 0.2831673545000175; 0.09264615884886869 0.007682155703471486; -0.08418117998942762 0.23409181086359482; -4.2732804665511175 0.3124755780343901; 0.02390346651324 0.01005444731711928; 0.7230641744342566 0.3690323224481228; -3.7493918111151627 0.4071233609138687; 0.03608743252511334 0.009565098313695144; -0.6437694742681178 0.3572090302061202; -4.27969124108795 0.49832218529156386; 0.08531104922229273 0.0076424492278347285; -1.1714344726398032 0.26927456463084404; -6.6786729574990416 0.7230348055995423; 0.08662030223739378 0.008009171976668158; -0.7978815130206782 0.26677279532381165; -4.9691336564608175 0.36647766722664404; -0.09419279477250975 0.3790762787309687]\n"
     ]
    }
   ],
   "source": [
    "startvals = [2*rand(7*size(X,2)).-1; .1]\n",
    "td = TwiceDifferentiable(theta -> mlogit_with_Z(theta, X, Z, y), startvals; autodiff = :forward)\n",
    "# run the optimizer\n",
    "theta_hat_optim_ad = optimize(td, startvals, LBFGS(), Optim.Options(g_tol = 1e-5, iterations=100_000, show_trace=false, show_every=50))\n",
    "theta_hat_mle_ad = theta_hat_optim_ad.minimizer\n",
    "# evaluate the Hessian at the estimates\n",
    "H  = Optim.hessian!(td, theta_hat_mle_ad)\n",
    "theta_hat_mle_ad_se = sqrt.(diag(inv(H)))\n",
    "println([theta_hat_mle_ad theta_hat_mle_ad_se]) # these standard errors match Stata"
   ]
  },
  {
   "cell_type": "code",
   "execution_count": null,
   "metadata": {},
   "outputs": [],
   "source": []
  },
  {
   "cell_type": "code",
   "execution_count": 34,
   "metadata": {
    "ExecuteTime": {
     "end_time": "2020-10-10T14:54:42.122000-04:00",
     "start_time": "2020-10-10T18:30:46.633Z"
    }
   },
   "outputs": [
    {
     "data": {
      "text/plain": [
       "mlogit_with_Z2 (generic function with 1 method)"
      ]
     },
     "execution_count": 34,
     "metadata": {},
     "output_type": "execute_result"
    }
   ],
   "source": [
    "function mlogit_with_Z2(θ, X, Z, y)\n",
    "\n",
    "\n",
    "    β = θ[1:end - 1]\n",
    "    γ  = θ[end]\n",
    "\n",
    "    Y = zeros(N, J)\n",
    "    for j = 1:J\n",
    "        Y[:,j] = y .== j\n",
    "    end\n",
    "    Β = [reshape(β, K, J - 1) zeros(K)]\n",
    "    \n",
    "    V = X * Β .+  (Z .- Z[:,J]) * γ    \n",
    "    num = exp.(V)\n",
    "    dem = sum.(eachrow(num))\n",
    "    P = num ./ dem\n",
    "\n",
    "    loglike = -sum(Y .* log.(P))\n",
    "    \n",
    "    return loglike\n",
    "end"
   ]
  },
  {
   "cell_type": "code",
   "execution_count": 35,
   "metadata": {
    "ExecuteTime": {
     "end_time": "2020-10-10T14:56:04.966000-04:00",
     "start_time": "2020-10-10T18:30:46.641Z"
    }
   },
   "outputs": [
    {
     "name": "stdout",
     "output_type": "stream",
     "text": [
      "[0.05570755411539571 0.00900660124515387; 0.0834301064931775 0.23900409355238855; -2.3448858746990497 0.2959644276733717; 0.04500066934609496 0.009279349305237994; 0.7365795690277666 0.27918929862395014; -3.153243303707476 0.2831672123339646; 0.09264595895569203 0.00768214602408022; -0.0841735363991131 0.23409163065204563; -4.2732785044198405 0.3124754562212242; 0.02390329555774093 0.010054439201982398; 0.7230708216291999 0.36903219549209254; -3.749391758037522 0.40712337360742656; 0.036087164451938325 0.009565094421201112; -0.643758197842855 0.35720899324194405; -4.279684727208941 0.4983214563667787; 0.08531084999978508 0.007642438700464445; -1.1714269247026452 0.26927438314431495; -6.678663537102998 0.7230332995937045; 0.08662010773872242 0.008009161575464855; -0.7978742557272328 0.2667726094601155; -4.969128908246748 0.3664774160746197; -0.09419244280638404 0.3790762798267904]\n"
     ]
    },
    {
     "data": {
      "text/html": [
       "<table class=\"data-frame\"><thead><tr><th></th><th>x1</th><th>x2</th></tr><tr><th></th><th>Float64</th><th>Float64</th></tr></thead><tbody><p>22 rows × 2 columns</p><tr><th>1</th><td>0.0557076</td><td>0.0090066</td></tr><tr><th>2</th><td>0.0834301</td><td>0.239004</td></tr><tr><th>3</th><td>-2.34489</td><td>0.295964</td></tr><tr><th>4</th><td>0.0450007</td><td>0.00927935</td></tr><tr><th>5</th><td>0.73658</td><td>0.279189</td></tr><tr><th>6</th><td>-3.15324</td><td>0.283167</td></tr><tr><th>7</th><td>0.092646</td><td>0.00768215</td></tr><tr><th>8</th><td>-0.0841735</td><td>0.234092</td></tr><tr><th>9</th><td>-4.27328</td><td>0.312475</td></tr><tr><th>10</th><td>0.0239033</td><td>0.0100544</td></tr><tr><th>11</th><td>0.723071</td><td>0.369032</td></tr><tr><th>12</th><td>-3.74939</td><td>0.407123</td></tr><tr><th>13</th><td>0.0360872</td><td>0.00956509</td></tr><tr><th>14</th><td>-0.643758</td><td>0.357209</td></tr><tr><th>15</th><td>-4.27968</td><td>0.498321</td></tr><tr><th>16</th><td>0.0853108</td><td>0.00764244</td></tr><tr><th>17</th><td>-1.17143</td><td>0.269274</td></tr><tr><th>18</th><td>-6.67866</td><td>0.723033</td></tr><tr><th>19</th><td>0.0866201</td><td>0.00800916</td></tr><tr><th>20</th><td>-0.797874</td><td>0.266773</td></tr><tr><th>21</th><td>-4.96913</td><td>0.366477</td></tr><tr><th>22</th><td>-0.0941924</td><td>0.379076</td></tr></tbody></table>"
      ],
      "text/latex": [
       "\\begin{tabular}{r|cc}\n",
       "\t& x1 & x2\\\\\n",
       "\t\\hline\n",
       "\t& Float64 & Float64\\\\\n",
       "\t\\hline\n",
       "\t1 & 0.0557076 & 0.0090066 \\\\\n",
       "\t2 & 0.0834301 & 0.239004 \\\\\n",
       "\t3 & -2.34489 & 0.295964 \\\\\n",
       "\t4 & 0.0450007 & 0.00927935 \\\\\n",
       "\t5 & 0.73658 & 0.279189 \\\\\n",
       "\t6 & -3.15324 & 0.283167 \\\\\n",
       "\t7 & 0.092646 & 0.00768215 \\\\\n",
       "\t8 & -0.0841735 & 0.234092 \\\\\n",
       "\t9 & -4.27328 & 0.312475 \\\\\n",
       "\t10 & 0.0239033 & 0.0100544 \\\\\n",
       "\t11 & 0.723071 & 0.369032 \\\\\n",
       "\t12 & -3.74939 & 0.407123 \\\\\n",
       "\t13 & 0.0360872 & 0.00956509 \\\\\n",
       "\t14 & -0.643758 & 0.357209 \\\\\n",
       "\t15 & -4.27968 & 0.498321 \\\\\n",
       "\t16 & 0.0853108 & 0.00764244 \\\\\n",
       "\t17 & -1.17143 & 0.269274 \\\\\n",
       "\t18 & -6.67866 & 0.723033 \\\\\n",
       "\t19 & 0.0866201 & 0.00800916 \\\\\n",
       "\t20 & -0.797874 & 0.266773 \\\\\n",
       "\t21 & -4.96913 & 0.366477 \\\\\n",
       "\t22 & -0.0941924 & 0.379076 \\\\\n",
       "\\end{tabular}\n"
      ],
      "text/plain": [
       "22×2 DataFrame\n",
       "│ Row │ x1         │ x2         │\n",
       "│     │ \u001b[90mFloat64\u001b[39m    │ \u001b[90mFloat64\u001b[39m    │\n",
       "├─────┼────────────┼────────────┤\n",
       "│ 1   │ 0.0557076  │ 0.0090066  │\n",
       "│ 2   │ 0.0834301  │ 0.239004   │\n",
       "│ 3   │ -2.34489   │ 0.295964   │\n",
       "│ 4   │ 0.0450007  │ 0.00927935 │\n",
       "│ 5   │ 0.73658    │ 0.279189   │\n",
       "│ 6   │ -3.15324   │ 0.283167   │\n",
       "│ 7   │ 0.092646   │ 0.00768215 │\n",
       "│ 8   │ -0.0841735 │ 0.234092   │\n",
       "│ 9   │ -4.27328   │ 0.312475   │\n",
       "│ 10  │ 0.0239033  │ 0.0100544  │\n",
       "│ 11  │ 0.723071   │ 0.369032   │\n",
       "│ 12  │ -3.74939   │ 0.407123   │\n",
       "│ 13  │ 0.0360872  │ 0.00956509 │\n",
       "│ 14  │ -0.643758  │ 0.357209   │\n",
       "│ 15  │ -4.27968   │ 0.498321   │\n",
       "│ 16  │ 0.0853108  │ 0.00764244 │\n",
       "│ 17  │ -1.17143   │ 0.269274   │\n",
       "│ 18  │ -6.67866   │ 0.723033   │\n",
       "│ 19  │ 0.0866201  │ 0.00800916 │\n",
       "│ 20  │ -0.797874  │ 0.266773   │\n",
       "│ 21  │ -4.96913   │ 0.366477   │\n",
       "│ 22  │ -0.0941924 │ 0.379076   │"
      ]
     },
     "execution_count": 35,
     "metadata": {},
     "output_type": "execute_result"
    }
   ],
   "source": [
    "K = size(X, 2)\n",
    "J = length(unique(y))\n",
    "N = length(y)\n",
    "\n",
    "startvals = [2 * rand((J - 1) * K) .- 1; .1]\n",
    "td = TwiceDifferentiable(θ -> mlogit_with_Z(θ, X, Z, y), startvals; autodiff=:forward)\n",
    "# run the optimizer\n",
    "theta_hat_optim_ad = optimize(td, startvals, LBFGS(), Optim.Options(g_tol=1e-5, iterations=100_000, show_trace=false, show_every=50))\n",
    "theta_hat_mle_ad = theta_hat_optim_ad.minimizer\n",
    "# evaluate the Hessian at the estimates\n",
    "H  = Optim.hessian!(td, theta_hat_mle_ad)\n",
    "theta_hat_mle_ad_se = sqrt.(diag(inv(H)))\n",
    "println([theta_hat_mle_ad theta_hat_mle_ad_se]) # these standard errors match Stata\n",
    "DataFrame([theta_hat_mle_ad ,theta_hat_mle_ad_se])"
   ]
  },
  {
   "cell_type": "code",
   "execution_count": null,
   "metadata": {},
   "outputs": [],
   "source": []
  },
  {
   "cell_type": "markdown",
   "metadata": {},
   "source": [
    "# Nested Logit"
   ]
  },
  {
   "cell_type": "markdown",
   "metadata": {},
   "source": [
    "Estimate a nested logit with the following nesting structure:  \n",
    "\n",
    "* White collar occupations (indexed by WC)  \n",
    "    1 Professional/Technical  \n",
    "    2 Managers/Administrators  \n",
    "    3 Sales  \n",
    "* Blue collar occupations (indexed by BC)  \n",
    "    4 Clerical/Unskilled  \n",
    "    5 Craftsmen  \n",
    "    6 Operatives  \n",
    "    7 Transport  \n",
    "* Other occupations (indexed by Other)  \n",
    "    8 Other  "
   ]
  },
  {
   "cell_type": "markdown",
   "metadata": {},
   "source": [
    "$\\beta_{\\text{Other}}$ is normalized to 0"
   ]
  },
  {
   "cell_type": "markdown",
   "metadata": {},
   "source": [
    "\\begin{align}\n",
    "    P_{ij} &= \\begin{cases} \\frac{\\exp\\left(\\frac{X_{i}\\beta_{WC}+\\gamma(Z_{ij}-Z_{iJ})}{\\lambda_{WC}}\\right)\\left[\\sum_{\\ell\\in WC}\\exp\\left(\\frac{X_{i}\\beta_{WC}+\\gamma(Z_{i\\ell}-Z_{iJ})}{\\lambda_{WC}}\\right)\\right]^{\\lambda_{WC}-1}}{1+\\left[\\sum_{k\\in WC}\\exp\\left(\\frac{X_{i}\\beta_{WC}+\\gamma(Z_{ik}-Z_{iJ})}{\\lambda_{WC}}\\right)\\right]^{\\lambda_{WC}}+\\left[\\sum_{m\\in BC}\\exp\\left(\\frac{X_{i}\\beta_{BC}+\\gamma(Z_{im}-Z_{iJ})}{\\lambda_{BC}}\\right)\\right]^{\\lambda_{BC}}} ,& j\\in WC\\\\\n",
    "    \\frac{\\exp\\left(\\frac{X_{i}\\beta_{BC}+\\gamma(Z_{ij}-Z_{iJ})}{\\lambda_{BC}}\\right)\\left[\\sum_{\\ell\\in BC}\\exp\\left(\\frac{X_{i}\\beta_{BC}+\\gamma(Z_{i\\ell}-Z_{iJ})}{\\lambda_{BC}}\\right)\\right]^{\\lambda_{BC}-1}}{1+\\left[\\sum_{k\\in WC}\\exp\\left(\\frac{X_{i}\\beta_{WC}+\\gamma(Z_{ik}-Z_{iJ})}{\\lambda_{WC}}\\right)\\right]^{\\lambda_{WC}}+\\left[\\sum_{m\\in BC}\\exp\\left(\\frac{X_{i}\\beta_{BC}+\\gamma(Z_{im}-Z_{iJ})}{\\lambda_{BC}}\\right)\\right]^{\\lambda_{BC}}} ,& j\\in BC\\\\\n",
    "     \\frac{1}{1+\\left[\\sum_{k\\in WC}\\exp\\left(\\frac{X_{i}\\beta_{WC}+\\gamma(Z_{ik}-Z_{iJ})}{\\lambda_{WC}}\\right)\\right]^{\\lambda_{WC}}+\\left[\\sum_{m\\in BC}\\exp\\left(\\frac{X_{i}\\beta_{BC}+\\gamma(Z_{im}-Z_{iJ})}{\\lambda_{BC}}\\right)\\right]^{\\lambda_{BC}}} ,& j=J\n",
    "     \\end{cases}\n",
    "\\end{align}"
   ]
  },
  {
   "cell_type": "code",
   "execution_count": 36,
   "metadata": {
    "ExecuteTime": {
     "end_time": "2020-10-10T14:56:05.246000-04:00",
     "start_time": "2020-10-10T18:30:46.661Z"
    }
   },
   "outputs": [
    {
     "data": {
      "text/plain": [
       "nested_logit_with_Z (generic function with 1 method)"
      ]
     },
     "execution_count": 36,
     "metadata": {},
     "output_type": "execute_result"
    }
   ],
   "source": [
    "function nested_logit_with_Z(theta, X, Z, y, nesting_structure)\n",
    "    \n",
    "    alpha = theta[1:end-3]\n",
    "    lambda = theta[end-2:end-1]\n",
    "    gamma = theta[end]\n",
    "    K = size(X,2)\n",
    "    J = length(unique(y))\n",
    "    N = length(y)\n",
    "    bigY = zeros(N,J)\n",
    "    for j=1:J\n",
    "        bigY[:,j] = y.==j\n",
    "    end\n",
    "    bigAlpha = [repeat(alpha[1:K],1,length(nesting_structure[1])) repeat(alpha[K+1:2K],1,length(nesting_structure[2])) zeros(K)]\n",
    "    \n",
    "    T = promote_type(eltype(X),eltype(theta))\n",
    "    num   = zeros(T,N,J)\n",
    "    lidx  = zeros(T,N,J)\n",
    "    dem   = zeros(T,N)\n",
    "    for j=1:J\n",
    "        if j in nesting_structure[1]\n",
    "            lidx[:,j] = exp.( (X*bigAlpha[:,j] .+ (Z[:,j] .- Z[:,J])*gamma)./lambda[1] )\n",
    "        elseif j in nesting_structure[2]\n",
    "            lidx[:,j] = exp.( (X*bigAlpha[:,j] .+ (Z[:,j] .- Z[:,J])*gamma)./lambda[2] )\n",
    "        else\n",
    "            lidx[:,j] = exp.(zeros(N))\n",
    "        end\n",
    "    end\n",
    "    for j=1:J\n",
    "        if j in nesting_structure[1]\n",
    "            num[:,j] = lidx[:,j].*sum(lidx[:,nesting_structure[1][:]];dims=2).^(lambda[1]-1)\n",
    "        elseif j in nesting_structure[2]\n",
    "            num[:,j] = lidx[:,j].*sum(lidx[:,nesting_structure[2][:]];dims=2).^(lambda[2]-1)\n",
    "        else\n",
    "            num[:,j] = lidx[:,j]\n",
    "        end\n",
    "        dem .+= num[:,j]\n",
    "    end\n",
    "    \n",
    "    P = num./repeat(dem,1,J)\n",
    "    \n",
    "    loglike = -sum( bigY.*log.(P) )\n",
    "    \n",
    "    return loglike\n",
    "end"
   ]
  },
  {
   "cell_type": "code",
   "execution_count": 37,
   "metadata": {
    "ExecuteTime": {
     "end_time": "2020-10-10T14:56:06.310000-04:00",
     "start_time": "2020-10-10T18:30:46.668Z"
    }
   },
   "outputs": [
    {
     "data": {
      "text/plain": [
       "(9,)"
      ]
     },
     "execution_count": 37,
     "metadata": {},
     "output_type": "execute_result"
    }
   ],
   "source": [
    "nesting_structure = [[1 2 3], [4 5 6 7]]\n",
    "startvals = [2*rand(2*size(X,2)).-1; 1; 1; .1]\n",
    "size(startvals)"
   ]
  },
  {
   "cell_type": "code",
   "execution_count": 38,
   "metadata": {
    "ExecuteTime": {
     "end_time": "2020-10-10T14:56:16.054000-04:00",
     "start_time": "2020-10-10T18:30:46.675Z"
    }
   },
   "outputs": [
    {
     "data": {
      "text/plain": [
       "9-element Array{Float64,1}:\n",
       "  0.09829427034738843\n",
       "  0.10586649186567298\n",
       " -3.0829405550129723\n",
       "  0.11167066369792215\n",
       " -0.7882728279263643\n",
       " -4.351956598892889\n",
       " -0.2841165381313727\n",
       " -0.24717966053110263\n",
       "  0.6722654482132407"
      ]
     },
     "execution_count": 38,
     "metadata": {},
     "output_type": "execute_result"
    }
   ],
   "source": [
    "td = TwiceDifferentiable(theta -> nested_logit_with_Z(theta, X, Z, y, nesting_structure), startvals; autodiff = :forward)\n",
    "\n",
    "# run the optimizer\n",
    "nlogit_theta_hat_optim_ad = optimize(td, startvals, LBFGS(), \n",
    "        Optim.Options(g_tol = 1e-5, iterations=100_000, show_trace=false, show_every=50))\n",
    "nlogit_theta_hat_mle_ad = nlogit_theta_hat_optim_ad.minimizer\n",
    "\n",
    "# evaluate the Hessian at the estimates\n",
    "#H  = Optim.hessian!(td, nlogit_theta_hat_mle_ad)\n",
    "#nlogit_theta_hat_mle_ad_se = sqrt.(diag(inv(H)))"
   ]
  },
  {
   "cell_type": "code",
   "execution_count": 39,
   "metadata": {
    "ExecuteTime": {
     "end_time": "2020-10-10T14:56:17.474000-04:00",
     "start_time": "2020-10-10T18:30:46.680Z"
    }
   },
   "outputs": [
    {
     "ename": "LoadError",
     "evalue": "UndefVarError: nlogit_theta_hat_mle_ad_se not defined",
     "output_type": "error",
     "traceback": [
      "UndefVarError: nlogit_theta_hat_mle_ad_se not defined",
      "",
      "Stacktrace:",
      " [1] top-level scope at In[39]:1",
      " [2] include_string(::Function, ::Module, ::String, ::String) at .\\loading.jl:1091",
      " [3] execute_code(::String, ::String) at C:\\Users\\jhu\\.julia\\packages\\IJulia\\rWZ9e\\src\\execute_request.jl:27",
      " [4] execute_request(::ZMQ.Socket, ::IJulia.Msg) at C:\\Users\\jhu\\.julia\\packages\\IJulia\\rWZ9e\\src\\execute_request.jl:86",
      " [5] #invokelatest#1 at .\\essentials.jl:710 [inlined]",
      " [6] invokelatest at .\\essentials.jl:709 [inlined]",
      " [7] eventloop(::ZMQ.Socket) at C:\\Users\\jhu\\.julia\\packages\\IJulia\\rWZ9e\\src\\eventloop.jl:8",
      " [8] (::IJulia.var\"#15#18\")() at .\\task.jl:356"
     ]
    }
   ],
   "source": [
    "DataFrame([nlogit_theta_hat_mle_ad nlogit_theta_hat_mle_ad_se]) # these standard errors match Stata"
   ]
  },
  {
   "cell_type": "markdown",
   "metadata": {},
   "source": [
    "# multinomial logit (with alternative-specific covariates Z) "
   ]
  },
  {
   "cell_type": "code",
   "execution_count": 40,
   "metadata": {
    "ExecuteTime": {
     "end_time": "2020-10-10T14:56:18.041000-04:00",
     "start_time": "2020-10-10T18:30:46.689Z"
    }
   },
   "outputs": [
    {
     "name": "stdout",
     "output_type": "stream",
     "text": [
      "/c/Users/jhu/Documents/GitHub/fall-2020/ProblemSets\n"
     ]
    }
   ],
   "source": [
    ";pwd"
   ]
  },
  {
   "cell_type": "code",
   "execution_count": 41,
   "metadata": {
    "ExecuteTime": {
     "end_time": "2020-10-10T14:56:18.305000-04:00",
     "start_time": "2020-10-10T18:30:46.695Z"
    }
   },
   "outputs": [
    {
     "data": {
      "text/plain": [
       "lgwt (generic function with 3 methods)"
      ]
     },
     "execution_count": 41,
     "metadata": {},
     "output_type": "execute_result"
    }
   ],
   "source": [
    "include(\"PS4-mixture/lgwt.jl\")"
   ]
  },
  {
   "cell_type": "code",
   "execution_count": 42,
   "metadata": {
    "ExecuteTime": {
     "end_time": "2020-10-10T14:56:19.234000-04:00",
     "start_time": "2020-10-10T18:30:46.701Z"
    }
   },
   "outputs": [],
   "source": [
    "url = \"https://raw.githubusercontent.com/OU-PhD-Econometrics/fall-2020/master/ProblemSets/PS4-mixture/nlsw88t.csv\"\n",
    "df = CSV.read(HTTP.get(url).body)\n",
    "X = [df.age df.white df.collgrad]\n",
    "Z = hcat(df.elnwage1, df.elnwage2, df.elnwage3, df.elnwage4, \n",
    "         df.elnwage5, df.elnwage6, df.elnwage7, df.elnwage8)\n",
    "y = df.occ_code;"
   ]
  },
  {
   "cell_type": "code",
   "execution_count": 43,
   "metadata": {
    "ExecuteTime": {
     "end_time": "2020-10-10T14:56:19.249000-04:00",
     "start_time": "2020-10-10T18:30:46.708Z"
    }
   },
   "outputs": [
    {
     "data": {
      "text/plain": [
       "((28365, 14), (28365, 3), (28365,), [18, 0, 0], [3, 6, 6, 6])"
      ]
     },
     "execution_count": 43,
     "metadata": {},
     "output_type": "execute_result"
    }
   ],
   "source": [
    "size(df),size(X), size(y), X[1,:],y[1:4]"
   ]
  },
  {
   "cell_type": "code",
   "execution_count": 44,
   "metadata": {
    "ExecuteTime": {
     "end_time": "2020-10-10T14:56:19.268000-04:00",
     "start_time": "2020-10-10T18:30:46.717Z"
    }
   },
   "outputs": [
    {
     "data": {
      "text/html": [
       "<table class=\"data-frame\"><thead><tr><th></th><th>idcode</th><th>year</th><th>age</th><th>collgrad</th><th>occ_code</th><th>white</th><th>elnwage1</th><th>elnwage2</th><th>elnwage3</th><th>elnwage4</th><th>elnwage5</th><th>elnwage6</th><th>elnwage7</th><th>elnwage8</th></tr><tr><th></th><th>Int64</th><th>Int64</th><th>Int64</th><th>Int64</th><th>Int64</th><th>Int64</th><th>Float64</th><th>Float64</th><th>Float64</th><th>Float64</th><th>Float64</th><th>Float64</th><th>Float64</th><th>Float64</th></tr></thead><tbody><p>4 rows × 14 columns</p><tr><th>1</th><td>1</td><td>70</td><td>18</td><td>0</td><td>3</td><td>0</td><td>1.54409</td><td>1.39779</td><td>1.5373</td><td>1.24634</td><td>1.32091</td><td>1.38799</td><td>1.05836</td><td>1.48378</td></tr><tr><th>2</th><td>1</td><td>71</td><td>19</td><td>0</td><td>6</td><td>0</td><td>1.57714</td><td>1.3839</td><td>1.54069</td><td>1.2108</td><td>1.30514</td><td>1.37949</td><td>1.11104</td><td>1.48257</td></tr><tr><th>3</th><td>1</td><td>72</td><td>20</td><td>0</td><td>6</td><td>0</td><td>1.62328</td><td>1.43399</td><td>1.56725</td><td>1.24377</td><td>1.36105</td><td>1.40231</td><td>1.15108</td><td>1.49813</td></tr><tr><th>4</th><td>1</td><td>73</td><td>21</td><td>0</td><td>6</td><td>0</td><td>1.66722</td><td>1.48198</td><td>1.5924</td><td>1.27541</td><td>1.41339</td><td>1.42391</td><td>1.18879</td><td>1.5135</td></tr></tbody></table>"
      ],
      "text/latex": [
       "\\begin{tabular}{r|cccccccccccccc}\n",
       "\t& idcode & year & age & collgrad & occ\\_code & white & elnwage1 & elnwage2 & elnwage3 & elnwage4 & elnwage5 & elnwage6 & elnwage7 & elnwage8\\\\\n",
       "\t\\hline\n",
       "\t& Int64 & Int64 & Int64 & Int64 & Int64 & Int64 & Float64 & Float64 & Float64 & Float64 & Float64 & Float64 & Float64 & Float64\\\\\n",
       "\t\\hline\n",
       "\t1 & 1 & 70 & 18 & 0 & 3 & 0 & 1.54409 & 1.39779 & 1.5373 & 1.24634 & 1.32091 & 1.38799 & 1.05836 & 1.48378 \\\\\n",
       "\t2 & 1 & 71 & 19 & 0 & 6 & 0 & 1.57714 & 1.3839 & 1.54069 & 1.2108 & 1.30514 & 1.37949 & 1.11104 & 1.48257 \\\\\n",
       "\t3 & 1 & 72 & 20 & 0 & 6 & 0 & 1.62328 & 1.43399 & 1.56725 & 1.24377 & 1.36105 & 1.40231 & 1.15108 & 1.49813 \\\\\n",
       "\t4 & 1 & 73 & 21 & 0 & 6 & 0 & 1.66722 & 1.48198 & 1.5924 & 1.27541 & 1.41339 & 1.42391 & 1.18879 & 1.5135 \\\\\n",
       "\\end{tabular}\n"
      ],
      "text/plain": [
       "4×14 DataFrame\n",
       "│ Row │ idcode │ year  │ age   │ collgrad │ occ_code │ white │ elnwage1 │ elnwage2 │ elnwage3 │ elnwage4 │ elnwage5 │ elnwage6 │ elnwage7 │ elnwage8 │\n",
       "│     │ \u001b[90mInt64\u001b[39m  │ \u001b[90mInt64\u001b[39m │ \u001b[90mInt64\u001b[39m │ \u001b[90mInt64\u001b[39m    │ \u001b[90mInt64\u001b[39m    │ \u001b[90mInt64\u001b[39m │ \u001b[90mFloat64\u001b[39m  │ \u001b[90mFloat64\u001b[39m  │ \u001b[90mFloat64\u001b[39m  │ \u001b[90mFloat64\u001b[39m  │ \u001b[90mFloat64\u001b[39m  │ \u001b[90mFloat64\u001b[39m  │ \u001b[90mFloat64\u001b[39m  │ \u001b[90mFloat64\u001b[39m  │\n",
       "├─────┼────────┼───────┼───────┼──────────┼──────────┼───────┼──────────┼──────────┼──────────┼──────────┼──────────┼──────────┼──────────┼──────────┤\n",
       "│ 1   │ 1      │ 70    │ 18    │ 0        │ 3        │ 0     │ 1.54409  │ 1.39779  │ 1.5373   │ 1.24634  │ 1.32091  │ 1.38799  │ 1.05836  │ 1.48378  │\n",
       "│ 2   │ 1      │ 71    │ 19    │ 0        │ 6        │ 0     │ 1.57714  │ 1.3839   │ 1.54069  │ 1.2108   │ 1.30514  │ 1.37949  │ 1.11104  │ 1.48257  │\n",
       "│ 3   │ 1      │ 72    │ 20    │ 0        │ 6        │ 0     │ 1.62328  │ 1.43399  │ 1.56725  │ 1.24377  │ 1.36105  │ 1.40231  │ 1.15108  │ 1.49813  │\n",
       "│ 4   │ 1      │ 73    │ 21    │ 0        │ 6        │ 0     │ 1.66722  │ 1.48198  │ 1.5924   │ 1.27541  │ 1.41339  │ 1.42391  │ 1.18879  │ 1.5135   │"
      ]
     },
     "execution_count": 44,
     "metadata": {},
     "output_type": "execute_result"
    }
   ],
   "source": [
    "df[1:4,:]"
   ]
  },
  {
   "cell_type": "code",
   "execution_count": 45,
   "metadata": {
    "ExecuteTime": {
     "end_time": "2020-10-10T14:56:19.290000-04:00",
     "start_time": "2020-10-10T18:30:46.725Z"
    }
   },
   "outputs": [
    {
     "data": {
      "text/plain": [
       "mlogit_with_Z (generic function with 1 method)"
      ]
     },
     "execution_count": 45,
     "metadata": {},
     "output_type": "execute_result"
    }
   ],
   "source": [
    "function mlogit_with_Z(theta, X, Z, y)\n",
    "        \n",
    "        alpha = theta[1:end-1]\n",
    "        gamma = theta[end]\n",
    "        K = size(X,2)\n",
    "        J = length(unique(y))\n",
    "        N = length(y)\n",
    "        bigY = zeros(N,J)\n",
    "        for j=1:J\n",
    "            bigY[:,j] = y.==j\n",
    "        end\n",
    "        bigAlpha = [reshape(alpha,K,J-1) zeros(K)]\n",
    "        \n",
    "        T = promote_type(eltype(X),eltype(theta))\n",
    "        num   = zeros(T,N,J)\n",
    "        dem   = zeros(T,N)\n",
    "        for j=1:J\n",
    "            num[:,j] = exp.(X*bigAlpha[:,j] .+ (Z[:,j] .- Z[:,J])*gamma)\n",
    "            dem .+= num[:,j]\n",
    "        end\n",
    "        \n",
    "        P = num./repeat(dem,1,J)\n",
    "        \n",
    "        loglike = -sum( bigY.*log.(P) )\n",
    "        \n",
    "        return loglike\n",
    "    end"
   ]
  },
  {
   "cell_type": "code",
   "execution_count": 46,
   "metadata": {
    "ExecuteTime": {
     "end_time": "2020-10-10T14:56:19.303000-04:00",
     "start_time": "2020-10-10T18:30:46.734Z"
    }
   },
   "outputs": [
    {
     "data": {
      "text/plain": [
       "22-element Array{Float64,1}:\n",
       "  0.0403744\n",
       "  0.2439942\n",
       " -1.57132\n",
       "  0.0433254\n",
       "  0.1468556\n",
       " -2.959103\n",
       "  0.1020574\n",
       "  0.7473086\n",
       " -4.12005\n",
       "  0.0375628\n",
       "  0.6884899\n",
       " -3.65577\n",
       "  0.0204543\n",
       " -0.3584007\n",
       " -4.376929\n",
       "  0.1074636\n",
       " -0.5263738\n",
       " -6.199197\n",
       "  0.1168824\n",
       " -0.2870554\n",
       " -5.322248\n",
       "  1.307477"
      ]
     },
     "execution_count": 46,
     "metadata": {},
     "output_type": "execute_result"
    }
   ],
   "source": [
    "#startvals = [2*rand(7*size(X,2)).-1; .1]\n",
    "startvals = [0.0403744\n",
    "  0.2439942\n",
    " -1.57132\n",
    "  0.0433254\n",
    "  0.1468556\n",
    " -2.959103\n",
    "  0.1020574\n",
    "  0.7473086\n",
    " -4.12005\n",
    "  0.0375628\n",
    "  0.6884899\n",
    " -3.65577\n",
    "  0.0204543\n",
    " -0.3584007\n",
    " -4.376929\n",
    "  0.1074636\n",
    " -0.5263738\n",
    " -6.199197\n",
    "  0.1168824\n",
    " -0.2870554\n",
    " -5.322248\n",
    "  1.307477\n",
    "]"
   ]
  },
  {
   "cell_type": "code",
   "execution_count": 47,
   "metadata": {
    "ExecuteTime": {
     "end_time": "2020-10-10T14:56:38.780000-04:00",
     "start_time": "2020-10-10T18:30:46.741Z"
    }
   },
   "outputs": [
    {
     "data": {
      "text/plain": [
       " * Status: success\n",
       "\n",
       " * Candidate solution\n",
       "    Final objective value:     4.488317e+04\n",
       "\n",
       " * Found with\n",
       "    Algorithm:     L-BFGS\n",
       "\n",
       " * Convergence measures\n",
       "    |x - x'|               = 6.71e-09 ≰ 0.0e+00\n",
       "    |x - x'|/|x'|          = 1.08e-09 ≰ 0.0e+00\n",
       "    |f(x) - f(x')|         = 0.00e+00 ≤ 0.0e+00\n",
       "    |f(x) - f(x')|/|f(x')| = 0.00e+00 ≤ 0.0e+00\n",
       "    |g(x)|                 = 2.67e-04 ≰ 1.0e-05\n",
       "\n",
       " * Work counters\n",
       "    Seconds run:   15  (vs limit Inf)\n",
       "    Iterations:    15\n",
       "    f(x) calls:    49\n",
       "    ∇f(x) calls:   49\n"
      ]
     },
     "execution_count": 47,
     "metadata": {},
     "output_type": "execute_result"
    }
   ],
   "source": [
    "td = TwiceDifferentiable(theta -> mlogit_with_Z(theta, X, Z, y), startvals; autodiff = :forward)\n",
    "# run the optimizer\n",
    "theta_hat_optim_ad = optimize(td, startvals, LBFGS(), \n",
    "                    Optim.Options(g_tol = 1e-5, iterations=100_000, show_trace=false, show_every=50))"
   ]
  },
  {
   "cell_type": "code",
   "execution_count": 48,
   "metadata": {
    "ExecuteTime": {
     "end_time": "2020-10-10T14:57:01.362000-04:00",
     "start_time": "2020-10-10T18:30:46.749Z"
    }
   },
   "outputs": [
    {
     "data": {
      "text/html": [
       "<table class=\"data-frame\"><thead><tr><th></th><th>x1</th><th>x2</th></tr><tr><th></th><th>Float64</th><th>Float64</th></tr></thead><tbody><p>22 rows × 2 columns</p><tr><th>1</th><td>0.0403745</td><td>0.0028898</td></tr><tr><th>2</th><td>0.243995</td><td>0.0714891</td></tr><tr><th>3</th><td>-1.57132</td><td>0.0875003</td></tr><tr><th>4</th><td>0.0433255</td><td>0.00293729</td></tr><tr><th>5</th><td>0.146856</td><td>0.078683</td></tr><tr><th>6</th><td>-2.95911</td><td>0.0927874</td></tr><tr><th>7</th><td>0.102057</td><td>0.00254176</td></tr><tr><th>8</th><td>0.747309</td><td>0.0675232</td></tr><tr><th>9</th><td>-4.12005</td><td>0.0901064</td></tr><tr><th>10</th><td>0.0375629</td><td>0.00320097</td></tr><tr><th>11</th><td>0.68849</td><td>0.0884348</td></tr><tr><th>12</th><td>-3.65577</td><td>0.111402</td></tr><tr><th>13</th><td>0.0204543</td><td>0.00348658</td></tr><tr><th>14</th><td>-0.3584</td><td>0.107959</td></tr><tr><th>15</th><td>-4.37693</td><td>0.199799</td></tr><tr><th>16</th><td>0.107464</td><td>0.00259943</td></tr><tr><th>17</th><td>-0.526373</td><td>0.0739877</td></tr><tr><th>18</th><td>-6.1992</td><td>0.178096</td></tr><tr><th>19</th><td>0.116882</td><td>0.00281366</td></tr><tr><th>20</th><td>-0.287055</td><td>0.0726636</td></tr><tr><th>21</th><td>-5.32225</td><td>0.104839</td></tr><tr><th>22</th><td>1.30748</td><td>0.124669</td></tr></tbody></table>"
      ],
      "text/latex": [
       "\\begin{tabular}{r|cc}\n",
       "\t& x1 & x2\\\\\n",
       "\t\\hline\n",
       "\t& Float64 & Float64\\\\\n",
       "\t\\hline\n",
       "\t1 & 0.0403745 & 0.0028898 \\\\\n",
       "\t2 & 0.243995 & 0.0714891 \\\\\n",
       "\t3 & -1.57132 & 0.0875003 \\\\\n",
       "\t4 & 0.0433255 & 0.00293729 \\\\\n",
       "\t5 & 0.146856 & 0.078683 \\\\\n",
       "\t6 & -2.95911 & 0.0927874 \\\\\n",
       "\t7 & 0.102057 & 0.00254176 \\\\\n",
       "\t8 & 0.747309 & 0.0675232 \\\\\n",
       "\t9 & -4.12005 & 0.0901064 \\\\\n",
       "\t10 & 0.0375629 & 0.00320097 \\\\\n",
       "\t11 & 0.68849 & 0.0884348 \\\\\n",
       "\t12 & -3.65577 & 0.111402 \\\\\n",
       "\t13 & 0.0204543 & 0.00348658 \\\\\n",
       "\t14 & -0.3584 & 0.107959 \\\\\n",
       "\t15 & -4.37693 & 0.199799 \\\\\n",
       "\t16 & 0.107464 & 0.00259943 \\\\\n",
       "\t17 & -0.526373 & 0.0739877 \\\\\n",
       "\t18 & -6.1992 & 0.178096 \\\\\n",
       "\t19 & 0.116882 & 0.00281366 \\\\\n",
       "\t20 & -0.287055 & 0.0726636 \\\\\n",
       "\t21 & -5.32225 & 0.104839 \\\\\n",
       "\t22 & 1.30748 & 0.124669 \\\\\n",
       "\\end{tabular}\n"
      ],
      "text/plain": [
       "22×2 DataFrame\n",
       "│ Row │ x1        │ x2         │\n",
       "│     │ \u001b[90mFloat64\u001b[39m   │ \u001b[90mFloat64\u001b[39m    │\n",
       "├─────┼───────────┼────────────┤\n",
       "│ 1   │ 0.0403745 │ 0.0028898  │\n",
       "│ 2   │ 0.243995  │ 0.0714891  │\n",
       "│ 3   │ -1.57132  │ 0.0875003  │\n",
       "│ 4   │ 0.0433255 │ 0.00293729 │\n",
       "│ 5   │ 0.146856  │ 0.078683   │\n",
       "│ 6   │ -2.95911  │ 0.0927874  │\n",
       "│ 7   │ 0.102057  │ 0.00254176 │\n",
       "│ 8   │ 0.747309  │ 0.0675232  │\n",
       "│ 9   │ -4.12005  │ 0.0901064  │\n",
       "│ 10  │ 0.0375629 │ 0.00320097 │\n",
       "│ 11  │ 0.68849   │ 0.0884348  │\n",
       "│ 12  │ -3.65577  │ 0.111402   │\n",
       "│ 13  │ 0.0204543 │ 0.00348658 │\n",
       "│ 14  │ -0.3584   │ 0.107959   │\n",
       "│ 15  │ -4.37693  │ 0.199799   │\n",
       "│ 16  │ 0.107464  │ 0.00259943 │\n",
       "│ 17  │ -0.526373 │ 0.0739877  │\n",
       "│ 18  │ -6.1992   │ 0.178096   │\n",
       "│ 19  │ 0.116882  │ 0.00281366 │\n",
       "│ 20  │ -0.287055 │ 0.0726636  │\n",
       "│ 21  │ -5.32225  │ 0.104839   │\n",
       "│ 22  │ 1.30748   │ 0.124669   │"
      ]
     },
     "execution_count": 48,
     "metadata": {},
     "output_type": "execute_result"
    }
   ],
   "source": [
    "theta_hat_mle_ad = theta_hat_optim_ad.minimizer\n",
    "H  = Optim.hessian!(td, theta_hat_mle_ad)\n",
    "theta_hat_mle_ad_se = sqrt.(diag(inv(H)))\n",
    "DataFrame([theta_hat_mle_ad theta_hat_mle_ad_se]) # these standard errors match Stata"
   ]
  },
  {
   "cell_type": "markdown",
   "metadata": {},
   "source": [
    "# mixed logit "
   ]
  },
  {
   "cell_type": "code",
   "execution_count": 49,
   "metadata": {
    "ExecuteTime": {
     "end_time": "2020-10-10T14:57:06.707000-04:00",
     "start_time": "2020-10-10T18:30:46.758Z"
    }
   },
   "outputs": [
    {
     "data": {
      "text/plain": [
       "2.6454533008646308e-17"
      ]
     },
     "execution_count": 49,
     "metadata": {},
     "output_type": "execute_result"
    }
   ],
   "source": [
    "# define distribution\n",
    "d = Normal(0,1) # mean=0, standard deviation=1\n",
    "\n",
    "# get quadrature nodes and weights for 7 grid points\n",
    "nodes, weights = lgwt(7,-4,4)\n",
    "\n",
    "# now compute the integral over the density and verify it's 1\n",
    "sum(weights.*pdf.(d,nodes))\n",
    "\n",
    "# now compute the expectation and verify it's 0\n",
    "sum(weights.*nodes.*pdf.(d,nodes))"
   ]
  },
  {
   "cell_type": "code",
   "execution_count": 50,
   "metadata": {
    "ExecuteTime": {
     "end_time": "2020-10-10T14:57:06.999000-04:00",
     "start_time": "2020-10-10T18:30:46.763Z"
    }
   },
   "outputs": [
    {
     "data": {
      "text/plain": [
       "4.038977384853661"
      ]
     },
     "execution_count": 50,
     "metadata": {},
     "output_type": "execute_result"
    }
   ],
   "source": [
    "d = Normal(0,2)\n",
    "\n",
    "nodes, weights = lgwt(7,-10,10)\n",
    "sum(weights .* nodes.^2 .* pdf.(d,nodes))\n",
    "\n",
    "nodes, weights = lgwt(10,-10,10)\n",
    "sum(weights .* nodes.^2 .* pdf.(d,nodes))"
   ]
  },
  {
   "cell_type": "code",
   "execution_count": 51,
   "metadata": {
    "ExecuteTime": {
     "end_time": "2020-10-10T14:57:07.249000-04:00",
     "start_time": "2020-10-10T18:30:46.771Z"
    }
   },
   "outputs": [
    {
     "data": {
      "text/plain": [
       "1000000-element Array{Float64,1}:\n",
       "  4.070713908168839\n",
       " -3.852308047314703\n",
       "  4.683207177063316\n",
       "  8.526352865325872\n",
       "  6.186739543836829\n",
       "  0.1865782086046508\n",
       "  3.1342593924678486\n",
       " -6.839183496257624\n",
       "  4.448562033854326\n",
       " -1.7085196156614444\n",
       "  0.5343517630544437\n",
       "  4.723446681645118\n",
       "  9.487440968202165\n",
       "  ⋮\n",
       "  8.291261860641637\n",
       "  9.50520490339705\n",
       "  7.228548558080554\n",
       "  8.825946422805643\n",
       "  4.557403397587958\n",
       " -2.5759613271378257\n",
       "  3.419420293110562\n",
       "  0.6801733516564479\n",
       " -3.2013875672136916\n",
       "  9.765552765355523\n",
       " -2.46708171114272\n",
       "  8.798004302515285"
      ]
     },
     "execution_count": 51,
     "metadata": {},
     "output_type": "execute_result"
    }
   ],
   "source": [
    "b = 10\n",
    "a = -10\n",
    "c = Uniform(a,b)\n",
    "draws = rand(c,1_000_000)"
   ]
  },
  {
   "cell_type": "code",
   "execution_count": 52,
   "metadata": {
    "ExecuteTime": {
     "end_time": "2020-10-10T14:57:07.703000-04:00",
     "start_time": "2020-10-10T18:30:46.776Z"
    }
   },
   "outputs": [
    {
     "name": "stdout",
     "output_type": "stream",
     "text": [
      "4.003580702832545\n"
     ]
    }
   ],
   "source": [
    "# estimate of variance\n",
    "    (b-a)*mean(draws.^2 .* pdf.(d,draws)) |> println"
   ]
  },
  {
   "cell_type": "code",
   "execution_count": 53,
   "metadata": {
    "ExecuteTime": {
     "end_time": "2020-10-10T14:57:07.765000-04:00",
     "start_time": "2020-10-10T18:30:46.783Z"
    }
   },
   "outputs": [
    {
     "name": "stdout",
     "output_type": "stream",
     "text": [
      "0.002088000105673679\n"
     ]
    }
   ],
   "source": [
    "# estimate of mean\n",
    "    (b-a)*mean(draws .* pdf.(d,draws)) |> println"
   ]
  },
  {
   "cell_type": "code",
   "execution_count": 54,
   "metadata": {
    "ExecuteTime": {
     "end_time": "2020-10-10T14:57:07.901000-04:00",
     "start_time": "2020-10-10T18:30:46.790Z"
    }
   },
   "outputs": [
    {
     "name": "stdout",
     "output_type": "stream",
     "text": [
      "1.0001736020694412\n"
     ]
    }
   ],
   "source": [
    "# estimate of integral over support\n",
    "    (b-a)*mean(pdf.(d,draws)) |> println"
   ]
  },
  {
   "cell_type": "code",
   "execution_count": 55,
   "metadata": {
    "ExecuteTime": {
     "end_time": "2020-10-10T14:57:08.073000-04:00",
     "start_time": "2020-10-10T18:30:46.797Z"
    }
   },
   "outputs": [
    {
     "name": "stdout",
     "output_type": "stream",
     "text": [
      "4.003580702832545\n",
      "0.002088000105673679\n",
      "1.0001736020694412\n"
     ]
    }
   ],
   "source": [
    "# now repeat with only 1_000 draws\n",
    "    draw2 = rand(c,1_000)\n",
    "    (b-a)*mean(draws.^2 .* pdf.(d,draws)) |> println\n",
    "    (b-a)*mean(draws .* pdf.(d,draws)) |> println\n",
    "    (b-a)*mean(pdf.(d,draws)) |> println\n"
   ]
  },
  {
   "cell_type": "code",
   "execution_count": null,
   "metadata": {},
   "outputs": [],
   "source": []
  },
  {
   "cell_type": "code",
   "execution_count": 56,
   "metadata": {
    "ExecuteTime": {
     "end_time": "2020-10-10T14:57:08.308000-04:00",
     "start_time": "2020-10-10T18:30:46.807Z"
    }
   },
   "outputs": [
    {
     "data": {
      "text/plain": [
       "mixlogit_quad_with_Z (generic function with 1 method)"
      ]
     },
     "execution_count": 56,
     "metadata": {},
     "output_type": "execute_result"
    }
   ],
   "source": [
    "function mixlogit_quad_with_Z(theta, X, Z, y, R)\n",
    "    \n",
    "    alpha = theta[1:end-2]\n",
    "    gamma = theta[end-1]\n",
    "    sigma = exp(theta[end]) # makes sure sigma is never 0 (which would make the Normal density undefined)\n",
    "    K = size(X,2)\n",
    "    J = length(unique(y))\n",
    "    N = length(y)\n",
    "    bigY = zeros(N,J)\n",
    "    for j=1:J\n",
    "        bigY[:,j] = y.==j\n",
    "    end\n",
    "    bigAlpha = [reshape(alpha,K,J-1) zeros(K)]\n",
    "    \n",
    "    # now write P as a function of variable of integration\n",
    "    T = promote_type(eltype(X),eltype(theta))\n",
    "    function like_int(T,N,J,X,Z,bigAlpha,gamma,sigma,R)\n",
    "        nodes, weights = lgwt(R,-4*sigma,4*sigma)\n",
    "        out = zeros(T,N)\n",
    "        for r=1:R\n",
    "            num   = zeros(T,N,J)\n",
    "            dem   = zeros(T,N)\n",
    "            P     = zeros(T,N,J)\n",
    "            for j=1:J\n",
    "                num[:,j] = exp.(X*bigAlpha[:,j] .+ (Z[:,j] .- Z[:,J])*nodes[r])\n",
    "                dem .+= num[:,j]\n",
    "            end\n",
    "            P = num./repeat(dem,1,J)\n",
    "            out .+= vec( weights[r]*( prod(P.^bigY; dims=2) )*pdf(Normal(gamma,sigma),nodes[r]) ) # why do we have to use vec here? because vectors in Julia are \"flat\" and the vec operator flattens a one-dimensional array.\n",
    "        end\n",
    "        return out\n",
    "    end\n",
    "    \n",
    "    intlike = like_int(T,N,J,X,Z,bigAlpha,gamma,sigma,R)\n",
    "    loglike = -sum(log.(intlike))\n",
    "    return loglike\n",
    "end"
   ]
  },
  {
   "cell_type": "code",
   "execution_count": 57,
   "metadata": {
    "ExecuteTime": {
     "end_time": "2020-10-10T14:57:08.320000-04:00",
     "start_time": "2020-10-10T18:30:46.815Z"
    }
   },
   "outputs": [
    {
     "data": {
      "text/plain": [
       "23-element Array{Float64,1}:\n",
       "  0.0403744\n",
       "  0.2439942\n",
       " -1.57132\n",
       "  0.0433254\n",
       "  0.1468556\n",
       " -2.959103\n",
       "  0.1020574\n",
       "  0.7473086\n",
       " -4.12005\n",
       "  0.0375628\n",
       "  0.6884899\n",
       " -3.65577\n",
       "  0.0204543\n",
       " -0.3584007\n",
       " -4.376929\n",
       "  0.1074636\n",
       " -0.5263738\n",
       " -6.199197\n",
       "  0.1168824\n",
       " -0.2870554\n",
       " -5.322248\n",
       "  1.307477\n",
       "  2.0"
      ]
     },
     "execution_count": 57,
     "metadata": {},
     "output_type": "execute_result"
    }
   ],
   "source": [
    "startvals = [\n",
    "    0.0403744\n",
    "  0.2439942\n",
    " -1.57132\n",
    "  0.0433254\n",
    "  0.1468556\n",
    " -2.959103\n",
    "  0.1020574\n",
    "  0.7473086\n",
    " -4.12005\n",
    "  0.0375628\n",
    "  0.6884899\n",
    " -3.65577\n",
    "  0.0204543\n",
    " -0.3584007\n",
    " -4.376929\n",
    "  0.1074636\n",
    " -0.5263738\n",
    " -6.199197\n",
    "  0.1168824\n",
    " -0.2870554\n",
    " -5.322248\n",
    "  1.307477\n",
    "  2.0\n",
    "]"
   ]
  },
  {
   "cell_type": "code",
   "execution_count": 58,
   "metadata": {
    "ExecuteTime": {
     "end_time": "2020-10-10T14:57:08.328000-04:00",
     "start_time": "2020-10-10T18:30:46.823Z"
    }
   },
   "outputs": [
    {
     "data": {
      "text/plain": [
       "23-element Array{Float64,1}:\n",
       " -0.0493358\n",
       " -0.7359427\n",
       "  1.161792\n",
       " -0.0127601\n",
       "  0.1499798\n",
       " -2.438863\n",
       "  0.0979789\n",
       "  0.6508201\n",
       " -4.049595\n",
       "  0.055819\n",
       "  0.2773671\n",
       " -4.34042\n",
       "  0.0203963\n",
       " -0.6880248\n",
       " -4.794188\n",
       "  0.1288023\n",
       " -0.9974547\n",
       " -7.914539\n",
       "  0.118583\n",
       " -0.7813687\n",
       " -5.609388\n",
       "  4.50982\n",
       "  2.2925"
      ]
     },
     "execution_count": 58,
     "metadata": {},
     "output_type": "execute_result"
    }
   ],
   "source": [
    "startvals = [\n",
    "    -0.0493358\n",
    " -0.7359427\n",
    "  1.161792\n",
    " -0.0127601\n",
    "  0.1499798\n",
    " -2.438863\n",
    "  0.0979789\n",
    "  0.6508201\n",
    " -4.049595\n",
    "  0.055819\n",
    "  0.2773671\n",
    " -4.34042\n",
    "  0.0203963\n",
    " -0.6880248\n",
    " -4.794188\n",
    "  0.1288023\n",
    " -0.9974547\n",
    " -7.914539\n",
    "  0.118583\n",
    " -0.7813687\n",
    " -5.609388\n",
    "  4.50982\n",
    "  2.2925\n",
    "]"
   ]
  },
  {
   "cell_type": "code",
   "execution_count": 59,
   "metadata": {
    "ExecuteTime": {
     "end_time": "2020-10-10T17:03:59.376000-04:00",
     "start_time": "2020-10-10T18:30:46.832Z"
    }
   },
   "outputs": [
    {
     "data": {
      "text/plain": [
       " * Status: success\n",
       "\n",
       " * Candidate solution\n",
       "    Final objective value:     4.393757e+04\n",
       "\n",
       " * Found with\n",
       "    Algorithm:     L-BFGS\n",
       "\n",
       " * Convergence measures\n",
       "    |x - x'|               = 1.39e-08 ≰ 0.0e+00\n",
       "    |x - x'|/|x'|          = 1.59e-09 ≰ 0.0e+00\n",
       "    |f(x) - f(x')|         = 0.00e+00 ≤ 0.0e+00\n",
       "    |f(x) - f(x')|/|f(x')| = 0.00e+00 ≤ 0.0e+00\n",
       "    |g(x)|                 = 5.61e-04 ≰ 1.0e-05\n",
       "\n",
       " * Work counters\n",
       "    Seconds run:   7596  (vs limit Inf)\n",
       "    Iterations:    2018\n",
       "    f(x) calls:    2156\n",
       "    ∇f(x) calls:   2019\n"
      ]
     },
     "execution_count": 59,
     "metadata": {},
     "output_type": "execute_result"
    }
   ],
   "source": [
    "td = TwiceDifferentiable(theta -> mixlogit_quad_with_Z(theta, X, Z, y, 7), startvals; autodiff = :forward)\n",
    "    # run the optimizer\n",
    "theta_hat_mix_optim_ad = optimize(td, startvals, LBFGS(linesearch = BackTracking()), \n",
    "                      Optim.Options(g_tol = 1e-5, iterations=100_000, show_trace=false, show_every=1))"
   ]
  },
  {
   "cell_type": "code",
   "execution_count": 60,
   "metadata": {
    "ExecuteTime": {
     "end_time": "2020-10-10T18:45:09.632000-04:00",
     "start_time": "2020-10-10T18:30:46.838Z"
    }
   },
   "outputs": [
    {
     "data": {
      "text/plain": [
       " * Status: failure (objective increased between iterations)\n",
       "\n",
       " * Candidate solution\n",
       "    Final objective value:     4.393757e+04\n",
       "\n",
       " * Found with\n",
       "    Algorithm:     L-BFGS\n",
       "\n",
       " * Convergence measures\n",
       "    |x - x'|               = 7.18e-08 ≰ 0.0e+00\n",
       "    |x - x'|/|x'|          = 8.26e-09 ≰ 0.0e+00\n",
       "    |f(x) - f(x')|         = 7.28e-12 ≰ 0.0e+00\n",
       "    |f(x) - f(x')|/|f(x')| = 1.66e-16 ≰ 0.0e+00\n",
       "    |g(x)|                 = 3.24e-03 ≰ 1.0e-05\n",
       "\n",
       " * Work counters\n",
       "    Seconds run:   6066  (vs limit Inf)\n",
       "    Iterations:    727\n",
       "    f(x) calls:    4417\n",
       "    ∇f(x) calls:   4280\n"
      ]
     },
     "execution_count": 60,
     "metadata": {},
     "output_type": "execute_result"
    }
   ],
   "source": [
    "theta_hat_mix_optim_ad = optimize(td, startvals, LBFGS(), \n",
    "Optim.Options(g_tol = 1e-5, iterations=100_000, show_trace=false, show_every=50))"
   ]
  },
  {
   "cell_type": "code",
   "execution_count": 61,
   "metadata": {
    "ExecuteTime": {
     "end_time": "2020-10-10T18:45:09.648000-04:00",
     "start_time": "2020-10-10T18:30:46.844Z"
    }
   },
   "outputs": [
    {
     "name": "stdout",
     "output_type": "stream",
     "text": [
      "[-0.04777877883533606, -0.47898270632061074, 1.3192068371897292, -0.007828243306700419, 0.3872993108319169, -2.3706206042816667, 0.10853115013838868, 0.7881421211966766, -4.830801965152722, 0.04888970119859712, 0.5506886770187716, -4.754547069771281, 0.028378170943471, -0.4743409826824806, -4.839365770733797, 0.12089211111352804, -0.588758745069359, -8.693494922428261, 0.10783378781742979, -0.5349464811147346, -5.843150991831915, 2.6928517144885613, 2.4322748489032886]\n"
     ]
    }
   ],
   "source": [
    "  theta_hat_mix_mle_ad = theta_hat_mix_optim_ad.minimizer\n",
    "    println(theta_hat_mix_mle_ad)"
   ]
  },
  {
   "cell_type": "code",
   "execution_count": null,
   "metadata": {},
   "outputs": [],
   "source": []
  },
  {
   "cell_type": "code",
   "execution_count": 62,
   "metadata": {
    "ExecuteTime": {
     "end_time": "2020-10-10T18:45:09.664000-04:00",
     "start_time": "2020-10-10T18:30:46.855Z"
    }
   },
   "outputs": [],
   "source": [
    "# # evaluate the Hessian at the estimates\n",
    "# H  = Optim.hessian!(td, theta_hat_mix_optim_ad) # it bugs out at this point, and I don't now why\n",
    "# # theta_hat_mix_mle_ad_se = sqrt.(diag(inv(H)))\n",
    "# # println([theta_hat_mix_mle_ad theta_hat_mix_mle_ad_se]) # these standard errors match Stata"
   ]
  },
  {
   "cell_type": "code",
   "execution_count": null,
   "metadata": {},
   "outputs": [],
   "source": []
  },
  {
   "cell_type": "code",
   "execution_count": 63,
   "metadata": {
    "ExecuteTime": {
     "end_time": "2020-10-10T18:45:09.843000-04:00",
     "start_time": "2020-10-10T18:30:46.865Z"
    }
   },
   "outputs": [
    {
     "data": {
      "text/plain": [
       "mixlogit_MC_with_Z (generic function with 1 method)"
      ]
     },
     "execution_count": 63,
     "metadata": {},
     "output_type": "execute_result"
    }
   ],
   "source": [
    "function mixlogit_MC_with_Z(theta, X, Z, y, R)\n",
    "    \n",
    "    alpha = theta[1:end-2]\n",
    "    gamma = theta[end-1]\n",
    "    sigma = exp(theta[end]) # makes sure sigma is never 0 (which would make the Normal density undefined)\n",
    "    K = size(X,2)\n",
    "    J = length(unique(y))\n",
    "    N = length(y)\n",
    "    bigY = zeros(N,J)\n",
    "    for j=1:J\n",
    "        bigY[:,j] = y.==j\n",
    "    end\n",
    "    bigAlpha = [reshape(alpha,K,J-1) zeros(K)]\n",
    "    \n",
    "    # now write P as a function of variable of integration\n",
    "    T = promote_type(eltype(X),eltype(theta))\n",
    "    function like_int(T,N,J,X,Z,bigAlpha,gamma,sigma,R)\n",
    "        draws = 8*sigma.*Base.rand(R).-4*sigma\n",
    "        out = zeros(T,N)\n",
    "        for r=1:R\n",
    "            num   = zeros(T,N,J)\n",
    "            dem   = zeros(T,N)\n",
    "            P     = zeros(T,N,J)\n",
    "            for j=1:J\n",
    "                num[:,j] = exp.(X*bigAlpha[:,j] .+ (Z[:,j] .- Z[:,J])*draws[r])\n",
    "                dem .+= num[:,j]\n",
    "            end\n",
    "            P = num./repeat(dem,1,J)\n",
    "            out .+= vec( (8*sigma/R)*( prod(P.^bigY; dims=2) )*pdf(Normal(gamma,sigma),draws[r]) ) # why do we have to use vec here? because vectors in Julia are \"flat\" and the vec operator flattens a one-dimensional array.\n",
    "        end\n",
    "        return out\n",
    "    end\n",
    "    \n",
    "    intlike = like_int(T,N,J,X,Z,bigAlpha,gamma,sigma,R)\n",
    "    loglike = -sum(log.(intlike))\n",
    "    return loglike\n",
    "end"
   ]
  },
  {
   "cell_type": "code",
   "execution_count": 64,
   "metadata": {
    "ExecuteTime": {
     "end_time": "2020-10-10T19:16:58.088000-04:00",
     "start_time": "2020-10-10T18:30:46.872Z"
    }
   },
   "outputs": [
    {
     "name": "stdout",
     "output_type": "stream",
     "text": [
      "[-0.04326772506719707, -0.7357681536728756, 1.1618560316958133, -0.008345407858326291, 0.15008395109218325, -2.4388362734012152, 0.0981313084416861, 0.6507473825148847, -4.049617172377045, 0.052518879849848876, 0.27727260688726524, -4.340404524591591, 0.021648810078757155, -0.6880007065687087, -4.794184386063019, 0.11916101559881587, -0.9976439945194641, -7.914542311020034, 0.09652301391792456, -0.7818580714530835, -5.609416232680977, 4.5094358737850095, 2.295820123700223]\n"
     ]
    }
   ],
   "source": [
    "td = TwiceDifferentiable(theta -> mixlogit_MC_with_Z(theta, X, Z, y, 100), startvals; autodiff = :forward)\n",
    "    # run the optimizer\n",
    "#theta_hat_mix_optim_ad = optimize(td, startvals, LBFGS(), Optim.Options(g_tol = 1e-5, iterations=2, show_trace=true, show_every=1))\n",
    "theta_hat_mix_optim_ad = optimize(td, startvals, LBFGS(), Optim.Options(g_tol = 1e-5, iterations=100_000, show_trace=false, show_every=50))\n",
    "\n",
    "theta_hat_mix_mle_ad = theta_hat_mix_optim_ad.minimizer\n",
    "println(theta_hat_mix_mle_ad)"
   ]
  },
  {
   "cell_type": "code",
   "execution_count": 65,
   "metadata": {
    "ExecuteTime": {
     "end_time": "2020-10-10T19:16:58.090000-04:00",
     "start_time": "2020-10-10T18:30:46.877Z"
    }
   },
   "outputs": [],
   "source": [
    "# evaluate the Hessian at the estimates\n",
    "# H  = Optim.hessian!(td, theta_hat_mix_optim_ad) # it bugs out at this point, and I don't now why (it's possibly due to me making sigma piecewise above)\n",
    "# theta_hat_mix_mle_ad_se = sqrt.(diag(inv(H)))\n",
    "# println([theta_hat_mix_mle_ad theta_hat_mix_mle_ad_se]) # these standard errors match Stata"
   ]
  },
  {
   "cell_type": "code",
   "execution_count": null,
   "metadata": {},
   "outputs": [],
   "source": []
  },
  {
   "cell_type": "code",
   "execution_count": null,
   "metadata": {},
   "outputs": [],
   "source": []
  }
 ],
 "metadata": {
  "kernelspec": {
   "display_name": "Julia 1.5.1",
   "language": "julia",
   "name": "julia-1.5"
  },
  "language_info": {
   "file_extension": ".jl",
   "mimetype": "application/julia",
   "name": "julia",
   "version": "1.5.1"
  },
  "toc": {
   "base_numbering": 1,
   "nav_menu": {},
   "number_sections": true,
   "sideBar": true,
   "skip_h1_title": false,
   "title_cell": "Table of Contents",
   "title_sidebar": "Contents",
   "toc_cell": true,
   "toc_position": {
    "height": "calc(100% - 180px)",
    "left": "10px",
    "top": "150px",
    "width": "165px"
   },
   "toc_section_display": true,
   "toc_window_display": true
  }
 },
 "nbformat": 4,
 "nbformat_minor": 4
}
