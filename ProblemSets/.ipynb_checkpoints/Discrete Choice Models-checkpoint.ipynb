{
 "cells": [
  {
   "cell_type": "markdown",
   "metadata": {
    "toc": true
   },
   "source": [
    "<h1>Table of Contents<span class=\"tocSkip\"></span></h1>\n",
    "<div class=\"toc\"><ul class=\"toc-item\"><li><span><a href=\"#Data\" data-toc-modified-id=\"Data-1\"><span class=\"toc-item-num\">1&nbsp;&nbsp;</span>Data</a></span></li><li><span><a href=\"#OLS\" data-toc-modified-id=\"OLS-2\"><span class=\"toc-item-num\">2&nbsp;&nbsp;</span>OLS</a></span><ul class=\"toc-item\"><li><span><a href=\"#LM.jl\" data-toc-modified-id=\"LM.jl-2.1\"><span class=\"toc-item-num\">2.1&nbsp;&nbsp;</span>LM.jl</a></span></li><li><span><a href=\"#GMM\" data-toc-modified-id=\"GMM-2.2\"><span class=\"toc-item-num\">2.2&nbsp;&nbsp;</span>GMM</a></span></li></ul></li><li><span><a href=\"#Logit\" data-toc-modified-id=\"Logit-3\"><span class=\"toc-item-num\">3&nbsp;&nbsp;</span>Logit</a></span><ul class=\"toc-item\"><li><span><a href=\"#GLM.jl\" data-toc-modified-id=\"GLM.jl-3.1\"><span class=\"toc-item-num\">3.1&nbsp;&nbsp;</span>GLM.jl</a></span></li><li><span><a href=\"#GMM\" data-toc-modified-id=\"GMM-3.2\"><span class=\"toc-item-num\">3.2&nbsp;&nbsp;</span>GMM</a></span></li></ul></li><li><span><a href=\"#Multinomial-Logit-Model\" data-toc-modified-id=\"Multinomial-Logit-Model-4\"><span class=\"toc-item-num\">4&nbsp;&nbsp;</span>Multinomial Logit Model</a></span><ul class=\"toc-item\"><li><span><a href=\"#for-loop\" data-toc-modified-id=\"for-loop-4.1\"><span class=\"toc-item-num\">4.1&nbsp;&nbsp;</span>for loop</a></span></li><li><span><a href=\"#matrix-version\" data-toc-modified-id=\"matrix-version-4.2\"><span class=\"toc-item-num\">4.2&nbsp;&nbsp;</span>matrix version</a></span></li><li><span><a href=\"#with-Hessian\" data-toc-modified-id=\"with-Hessian-4.3\"><span class=\"toc-item-num\">4.3&nbsp;&nbsp;</span>with Hessian</a></span></li></ul></li><li><span><a href=\"#Multinomial-Logit-Model-with-Alternative-specific-Covariates-$Z$\" data-toc-modified-id=\"Multinomial-Logit-Model-with-Alternative-specific-Covariates-$Z$-5\"><span class=\"toc-item-num\">5&nbsp;&nbsp;</span>Multinomial Logit Model with Alternative-specific Covariates $Z$</a></span></li><li><span><a href=\"#Nested-Logit\" data-toc-modified-id=\"Nested-Logit-6\"><span class=\"toc-item-num\">6&nbsp;&nbsp;</span>Nested Logit</a></span></li><li><span><a href=\"#multinomial-logit-(with-alternative-specific-covariates-Z)\" data-toc-modified-id=\"multinomial-logit-(with-alternative-specific-covariates-Z)-7\"><span class=\"toc-item-num\">7&nbsp;&nbsp;</span>multinomial logit (with alternative-specific covariates Z)</a></span></li><li><span><a href=\"#mixed-logit\" data-toc-modified-id=\"mixed-logit-8\"><span class=\"toc-item-num\">8&nbsp;&nbsp;</span>mixed logit</a></span></li><li><span><a href=\"#test-DM\" data-toc-modified-id=\"test-DM-9\"><span class=\"toc-item-num\">9&nbsp;&nbsp;</span>test DM</a></span></li></ul></div>"
   ]
  },
  {
   "cell_type": "code",
   "execution_count": 1,
   "metadata": {
    "ExecuteTime": {
     "end_time": "2020-10-09T18:58:36.364000-04:00",
     "start_time": "2020-10-09T22:58:20.678Z"
    }
   },
   "outputs": [
    {
     "name": "stdout",
     "output_type": "stream",
     "text": [
      "/c/Users/jhu/Documents/GitHub/fall-2020/ProblemSets\n"
     ]
    }
   ],
   "source": [
    ";pwd"
   ]
  },
  {
   "cell_type": "code",
   "execution_count": 1,
   "metadata": {
    "ExecuteTime": {
     "end_time": "2020-10-10T13:53:05.197000-04:00",
     "start_time": "2020-10-10T17:53:03.578Z"
    }
   },
   "outputs": [
    {
     "data": {
      "text/plain": [
       "1000"
      ]
     },
     "execution_count": 1,
     "metadata": {},
     "output_type": "execute_result"
    }
   ],
   "source": [
    "ENV[\"COLUMNS\"] = 1000"
   ]
  },
  {
   "cell_type": "code",
   "execution_count": 2,
   "metadata": {
    "ExecuteTime": {
     "end_time": "2020-10-10T13:53:54.635000-04:00",
     "start_time": "2020-10-10T17:53:04.387Z"
    }
   },
   "outputs": [
    {
     "name": "stderr",
     "output_type": "stream",
     "text": [
      "┌ Info: Precompiling GLM [38e38edf-8417-5370-95a0-9cbb8c7f171a]\n",
      "└ @ Base loading.jl:1278\n",
      "┌ Info: Precompiling FreqTables [da1fdf0e-e0ff-5433-a45f-9bb5ff651cb1]\n",
      "└ @ Base loading.jl:1278\n"
     ]
    }
   ],
   "source": [
    "using Random\n",
    "using LinearAlgebra\n",
    "using Statistics\n",
    "using Optim\n",
    "using DataFrames\n",
    "using CSV\n",
    "using HTTP\n",
    "using GLM\n",
    "using FreqTables\n",
    "using ForwardDiff \n",
    "using LineSearches\n",
    "using Distributions"
   ]
  },
  {
   "cell_type": "markdown",
   "metadata": {},
   "source": [
    "# Data"
   ]
  },
  {
   "cell_type": "code",
   "execution_count": 4,
   "metadata": {
    "ExecuteTime": {
     "end_time": "2020-10-09T18:59:24.606000-04:00",
     "start_time": "2020-10-09T22:58:20.694Z"
    }
   },
   "outputs": [],
   "source": [
    "url = \"https://raw.githubusercontent.com/OU-PhD-Econometrics/fall-2020/master/ProblemSets/PS1-julia-intro/nlsw88.csv\"\n",
    "df = CSV.read(HTTP.get(url).body)\n",
    "X = [ones(size(df,1),1) df.age df.race.==1 df.collgrad.==1]\n",
    "y = df.married.==1;"
   ]
  },
  {
   "cell_type": "code",
   "execution_count": 5,
   "metadata": {
    "ExecuteTime": {
     "end_time": "2020-10-09T18:59:25.945000-04:00",
     "start_time": "2020-10-09T22:58:20.701Z"
    }
   },
   "outputs": [
    {
     "data": {
      "text/plain": [
       "((2246, 17), (2246, 4), (2246,), [1.0, 37.0, 0.0, 0.0], Bool[0, 0, 0, 1])"
      ]
     },
     "execution_count": 5,
     "metadata": {},
     "output_type": "execute_result"
    }
   ],
   "source": [
    "size(df),size(X), size(y), X[1,:],y[1:4]"
   ]
  },
  {
   "cell_type": "code",
   "execution_count": 6,
   "metadata": {
    "ExecuteTime": {
     "end_time": "2020-10-09T18:59:32.935000-04:00",
     "start_time": "2020-10-09T22:58:20.708Z"
    }
   },
   "outputs": [
    {
     "data": {
      "text/html": [
       "<table class=\"data-frame\"><thead><tr><th></th><th>idcode</th><th>age</th><th>race</th><th>married</th><th>never_married</th><th>grade</th><th>collgrad</th><th>south</th><th>smsa</th><th>c_city</th><th>industry</th><th>occupation</th><th>union</th><th>wage</th><th>hours</th><th>ttl_exp</th><th>tenure</th></tr><tr><th></th><th>Int64</th><th>Int64</th><th>Int64</th><th>Int64</th><th>Int64</th><th>Int64?</th><th>Int64</th><th>Int64</th><th>Int64</th><th>Int64</th><th>Int64?</th><th>Int64?</th><th>Int64?</th><th>Float64</th><th>Int64?</th><th>Float64</th><th>Float64?</th></tr></thead><tbody><p>4 rows × 17 columns</p><tr><th>1</th><td>1</td><td>37</td><td>2</td><td>0</td><td>0</td><td>12</td><td>0</td><td>0</td><td>1</td><td>0</td><td>5</td><td>6</td><td>1</td><td>11.7391</td><td>48</td><td>10.3333</td><td>5.33333</td></tr><tr><th>2</th><td>2</td><td>37</td><td>2</td><td>0</td><td>0</td><td>12</td><td>0</td><td>0</td><td>1</td><td>1</td><td>4</td><td>5</td><td>1</td><td>6.40096</td><td>40</td><td>13.6218</td><td>5.25</td></tr><tr><th>3</th><td>3</td><td>42</td><td>2</td><td>0</td><td>1</td><td>12</td><td>0</td><td>0</td><td>1</td><td>1</td><td>4</td><td>3</td><td><em>missing</em></td><td>5.01672</td><td>40</td><td>17.7308</td><td>1.25</td></tr><tr><th>4</th><td>4</td><td>43</td><td>1</td><td>1</td><td>0</td><td>17</td><td>1</td><td>0</td><td>1</td><td>0</td><td>11</td><td>13</td><td>1</td><td>9.03381</td><td>42</td><td>13.2115</td><td>1.75</td></tr></tbody></table>"
      ],
      "text/latex": [
       "\\begin{tabular}{r|ccccccccccccccccc}\n",
       "\t& idcode & age & race & married & never\\_married & grade & collgrad & south & smsa & c\\_city & industry & occupation & union & wage & hours & ttl\\_exp & tenure\\\\\n",
       "\t\\hline\n",
       "\t& Int64 & Int64 & Int64 & Int64 & Int64 & Int64? & Int64 & Int64 & Int64 & Int64 & Int64? & Int64? & Int64? & Float64 & Int64? & Float64 & Float64?\\\\\n",
       "\t\\hline\n",
       "\t1 & 1 & 37 & 2 & 0 & 0 & 12 & 0 & 0 & 1 & 0 & 5 & 6 & 1 & 11.7391 & 48 & 10.3333 & 5.33333 \\\\\n",
       "\t2 & 2 & 37 & 2 & 0 & 0 & 12 & 0 & 0 & 1 & 1 & 4 & 5 & 1 & 6.40096 & 40 & 13.6218 & 5.25 \\\\\n",
       "\t3 & 3 & 42 & 2 & 0 & 1 & 12 & 0 & 0 & 1 & 1 & 4 & 3 & \\emph{missing} & 5.01672 & 40 & 17.7308 & 1.25 \\\\\n",
       "\t4 & 4 & 43 & 1 & 1 & 0 & 17 & 1 & 0 & 1 & 0 & 11 & 13 & 1 & 9.03381 & 42 & 13.2115 & 1.75 \\\\\n",
       "\\end{tabular}\n"
      ],
      "text/plain": [
       "4×17 DataFrame\n",
       "│ Row │ idcode │ age   │ race  │ married │ never_married │ grade  │ collgrad │ south │ smsa  │ c_city │ industry │ occupation │ union   │ wage    │ hours  │ ttl_exp │ tenure   │\n",
       "│     │ \u001b[90mInt64\u001b[39m  │ \u001b[90mInt64\u001b[39m │ \u001b[90mInt64\u001b[39m │ \u001b[90mInt64\u001b[39m   │ \u001b[90mInt64\u001b[39m         │ \u001b[90mInt64?\u001b[39m │ \u001b[90mInt64\u001b[39m    │ \u001b[90mInt64\u001b[39m │ \u001b[90mInt64\u001b[39m │ \u001b[90mInt64\u001b[39m  │ \u001b[90mInt64?\u001b[39m   │ \u001b[90mInt64?\u001b[39m     │ \u001b[90mInt64?\u001b[39m  │ \u001b[90mFloat64\u001b[39m │ \u001b[90mInt64?\u001b[39m │ \u001b[90mFloat64\u001b[39m │ \u001b[90mFloat64?\u001b[39m │\n",
       "├─────┼────────┼───────┼───────┼─────────┼───────────────┼────────┼──────────┼───────┼───────┼────────┼──────────┼────────────┼─────────┼─────────┼────────┼─────────┼──────────┤\n",
       "│ 1   │ 1      │ 37    │ 2     │ 0       │ 0             │ 12     │ 0        │ 0     │ 1     │ 0      │ 5        │ 6          │ 1       │ 11.7391 │ 48     │ 10.3333 │ 5.33333  │\n",
       "│ 2   │ 2      │ 37    │ 2     │ 0       │ 0             │ 12     │ 0        │ 0     │ 1     │ 1      │ 4        │ 5          │ 1       │ 6.40096 │ 40     │ 13.6218 │ 5.25     │\n",
       "│ 3   │ 3      │ 42    │ 2     │ 0       │ 1             │ 12     │ 0        │ 0     │ 1     │ 1      │ 4        │ 3          │ \u001b[90mmissing\u001b[39m │ 5.01672 │ 40     │ 17.7308 │ 1.25     │\n",
       "│ 4   │ 4      │ 43    │ 1     │ 1       │ 0             │ 17     │ 1        │ 0     │ 1     │ 0      │ 11       │ 13         │ 1       │ 9.03381 │ 42     │ 13.2115 │ 1.75     │"
      ]
     },
     "execution_count": 6,
     "metadata": {},
     "output_type": "execute_result"
    }
   ],
   "source": [
    "df[1:4,:]"
   ]
  },
  {
   "cell_type": "markdown",
   "metadata": {},
   "source": [
    "# OLS"
   ]
  },
  {
   "cell_type": "markdown",
   "metadata": {},
   "source": [
    "\\begin{align*}\n",
    "    \\min_\\beta \\sum_i\\left(y_i - \n",
    "    X_i\\beta\\right)^2\n",
    "\\end{align*}"
   ]
  },
  {
   "cell_type": "code",
   "execution_count": 7,
   "metadata": {
    "ExecuteTime": {
     "end_time": "2020-10-09T18:59:33.428000-04:00",
     "start_time": "2020-10-09T22:58:20.717Z"
    }
   },
   "outputs": [
    {
     "data": {
      "text/plain": [
       "ols (generic function with 1 method)"
      ]
     },
     "execution_count": 7,
     "metadata": {},
     "output_type": "execute_result"
    }
   ],
   "source": [
    "function ols(β, X, y)\n",
    "    ssr = (y.-X*β)'*(y.-X*β)\n",
    "    return ssr\n",
    "end"
   ]
  },
  {
   "cell_type": "code",
   "execution_count": 8,
   "metadata": {
    "ExecuteTime": {
     "end_time": "2020-10-09T18:59:37.658000-04:00",
     "start_time": "2020-10-09T22:58:20.722Z"
    }
   },
   "outputs": [
    {
     "name": "stdout",
     "output_type": "stream",
     "text": [
      "[0.6613509501675429, -0.004625908009062191, 0.22595043225249614, -0.012184197719695901]\n"
     ]
    }
   ],
   "source": [
    "β_ols = optimize(β -> ols(β, X, y), rand(size(X,2)), LBFGS(), \n",
    "        Optim.Options(g_tol=1e-6, iterations=100_000, show_trace=false))\n",
    "\n",
    "println(β_ols.minimizer) "
   ]
  },
  {
   "cell_type": "code",
   "execution_count": null,
   "metadata": {
    "ExecuteTime": {
     "end_time": "2020-10-08T22:45:18.693000-04:00",
     "start_time": "2020-10-09T02:45:17.731Z"
    }
   },
   "outputs": [],
   "source": [
    "    "
   ]
  },
  {
   "cell_type": "code",
   "execution_count": 9,
   "metadata": {
    "ExecuteTime": {
     "end_time": "2020-10-09T18:59:39.504000-04:00",
     "start_time": "2020-10-09T22:58:20.732Z"
    }
   },
   "outputs": [
    {
     "name": "stdout",
     "output_type": "stream",
     "text": [
      "[0.6613509511877042, -0.004625908035375747, 0.22595043227530237, -0.01218419772065558]\n"
     ]
    }
   ],
   "source": [
    "β_ols = inv(X'*X)*X'*y\n",
    "println(β_ols)"
   ]
  },
  {
   "cell_type": "markdown",
   "metadata": {},
   "source": [
    "## LM.jl"
   ]
  },
  {
   "cell_type": "code",
   "execution_count": 10,
   "metadata": {
    "ExecuteTime": {
     "end_time": "2020-10-09T18:59:54.655000-04:00",
     "start_time": "2020-10-09T22:58:20.739Z"
    }
   },
   "outputs": [
    {
     "name": "stdout",
     "output_type": "stream",
     "text": [
      "StatsModels.TableRegressionModel{LinearModel{GLM.LmResp{Array{Float64,1}},GLM.DensePredChol{Float64,Cholesky{Float64,Array{Float64,2}}}},Array{Float64,2}}\n",
      "\n",
      "married ~ 1 + age + white + collgrad\n",
      "\n",
      "Coefficients:\n",
      "─────────────────────────────────────────────────────────────────────────────\n",
      "                   Coef.  Std. Error      t  Pr(>|t|)   Lower 95%   Upper 95%\n",
      "─────────────────────────────────────────────────────────────────────────────\n",
      "(Intercept)   0.661351    0.127491     5.19    <1e-6    0.411338   0.911364\n",
      "age          -0.00462591  0.00324314  -1.43    0.1539  -0.0109858  0.00173397\n",
      "white         0.22595     0.0223827   10.09    <1e-22   0.182057   0.269843\n",
      "collgrad     -0.0121842   0.0233565   -0.52    0.6020  -0.0579868  0.0336184\n",
      "─────────────────────────────────────────────────────────────────────────────\n"
     ]
    }
   ],
   "source": [
    "df.white = df.race.==1\n",
    "bols_lm = lm(@formula(married ~ age + white + collgrad), df)\n",
    "println(bols_lm)"
   ]
  },
  {
   "cell_type": "markdown",
   "metadata": {},
   "source": [
    "## GMM"
   ]
  },
  {
   "cell_type": "code",
   "execution_count": 11,
   "metadata": {
    "ExecuteTime": {
     "end_time": "2020-10-09T18:59:54.826000-04:00",
     "start_time": "2020-10-09T22:58:20.747Z"
    }
   },
   "outputs": [
    {
     "data": {
      "text/plain": [
       "ols_gmm (generic function with 1 method)"
      ]
     },
     "execution_count": 11,
     "metadata": {},
     "output_type": "execute_result"
    }
   ],
   "source": [
    "function ols_gmm(α, X, y)    \n",
    "    g = y .- X*α\n",
    "    J = g'*I*g\n",
    "    return J\n",
    "end"
   ]
  },
  {
   "cell_type": "code",
   "execution_count": 12,
   "metadata": {
    "ExecuteTime": {
     "end_time": "2020-10-09T18:59:55.099000-04:00",
     "start_time": "2020-10-09T22:58:20.753Z"
    }
   },
   "outputs": [
    {
     "name": "stdout",
     "output_type": "stream",
     "text": [
      "[0.6613509518617947, -0.004625908053018575, 0.22595043230505105, -0.012184197722137814]\n"
     ]
    }
   ],
   "source": [
    "α̂_optim = optimize(a -> ols_gmm(a, X, y), rand(size(X,2)), LBFGS(), Optim.Options(g_tol=1e-8, iterations=100_000))\n",
    "println(α̂_optim.minimizer)"
   ]
  },
  {
   "cell_type": "markdown",
   "metadata": {},
   "source": [
    "# Logit"
   ]
  },
  {
   "cell_type": "code",
   "execution_count": 13,
   "metadata": {
    "ExecuteTime": {
     "end_time": "2020-10-09T18:59:55.213000-04:00",
     "start_time": "2020-10-09T22:58:20.760Z"
    }
   },
   "outputs": [
    {
     "data": {
      "text/plain": [
       "logit (generic function with 1 method)"
      ]
     },
     "execution_count": 13,
     "metadata": {},
     "output_type": "execute_result"
    }
   ],
   "source": [
    "function logit(β, X, y)\n",
    "\n",
    "    P = exp.(X*β)./(1 .+ exp.(X*β))\n",
    "\n",
    "    loglike = -sum( (y.==1).*log.(P) .+ (y.==0).*log.(1 .- P) )\n",
    "\n",
    "    return loglike\n",
    "end"
   ]
  },
  {
   "cell_type": "code",
   "execution_count": 14,
   "metadata": {
    "ExecuteTime": {
     "end_time": "2020-10-09T18:59:55.903000-04:00",
     "start_time": "2020-10-09T22:58:20.767Z"
    }
   },
   "outputs": [
    {
     "name": "stdout",
     "output_type": "stream",
     "text": [
      "[0.7465534162772826, -0.021077755927863186, 0.9558065341804197, -0.055974004605733006]\n"
     ]
    }
   ],
   "source": [
    "β_optim = optimize(β -> logit(β, X, y), rand(size(X,2)), LBFGS(), \n",
    "           Optim.Options(g_tol=1e-6, iterations=100_000, show_trace=false))\n",
    "println(β_optim.minimizer)"
   ]
  },
  {
   "cell_type": "markdown",
   "metadata": {
    "ExecuteTime": {
     "end_time": "2020-10-08T22:48:31.863000-04:00",
     "start_time": "2020-10-09T02:48:30.868Z"
    }
   },
   "source": [
    "## GLM.jl"
   ]
  },
  {
   "cell_type": "code",
   "execution_count": 15,
   "metadata": {
    "ExecuteTime": {
     "end_time": "2020-10-09T18:59:58.220000-04:00",
     "start_time": "2020-10-09T22:58:20.774Z"
    }
   },
   "outputs": [
    {
     "name": "stdout",
     "output_type": "stream",
     "text": [
      "StatsModels.TableRegressionModel{GeneralizedLinearModel{GLM.GlmResp{Array{Float64,1},Binomial{Float64},LogitLink},GLM.DensePredChol{Float64,Cholesky{Float64,Array{Float64,2}}}},Array{Float64,2}}\n",
      "\n",
      "married ~ 1 + age + white + collgrad\n",
      "\n",
      "Coefficients:\n",
      "────────────────────────────────────────────────────────────────────────────\n",
      "                  Coef.  Std. Error      z  Pr(>|z|)   Lower 95%   Upper 95%\n",
      "────────────────────────────────────────────────────────────────────────────\n",
      "(Intercept)   0.746554    0.578983    1.29    0.1973  -0.388231   1.88134\n",
      "age          -0.0210778   0.0147497  -1.43    0.1530  -0.0499867  0.00783116\n",
      "white         0.955807    0.0981953   9.73    <1e-21   0.763347   1.14827\n",
      "collgrad     -0.055974    0.106218   -0.53    0.5982  -0.264157   0.152209\n",
      "────────────────────────────────────────────────────────────────────────────\n"
     ]
    }
   ],
   "source": [
    "β_glm = glm(@formula(married ~ age + white + collgrad), df, Binomial(), LogitLink())\n",
    "println(β_glm)"
   ]
  },
  {
   "cell_type": "markdown",
   "metadata": {},
   "source": [
    "## GMM"
   ]
  },
  {
   "cell_type": "code",
   "execution_count": 16,
   "metadata": {
    "ExecuteTime": {
     "end_time": "2020-10-09T18:59:58.421000-04:00",
     "start_time": "2020-10-09T22:58:20.781Z"
    }
   },
   "outputs": [
    {
     "data": {
      "text/plain": [
       "logit_gmm (generic function with 1 method)"
      ]
     },
     "execution_count": 16,
     "metadata": {},
     "output_type": "execute_result"
    }
   ],
   "source": [
    "function logit_gmm(β, X, y)\n",
    "    P = exp.(X*β)./(1 .+ exp.(X*β))\n",
    "    g = y .- P\n",
    "    J = g'*I*g\n",
    "    return J\n",
    "end\n"
   ]
  },
  {
   "cell_type": "code",
   "execution_count": 17,
   "metadata": {
    "ExecuteTime": {
     "end_time": "2020-10-09T18:59:58.846000-04:00",
     "start_time": "2020-10-09T22:58:20.788Z"
    }
   },
   "outputs": [
    {
     "name": "stdout",
     "output_type": "stream",
     "text": [
      "[0.7504023014006791, -0.02119860233508462, 0.9554883102915294, -0.0520701096247383]\n"
     ]
    }
   ],
   "source": [
    "β_optim = optimize(β -> logit_gmm(β, X, y), rand(size(X,2)), LBFGS(), \n",
    "                   Optim.Options(g_tol=1e-8, iterations=100_000))\n",
    "\n",
    "println(β_optim.minimizer)"
   ]
  },
  {
   "cell_type": "code",
   "execution_count": null,
   "metadata": {},
   "outputs": [],
   "source": []
  },
  {
   "cell_type": "markdown",
   "metadata": {},
   "source": [
    "# Multinomial Logit Model"
   ]
  },
  {
   "cell_type": "code",
   "execution_count": 18,
   "metadata": {
    "ExecuteTime": {
     "end_time": "2020-10-09T19:00:02.396000-04:00",
     "start_time": "2020-10-09T22:58:20.800Z"
    }
   },
   "outputs": [
    {
     "data": {
      "text/plain": [
       "14-element Named Array{Int64,1}\n",
       "occupation  │ \n",
       "────────────┼────\n",
       "1           │ 317\n",
       "2           │ 264\n",
       "3           │ 726\n",
       "4           │ 102\n",
       "5           │  53\n",
       "6           │ 246\n",
       "7           │  28\n",
       "8           │ 286\n",
       "9           │   1\n",
       "10          │   9\n",
       "11          │  16\n",
       "12          │   2\n",
       "13          │ 187\n",
       "missing     │   9"
      ]
     },
     "execution_count": 18,
     "metadata": {},
     "output_type": "execute_result"
    }
   ],
   "source": [
    "freqtable(df, :occupation)"
   ]
  },
  {
   "cell_type": "code",
   "execution_count": 19,
   "metadata": {
    "ExecuteTime": {
     "end_time": "2020-10-09T19:00:05.341000-04:00",
     "start_time": "2020-10-09T22:58:20.807Z"
    }
   },
   "outputs": [
    {
     "data": {
      "text/plain": [
       "7-element Named Array{Int64,1}\n",
       "occupation  │ \n",
       "────────────┼────\n",
       "1           │ 317\n",
       "2           │ 264\n",
       "3           │ 726\n",
       "4           │ 102\n",
       "5           │  53\n",
       "6           │ 246\n",
       "7           │ 529"
      ]
     },
     "execution_count": 19,
     "metadata": {},
     "output_type": "execute_result"
    }
   ],
   "source": [
    "df = dropmissing(df, :occupation)\n",
    "df[df.occupation.==8 ,:occupation] .= 7\n",
    "df[df.occupation.==9 ,:occupation] .= 7\n",
    "df[df.occupation.==10,:occupation] .= 7\n",
    "df[df.occupation.==11,:occupation] .= 7\n",
    "df[df.occupation.==12,:occupation] .= 7\n",
    "df[df.occupation.==13,:occupation] .= 7\n",
    "freqtable(df, :occupation) # problem solved"
   ]
  },
  {
   "cell_type": "code",
   "execution_count": 20,
   "metadata": {
    "ExecuteTime": {
     "end_time": "2020-10-09T19:00:06.142000-04:00",
     "start_time": "2020-10-09T22:58:20.815Z"
    }
   },
   "outputs": [
    {
     "data": {
      "text/plain": [
       "((2237, 4), (2237,), [1.0, 37.0, 0.0, 0.0], [6, 5, 3, 7])"
      ]
     },
     "execution_count": 20,
     "metadata": {},
     "output_type": "execute_result"
    }
   ],
   "source": [
    "X = [ones(size(df,1),1) df.age df.race.==1 df.collgrad.==1]\n",
    "y = df.occupation\n",
    "\n",
    "size(X), size(y), X[1,:],y[1:4]"
   ]
  },
  {
   "cell_type": "markdown",
   "metadata": {},
   "source": [
    "## for loop"
   ]
  },
  {
   "cell_type": "code",
   "execution_count": 21,
   "metadata": {
    "ExecuteTime": {
     "end_time": "2020-10-09T19:00:06.295000-04:00",
     "start_time": "2020-10-09T22:58:20.829Z"
    }
   },
   "outputs": [
    {
     "data": {
      "text/plain": [
       "mlogit (generic function with 1 method)"
      ]
     },
     "execution_count": 21,
     "metadata": {},
     "output_type": "execute_result"
    }
   ],
   "source": [
    "function mlogit(alpha, X, y)\n",
    "    \n",
    "    K = size(X,2)\n",
    "    J = length(unique(y))\n",
    "    N = length(y)\n",
    "    bigY = zeros(N,J)\n",
    "    for j=1:J\n",
    "        bigY[:,j] = y.==j\n",
    "    end\n",
    "    bigAlpha = [reshape(alpha,K,J-1) zeros(K)]\n",
    "    \n",
    "    num = zeros(N,J)\n",
    "    dem = zeros(N)\n",
    "    for j=1:J\n",
    "        num[:,j] = exp.(X*bigAlpha[:,j])\n",
    "        dem .+= num[:,j]\n",
    "    end\n",
    "    \n",
    "    P = num./repeat(dem,1,J)\n",
    "    \n",
    "    loglike = -sum( bigY.*log.(P) )\n",
    "    \n",
    "    return loglike\n",
    "end"
   ]
  },
  {
   "cell_type": "code",
   "execution_count": null,
   "metadata": {},
   "outputs": [],
   "source": []
  },
  {
   "cell_type": "code",
   "execution_count": 22,
   "metadata": {
    "ExecuteTime": {
     "end_time": "2020-10-09T19:00:06.565000-04:00",
     "start_time": "2020-10-09T22:58:20.839Z"
    }
   },
   "outputs": [
    {
     "name": "stdout",
     "output_type": "stream",
     "text": [
      "(24,)\n"
     ]
    }
   ],
   "source": [
    "alpha_zero = zeros(6*size(X,2))\n",
    "alpha_rand = rand(6*size(X,2))\n",
    "alpha_true = [0.1910213\n",
    " -0.0335262\n",
    "  0.5963968\n",
    "  0.4165052\n",
    " -0.1698368\n",
    " -0.0359784\n",
    "  1.30684\n",
    " -0.430997\n",
    "  0.6894727\n",
    " -0.0104578\n",
    "  0.5231634\n",
    " -1.492475\n",
    " -2.26748\n",
    " -0.0053001\n",
    "  1.391402\n",
    " -0.9849661\n",
    " -1.398468\n",
    " -0.0142969\n",
    " -0.0176531\n",
    " -1.495123\n",
    "  0.2454891\n",
    " -0.0067267\n",
    " -0.5382892\n",
    " -3.78975]\n",
    "\n",
    "alpha_start = alpha_true.*rand(size(alpha_true))\n",
    "println(size(alpha_true))"
   ]
  },
  {
   "cell_type": "code",
   "execution_count": 23,
   "metadata": {
    "ExecuteTime": {
     "end_time": "2020-10-09T19:10:20.029000-04:00",
     "start_time": "2020-10-09T22:58:20.846Z"
    }
   },
   "outputs": [
    {
     "name": "stdout",
     "output_type": "stream",
     "text": [
      "Iter     Function value   Gradient norm \n",
      "     0     3.323471e+04     3.834446e+04\n",
      " * time: 0.003999948501586914\n",
      "   500     3.996145e+03     4.961027e+02\n",
      " * time: 83.89499998092651\n",
      "  1000     3.766742e+03     3.496690e+01\n",
      " * time: 163.5199999809265\n",
      "  1500     3.631079e+03     2.423004e+01\n",
      " * time: 243.5829999446869\n",
      "  2000     3.606217e+03     3.213545e+01\n",
      " * time: 316.86500000953674\n",
      "  2500     3.605096e+03     3.499029e+00\n",
      " * time: 394.345999956131\n",
      "  3000     3.605090e+03     7.819115e-03\n",
      " * time: 472.89400005340576\n",
      "  3500     3.605090e+03     1.178237e-02\n",
      " * time: 564.1770000457764\n",
      "[0.1910399136067419, -0.03352669726199581, 0.5963964533422411, 0.41650682254074517, -0.16981704681365417, -0.03597891914556963, 1.3068417348600714, -0.4309976813533497, 0.6894687649341755, -0.010457750613984178, 0.523163541217355, -1.4924725134974826, -2.2675054525730656, -0.0052995443084240534, 1.3914081829484672, -0.9849694461929859, -1.3985573317180762, -0.014294755144515744, -0.017649054627850436, -1.4951229891987001, 0.24546631806612798, -0.00672617103251503, -0.5382873987598918, -3.7897820064356496]\n"
     ]
    }
   ],
   "source": [
    "alpha_hat_optim = optimize(a -> mlogit(a, X, y), alpha_start, LBFGS(), \n",
    "               Optim.Options(g_tol = 1e-5, iterations=100_000, show_trace=false, show_every=500))\n",
    "alpha_hat_mle = alpha_hat_optim.minimizer\n",
    "println(alpha_hat_mle)"
   ]
  },
  {
   "cell_type": "markdown",
   "metadata": {},
   "source": [
    "## matrix version"
   ]
  },
  {
   "cell_type": "code",
   "execution_count": 24,
   "metadata": {
    "ExecuteTime": {
     "end_time": "2020-10-09T19:10:20.169000-04:00",
     "start_time": "2020-10-09T22:58:20.852Z"
    }
   },
   "outputs": [
    {
     "data": {
      "text/plain": [
       "mlogit2 (generic function with 1 method)"
      ]
     },
     "execution_count": 24,
     "metadata": {},
     "output_type": "execute_result"
    }
   ],
   "source": [
    "function mlogit2(β, X, y)\n",
    "        \n",
    "    K = size(X, 2)\n",
    "    J = length(unique(y))\n",
    "    N = length(y)\n",
    "    Y = zeros(N, J)\n",
    "    for j = 1:J\n",
    "        Y[:,j] = y .== j\n",
    "    end\n",
    "    Β = [reshape(β, K, J - 1) zeros(K)]\n",
    "        \n",
    "    V = X * Β\n",
    "    num = exp.(V)\n",
    "    dem = sum.(eachrow(num))\n",
    "    P = num ./ dem\n",
    "        \n",
    "    loglike = -sum(Y .* log.(P))\n",
    "        \n",
    "    return loglike\n",
    "end"
   ]
  },
  {
   "cell_type": "code",
   "execution_count": 25,
   "metadata": {
    "ExecuteTime": {
     "end_time": "2020-10-09T19:17:21.576000-04:00",
     "start_time": "2020-10-09T22:58:20.860Z"
    }
   },
   "outputs": [
    {
     "name": "stdout",
     "output_type": "stream",
     "text": [
      "[0.1909769941470058, -0.03352504690436137, 0.5963943649961156, 0.4165056616481326, -0.16989694116948678, -0.035976860508479515, 1.3068399975440717, -0.4309971146157321, 0.6894328442008153, -0.010456843135641025, 0.5231634628995318, -1.4924727790455, -2.26757505605333, -0.005297765330805531, 1.3914062264536815, -0.9849650420044826, -1.3985809630498485, -0.014294134181603572, -0.017651634385692297, -1.4951172024192974, 0.24544082506821177, -0.006725500433777165, -0.5382895688273234, -3.789769371059199]\n"
     ]
    }
   ],
   "source": [
    "β_hat_optim = optimize(β -> mlogit2(β, X, y), alpha_start, LBFGS(), \n",
    "               Optim.Options(g_tol = 1e-5, iterations=100_000, show_trace=false))\n",
    "β_hat_mle = β_hat_optim.minimizer\n",
    "println(β_hat_mle)"
   ]
  },
  {
   "cell_type": "markdown",
   "metadata": {},
   "source": [
    "## with Hessian"
   ]
  },
  {
   "cell_type": "code",
   "execution_count": 26,
   "metadata": {
    "ExecuteTime": {
     "end_time": "2020-10-09T19:17:21.742000-04:00",
     "start_time": "2020-10-09T22:58:20.867Z"
    }
   },
   "outputs": [
    {
     "data": {
      "text/plain": [
       "mlogit_for_h (generic function with 1 method)"
      ]
     },
     "execution_count": 26,
     "metadata": {},
     "output_type": "execute_result"
    }
   ],
   "source": [
    "function mlogit_for_h(alpha, X, y)\n",
    "    \n",
    "    K = size(X,2)\n",
    "    J = length(unique(y))\n",
    "    N = length(y)\n",
    "    bigY = zeros(N,J)\n",
    "    for j=1:J\n",
    "        bigY[:,j] = y.==j\n",
    "    end\n",
    "    bigAlpha = [reshape(alpha,K,J-1) zeros(K)]\n",
    "    \n",
    "    T = promote_type(eltype(X),eltype(alpha)) # this line is new\n",
    "    num   = zeros(T,N,J)                      # this line is new\n",
    "    dem   = zeros(T,N)                        # this line is new\n",
    "    for j=1:J\n",
    "        num[:,j] = exp.(X*bigAlpha[:,j])\n",
    "        dem .+= num[:,j]\n",
    "    end\n",
    "    \n",
    "    P = num./repeat(dem,1,J)\n",
    "    \n",
    "    loglike = -sum( bigY.*log.(P) )\n",
    "    \n",
    "    return loglike\n",
    "end"
   ]
  },
  {
   "cell_type": "code",
   "execution_count": 27,
   "metadata": {
    "ExecuteTime": {
     "end_time": "2020-10-09T19:18:59.087000-04:00",
     "start_time": "2020-10-09T22:58:20.874Z"
    }
   },
   "outputs": [
    {
     "name": "stdout",
     "output_type": "stream",
     "text": [
      "Iter     Function value   Gradient norm \n",
      "     0     4.353001e+03     1.594586e+04\n",
      " * time: 0.0009999275207519531\n",
      "    50     3.606859e+03     1.863790e+00\n",
      " * time: 2.306999921798706\n",
      "   100     3.606225e+03     8.405963e+00\n",
      " * time: 4.190000057220459\n",
      "   150     3.605968e+03     1.529190e+01\n",
      " * time: 6.072999954223633\n",
      "   200     3.605590e+03     7.278345e+00\n",
      " * time: 7.919999837875366\n",
      "   250     3.605466e+03     6.450430e+00\n",
      " * time: 9.828999996185303\n",
      "   300     3.605375e+03     7.257294e+00\n",
      " * time: 11.569999933242798\n",
      "   350     3.605263e+03     8.405098e+00\n",
      " * time: 13.412999868392944\n",
      "   400     3.605239e+03     9.746500e+00\n",
      " * time: 15.254999876022339\n",
      "   450     3.605197e+03     5.710353e+00\n",
      " * time: 17.14199995994568\n",
      "   500     3.605181e+03     9.098503e-01\n",
      " * time: 18.914999961853027\n",
      "   550     3.605175e+03     1.354941e+00\n",
      " * time: 20.805000066757202\n",
      "   600     3.605124e+03     2.596903e+00\n",
      " * time: 22.681999921798706\n",
      "   650     3.605115e+03     1.153806e+00\n",
      " * time: 24.74899983406067\n",
      "   700     3.605111e+03     6.453547e-01\n",
      " * time: 26.698999881744385\n",
      "   750     3.605104e+03     3.275214e+00\n",
      " * time: 28.92199993133545\n",
      "   800     3.605099e+03     8.782663e-01\n",
      " * time: 30.858999967575073\n",
      "   850     3.605095e+03     7.864797e-01\n",
      " * time: 32.77799987792969\n",
      "   900     3.605094e+03     3.759982e-01\n",
      " * time: 34.82200002670288\n",
      "   950     3.605093e+03     6.468306e-01\n",
      " * time: 36.59699988365173\n",
      "  1000     3.605091e+03     3.604491e-01\n",
      " * time: 38.46399998664856\n",
      "  1050     3.605091e+03     3.471000e-01\n",
      " * time: 40.312999963760376\n",
      "  1100     3.605091e+03     3.457008e-01\n",
      " * time: 42.17700004577637\n",
      "  1150     3.605091e+03     9.900720e-02\n",
      " * time: 44.04900002479553\n",
      "  1200     3.605091e+03     7.344686e-02\n",
      " * time: 45.914000034332275\n",
      "  1250     3.605091e+03     1.054948e-01\n",
      " * time: 47.7739999294281\n",
      "  1300     3.605090e+03     8.486303e-02\n",
      " * time: 49.674999952316284\n",
      "  1350     3.605090e+03     2.847622e-01\n",
      " * time: 51.61399984359741\n",
      "  1400     3.605090e+03     8.008020e-02\n",
      " * time: 53.56500005722046\n",
      "  1450     3.605090e+03     1.295796e-02\n",
      " * time: 55.3989999294281\n",
      "  1500     3.605090e+03     7.840976e-02\n",
      " * time: 57.323999881744385\n",
      "  1550     3.605090e+03     5.936228e-03\n",
      " * time: 59.33999991416931\n",
      "  1600     3.605090e+03     6.245671e-03\n",
      " * time: 61.47199988365173\n",
      "  1650     3.605090e+03     3.181797e-02\n",
      " * time: 63.62999987602234\n",
      "  1700     3.605090e+03     4.005581e-02\n",
      " * time: 65.83299994468689\n",
      "  1750     3.605090e+03     2.676126e-03\n",
      " * time: 68.125\n",
      "  1800     3.605090e+03     4.314392e-03\n",
      " * time: 70.42700004577637\n",
      "  1850     3.605090e+03     4.996772e-03\n",
      " * time: 72.63199996948242\n",
      "  1900     3.605090e+03     3.029810e-04\n",
      " * time: 74.99300003051758\n",
      "  1950     3.605090e+03     1.008495e-03\n",
      " * time: 77.33399987220764\n",
      "  2000     3.605090e+03     3.575144e-04\n",
      " * time: 79.65999984741211\n",
      "  2050     3.605090e+03     1.819027e-03\n",
      " * time: 81.98600006103516\n",
      "  2100     3.605090e+03     5.634662e-04\n",
      " * time: 84.32299995422363\n"
     ]
    },
    {
     "data": {
      "text/plain": [
       "24-element Array{Float64,1}:\n",
       " 0.9250426228059639\n",
       " 0.02359600092699672\n",
       " 0.16643185567818417\n",
       " 0.14539833286543336\n",
       " 0.9877635472143963\n",
       " 0.025041034197731793\n",
       " 0.2088348450186434\n",
       " 0.16617533842935772\n",
       " 0.7574422123655382\n",
       " 0.019257796020397386\n",
       " 0.13049479985889972\n",
       " 0.14760682990849738\n",
       " 1.414571804288081\n",
       " 0.03552992911156632\n",
       " 0.3224823529296227\n",
       " 0.2716328320671566\n",
       " 1.8591571577880135\n",
       " 0.04742956036488801\n",
       " 0.30354607050491805\n",
       " 0.4434233597569664\n",
       " 1.0264137574720964\n",
       " 0.026162920649010726\n",
       " 0.16340581853775987\n",
       " 0.5881855599964643"
      ]
     },
     "execution_count": 27,
     "metadata": {},
     "output_type": "execute_result"
    }
   ],
   "source": [
    "# declare that the objective function is twice differentiable\n",
    "td = TwiceDifferentiable(b -> mlogit_for_h(b, X, y), alpha_start; autodiff = :forward)\n",
    "# run the optimizer\n",
    "alpha_hat_optim_ad = optimize(td, alpha_zero, LBFGS(), Optim.Options(g_tol = 1e-5, iterations=100_000, show_trace=false, show_every=50))\n",
    "alpha_hat_mle_ad = alpha_hat_optim_ad.minimizer\n",
    "\n",
    "# evaluate the Hessian at the estimates\n",
    "H  = Optim.hessian!(td, alpha_hat_mle_ad)\n",
    "alpha_hat_mle_ad_se = sqrt.(diag(inv(H)))"
   ]
  },
  {
   "cell_type": "code",
   "execution_count": 28,
   "metadata": {
    "ExecuteTime": {
     "end_time": "2020-10-09T19:18:59.419000-04:00",
     "start_time": "2020-10-09T22:58:20.882Z"
    }
   },
   "outputs": [
    {
     "data": {
      "text/html": [
       "<table class=\"data-frame\"><thead><tr><th></th><th>x1</th><th>x2</th></tr><tr><th></th><th>Float64</th><th>Float64</th></tr></thead><tbody><p>24 rows × 2 columns</p><tr><th>1</th><td>0.191049</td><td>0.925043</td></tr><tr><th>2</th><td>-0.0335269</td><td>0.023596</td></tr><tr><th>3</th><td>0.596397</td><td>0.166432</td></tr><tr><th>4</th><td>0.416504</td><td>0.145398</td></tr><tr><th>5</th><td>-0.169818</td><td>0.987764</td></tr><tr><th>6</th><td>-0.0359789</td><td>0.025041</td></tr><tr><th>7</th><td>1.30684</td><td>0.208835</td></tr><tr><th>8</th><td>-0.430997</td><td>0.166175</td></tr><tr><th>9</th><td>0.689487</td><td>0.757442</td></tr><tr><th>10</th><td>-0.0104582</td><td>0.0192578</td></tr><tr><th>11</th><td>0.523163</td><td>0.130495</td></tr><tr><th>12</th><td>-1.49247</td><td>0.147607</td></tr><tr><th>13</th><td>-2.26747</td><td>1.41457</td></tr><tr><th>14</th><td>-0.00530023</td><td>0.0355299</td></tr><tr><th>15</th><td>1.3914</td><td>0.322482</td></tr><tr><th>16</th><td>-0.984965</td><td>0.271633</td></tr><tr><th>17</th><td>-1.39852</td><td>1.85916</td></tr><tr><th>18</th><td>-0.0142956</td><td>0.0474296</td></tr><tr><th>19</th><td>-0.0176543</td><td>0.303546</td></tr><tr><th>20</th><td>-1.49512</td><td>0.443423</td></tr><tr><th>21</th><td>0.245496</td><td>1.02641</td></tr><tr><th>22</th><td>-0.00672689</td><td>0.0261629</td></tr><tr><th>23</th><td>-0.53829</td><td>0.163406</td></tr><tr><th>24</th><td>-3.78979</td><td>0.588186</td></tr></tbody></table>"
      ],
      "text/latex": [
       "\\begin{tabular}{r|cc}\n",
       "\t& x1 & x2\\\\\n",
       "\t\\hline\n",
       "\t& Float64 & Float64\\\\\n",
       "\t\\hline\n",
       "\t1 & 0.191049 & 0.925043 \\\\\n",
       "\t2 & -0.0335269 & 0.023596 \\\\\n",
       "\t3 & 0.596397 & 0.166432 \\\\\n",
       "\t4 & 0.416504 & 0.145398 \\\\\n",
       "\t5 & -0.169818 & 0.987764 \\\\\n",
       "\t6 & -0.0359789 & 0.025041 \\\\\n",
       "\t7 & 1.30684 & 0.208835 \\\\\n",
       "\t8 & -0.430997 & 0.166175 \\\\\n",
       "\t9 & 0.689487 & 0.757442 \\\\\n",
       "\t10 & -0.0104582 & 0.0192578 \\\\\n",
       "\t11 & 0.523163 & 0.130495 \\\\\n",
       "\t12 & -1.49247 & 0.147607 \\\\\n",
       "\t13 & -2.26747 & 1.41457 \\\\\n",
       "\t14 & -0.00530023 & 0.0355299 \\\\\n",
       "\t15 & 1.3914 & 0.322482 \\\\\n",
       "\t16 & -0.984965 & 0.271633 \\\\\n",
       "\t17 & -1.39852 & 1.85916 \\\\\n",
       "\t18 & -0.0142956 & 0.0474296 \\\\\n",
       "\t19 & -0.0176543 & 0.303546 \\\\\n",
       "\t20 & -1.49512 & 0.443423 \\\\\n",
       "\t21 & 0.245496 & 1.02641 \\\\\n",
       "\t22 & -0.00672689 & 0.0261629 \\\\\n",
       "\t23 & -0.53829 & 0.163406 \\\\\n",
       "\t24 & -3.78979 & 0.588186 \\\\\n",
       "\\end{tabular}\n"
      ],
      "text/plain": [
       "24×2 DataFrame\n",
       "│ Row │ x1          │ x2        │\n",
       "│     │ \u001b[90mFloat64\u001b[39m     │ \u001b[90mFloat64\u001b[39m   │\n",
       "├─────┼─────────────┼───────────┤\n",
       "│ 1   │ 0.191049    │ 0.925043  │\n",
       "│ 2   │ -0.0335269  │ 0.023596  │\n",
       "│ 3   │ 0.596397    │ 0.166432  │\n",
       "│ 4   │ 0.416504    │ 0.145398  │\n",
       "│ 5   │ -0.169818   │ 0.987764  │\n",
       "│ 6   │ -0.0359789  │ 0.025041  │\n",
       "│ 7   │ 1.30684     │ 0.208835  │\n",
       "│ 8   │ -0.430997   │ 0.166175  │\n",
       "│ 9   │ 0.689487    │ 0.757442  │\n",
       "│ 10  │ -0.0104582  │ 0.0192578 │\n",
       "⋮\n",
       "│ 14  │ -0.00530023 │ 0.0355299 │\n",
       "│ 15  │ 1.3914      │ 0.322482  │\n",
       "│ 16  │ -0.984965   │ 0.271633  │\n",
       "│ 17  │ -1.39852    │ 1.85916   │\n",
       "│ 18  │ -0.0142956  │ 0.0474296 │\n",
       "│ 19  │ -0.0176543  │ 0.303546  │\n",
       "│ 20  │ -1.49512    │ 0.443423  │\n",
       "│ 21  │ 0.245496    │ 1.02641   │\n",
       "│ 22  │ -0.00672689 │ 0.0261629 │\n",
       "│ 23  │ -0.53829    │ 0.163406  │\n",
       "│ 24  │ -3.78979    │ 0.588186  │"
      ]
     },
     "execution_count": 28,
     "metadata": {},
     "output_type": "execute_result"
    }
   ],
   "source": [
    "DataFrame([alpha_hat_mle_ad alpha_hat_mle_ad_se])"
   ]
  },
  {
   "cell_type": "markdown",
   "metadata": {},
   "source": [
    "# Multinomial Logit Model with Alternative-specific Covariates $Z$"
   ]
  },
  {
   "cell_type": "code",
   "execution_count": 29,
   "metadata": {
    "ExecuteTime": {
     "end_time": "2020-10-09T19:19:00.234000-04:00",
     "start_time": "2020-10-09T22:58:20.890Z"
    }
   },
   "outputs": [],
   "source": [
    "url = \"https://raw.githubusercontent.com/OU-PhD-Econometrics/fall-2020/master/ProblemSets/PS3-gev/nlsw88w.csv\"\n",
    "df = CSV.read(HTTP.get(url).body)\n",
    "X = [df.age df.white df.collgrad]\n",
    "Z = hcat(df.elnwage1, df.elnwage2, df.elnwage3, df.elnwage4, \n",
    "         df.elnwage5, df.elnwage6, df.elnwage7, df.elnwage8)\n",
    "y = df.occupation;"
   ]
  },
  {
   "cell_type": "code",
   "execution_count": 30,
   "metadata": {
    "ExecuteTime": {
     "end_time": "2020-10-09T19:19:00.771000-04:00",
     "start_time": "2020-10-09T22:58:20.898Z"
    }
   },
   "outputs": [
    {
     "data": {
      "text/plain": [
       "((2237, 13), (2237, 3), (2237,), [37, 0, 0], [6, 5, 3, 8])"
      ]
     },
     "execution_count": 30,
     "metadata": {},
     "output_type": "execute_result"
    }
   ],
   "source": [
    "size(df), size(X), size(y), X[1,:],y[1:4]"
   ]
  },
  {
   "cell_type": "code",
   "execution_count": 31,
   "metadata": {
    "ExecuteTime": {
     "end_time": "2020-10-09T19:19:00.776000-04:00",
     "start_time": "2020-10-09T22:58:20.905Z"
    }
   },
   "outputs": [
    {
     "data": {
      "text/html": [
       "<table class=\"data-frame\"><thead><tr><th></th><th>idcode</th><th>age</th><th>collgrad</th><th>occupation</th><th>white</th><th>elnwage1</th><th>elnwage2</th><th>elnwage3</th><th>elnwage4</th><th>elnwage5</th><th>elnwage6</th><th>elnwage7</th><th>elnwage8</th></tr><tr><th></th><th>Int64</th><th>Int64</th><th>Int64</th><th>Int64</th><th>Int64</th><th>Float64</th><th>Float64</th><th>Float64</th><th>Float64</th><th>Float64</th><th>Float64</th><th>Float64</th><th>Float64</th></tr></thead><tbody><p>2 rows × 13 columns</p><tr><th>1</th><td>1</td><td>37</td><td>0</td><td>6</td><td>0</td><td>2.09645</td><td>2.06278</td><td>1.83843</td><td>1.71633</td><td>1.82249</td><td>1.5234</td><td>1.2562</td><td>1.48748</td></tr><tr><th>2</th><td>2</td><td>37</td><td>0</td><td>5</td><td>0</td><td>2.16366</td><td>2.10306</td><td>1.82444</td><td>1.90102</td><td>1.81032</td><td>1.65941</td><td>1.43933</td><td>1.52887</td></tr></tbody></table>"
      ],
      "text/latex": [
       "\\begin{tabular}{r|ccccccccccccc}\n",
       "\t& idcode & age & collgrad & occupation & white & elnwage1 & elnwage2 & elnwage3 & elnwage4 & elnwage5 & elnwage6 & elnwage7 & elnwage8\\\\\n",
       "\t\\hline\n",
       "\t& Int64 & Int64 & Int64 & Int64 & Int64 & Float64 & Float64 & Float64 & Float64 & Float64 & Float64 & Float64 & Float64\\\\\n",
       "\t\\hline\n",
       "\t1 & 1 & 37 & 0 & 6 & 0 & 2.09645 & 2.06278 & 1.83843 & 1.71633 & 1.82249 & 1.5234 & 1.2562 & 1.48748 \\\\\n",
       "\t2 & 2 & 37 & 0 & 5 & 0 & 2.16366 & 2.10306 & 1.82444 & 1.90102 & 1.81032 & 1.65941 & 1.43933 & 1.52887 \\\\\n",
       "\\end{tabular}\n"
      ],
      "text/plain": [
       "2×13 DataFrame\n",
       "│ Row │ idcode │ age   │ collgrad │ occupation │ white │ elnwage1 │ elnwage2 │ elnwage3 │ elnwage4 │ elnwage5 │ elnwage6 │ elnwage7 │ elnwage8 │\n",
       "│     │ \u001b[90mInt64\u001b[39m  │ \u001b[90mInt64\u001b[39m │ \u001b[90mInt64\u001b[39m    │ \u001b[90mInt64\u001b[39m      │ \u001b[90mInt64\u001b[39m │ \u001b[90mFloat64\u001b[39m  │ \u001b[90mFloat64\u001b[39m  │ \u001b[90mFloat64\u001b[39m  │ \u001b[90mFloat64\u001b[39m  │ \u001b[90mFloat64\u001b[39m  │ \u001b[90mFloat64\u001b[39m  │ \u001b[90mFloat64\u001b[39m  │ \u001b[90mFloat64\u001b[39m  │\n",
       "├─────┼────────┼───────┼──────────┼────────────┼───────┼──────────┼──────────┼──────────┼──────────┼──────────┼──────────┼──────────┼──────────┤\n",
       "│ 1   │ 1      │ 37    │ 0        │ 6          │ 0     │ 2.09645  │ 2.06278  │ 1.83843  │ 1.71633  │ 1.82249  │ 1.5234   │ 1.2562   │ 1.48748  │\n",
       "│ 2   │ 2      │ 37    │ 0        │ 5          │ 0     │ 2.16366  │ 2.10306  │ 1.82444  │ 1.90102  │ 1.81032  │ 1.65941  │ 1.43933  │ 1.52887  │"
      ]
     },
     "execution_count": 31,
     "metadata": {},
     "output_type": "execute_result"
    }
   ],
   "source": [
    "df[1:2,:]"
   ]
  },
  {
   "cell_type": "markdown",
   "metadata": {},
   "source": [
    "\\begin{align}\n",
    "    P_{ij} &= \\begin{cases} \\frac{\\exp\\left(X_{i}\\beta_j + \\gamma(Z_{ij}-Z_{iJ})\\right)}{1+\\sum_{k=1}^{J-1}\\exp\\left(X_{i}\\beta_k + \\gamma(Z_{ik}-Z_{iJ})\\right)} ,& j=1,\\ldots,J-1\\\\\n",
    "     \\frac{1}{1+\\sum_{k=1}^{J-1}\\exp\\left(X_{i}\\beta_k + \\gamma(Z_{ik}-Z_{iJ})\\right)} ,& j=J\n",
    "     \\end{cases}\n",
    "\\end{align}"
   ]
  },
  {
   "cell_type": "markdown",
   "metadata": {},
   "source": [
    "Normalize $\\beta_J = 0$"
   ]
  },
  {
   "cell_type": "code",
   "execution_count": 32,
   "metadata": {
    "ExecuteTime": {
     "end_time": "2020-10-09T19:19:00.907000-04:00",
     "start_time": "2020-10-09T22:58:20.920Z"
    }
   },
   "outputs": [
    {
     "data": {
      "text/plain": [
       "mlogit_with_Z (generic function with 1 method)"
      ]
     },
     "execution_count": 32,
     "metadata": {},
     "output_type": "execute_result"
    }
   ],
   "source": [
    "function mlogit_with_Z(theta, X, Z, y)\n",
    "    \n",
    "    alpha = theta[1:end-1]\n",
    "    gamma = theta[end]\n",
    "    K = size(X,2)\n",
    "    J = length(unique(y))\n",
    "    N = length(y)\n",
    "    bigY = zeros(N,J)\n",
    "    for j=1:J\n",
    "        bigY[:,j] = y.==j\n",
    "    end\n",
    "    bigAlpha = [reshape(alpha,K,J-1) zeros(K)]\n",
    "    \n",
    "    T = promote_type(eltype(X),eltype(theta))\n",
    "    num   = zeros(T,N,J)\n",
    "    dem   = zeros(T,N)\n",
    "    for j=1:J\n",
    "        num[:,j] = exp.(X*bigAlpha[:,j] .+ (Z[:,j] .- Z[:,J])*gamma)\n",
    "        dem .+= num[:,j]\n",
    "    end\n",
    "    \n",
    "    P = num./repeat(dem,1,J)\n",
    "    \n",
    "    loglike = -sum( bigY.*log.(P) )\n",
    "    \n",
    "    return loglike\n",
    "end"
   ]
  },
  {
   "cell_type": "code",
   "execution_count": 33,
   "metadata": {
    "ExecuteTime": {
     "end_time": "2020-10-09T19:20:01.966000-04:00",
     "start_time": "2020-10-09T22:58:20.928Z"
    }
   },
   "outputs": [
    {
     "name": "stdout",
     "output_type": "stream",
     "text": [
      "Iter     Function value   Gradient norm \n",
      "     0     8.660550e+04     8.504587e+04\n",
      " * time: 0.0009999275207519531\n",
      "    50     3.804504e+03     4.966955e+01\n",
      " * time: 2.0820000171661377\n",
      "   100     3.749368e+03     8.129355e+01\n",
      " * time: 3.99399995803833\n",
      "   150     3.748236e+03     6.578319e+00\n",
      " * time: 6.013999938964844\n",
      "   200     3.742632e+03     3.872463e+01\n",
      " * time: 8.019000053405762\n",
      "   250     3.739653e+03     3.834362e+01\n",
      " * time: 9.976999998092651\n",
      "   300     3.738583e+03     7.901145e+00\n",
      " * time: 11.934000015258789\n",
      "   350     3.738301e+03     2.890838e+01\n",
      " * time: 13.911999940872192\n",
      "   400     3.738203e+03     6.050126e+00\n",
      " * time: 15.917999982833862\n",
      "   450     3.738156e+03     1.199027e+00\n",
      " * time: 17.84599995613098\n",
      "   500     3.738122e+03     1.161048e+00\n",
      " * time: 19.80900001525879\n",
      "   550     3.738120e+03     5.288295e+00\n",
      " * time: 21.86299991607666\n",
      "   600     3.738119e+03     3.190595e-01\n",
      " * time: 23.93400001525879\n",
      "   650     3.738119e+03     4.325305e-01\n",
      " * time: 25.97000002861023\n",
      "   700     3.738119e+03     8.538587e-02\n",
      " * time: 28.003999948501587\n",
      "   750     3.738119e+03     4.107349e-02\n",
      " * time: 30.18400001525879\n",
      "   800     3.738119e+03     1.008610e-02\n",
      " * time: 32.43499994277954\n",
      "   850     3.738119e+03     1.067972e-02\n",
      " * time: 34.43599987030029\n",
      "   900     3.738119e+03     3.131934e-02\n",
      " * time: 36.4689998626709\n",
      "   950     3.738119e+03     6.211052e-03\n",
      " * time: 38.526000022888184\n",
      "  1000     3.738119e+03     9.096074e-04\n",
      " * time: 40.41599988937378\n",
      "  1050     3.738119e+03     8.086207e-03\n",
      " * time: 42.42199993133545\n",
      "  1100     3.738119e+03     1.108314e-02\n",
      " * time: 44.41199994087219\n",
      "  1150     3.738119e+03     3.005516e-04\n",
      " * time: 46.55200004577637\n",
      "  1200     3.738119e+03     1.910587e-03\n",
      " * time: 48.501999855041504\n",
      "  1250     3.738119e+03     1.550211e-04\n",
      " * time: 50.58200001716614\n",
      "[0.05570737024623491 0.009006591066480307; 0.0834318298487771 0.23900401560197157; -2.344879642293301 0.29596402532081667; 0.0450004452063833 0.0092793404722402; 0.7365830830054689 0.2791892982250248; -3.153237106192977 0.283166772724021; 0.09264578614975086 0.007682132673085085; -0.08417228166470739 0.2340915093315877; -4.273271227634704 0.31247506265752206; 0.02390306489962526 0.010054432749931268; 0.7230744471166672 0.36903227740296857; -3.7493835406504994 0.40712300161702236; 0.03608703925633783 0.00956507941541849; -0.6437606098785656 0.3572087851536243; -4.279674740338543 0.4983206737522339; 0.08531066215221382 0.007642424840788849; -1.1714240487561547 0.2692742870041861; -6.67866851431427 0.7230358283272187; 0.08661992787770785 0.008009147428772704; -0.797872113476724 0.26677250450088447; -4.969122210805558 0.36647707311884586; -0.0941917178795445 0.37907624846786253]\n"
     ]
    }
   ],
   "source": [
    "startvals = [2*rand(7*size(X,2)).-1; .1]\n",
    "td = TwiceDifferentiable(theta -> mlogit_with_Z(theta, X, Z, y), startvals; autodiff = :forward)\n",
    "# run the optimizer\n",
    "theta_hat_optim_ad = optimize(td, startvals, LBFGS(), Optim.Options(g_tol = 1e-5, iterations=100_000, show_trace=false, show_every=50))\n",
    "theta_hat_mle_ad = theta_hat_optim_ad.minimizer\n",
    "# evaluate the Hessian at the estimates\n",
    "H  = Optim.hessian!(td, theta_hat_mle_ad)\n",
    "theta_hat_mle_ad_se = sqrt.(diag(inv(H)))\n",
    "println([theta_hat_mle_ad theta_hat_mle_ad_se]) # these standard errors match Stata"
   ]
  },
  {
   "cell_type": "code",
   "execution_count": null,
   "metadata": {},
   "outputs": [],
   "source": []
  },
  {
   "cell_type": "code",
   "execution_count": 34,
   "metadata": {
    "ExecuteTime": {
     "end_time": "2020-10-09T19:20:02.110000-04:00",
     "start_time": "2020-10-09T22:58:20.939Z"
    }
   },
   "outputs": [
    {
     "data": {
      "text/plain": [
       "mlogit_with_Z2 (generic function with 1 method)"
      ]
     },
     "execution_count": 34,
     "metadata": {},
     "output_type": "execute_result"
    }
   ],
   "source": [
    "function mlogit_with_Z2(θ, X, Z, y)\n",
    "\n",
    "\n",
    "    β = θ[1:end - 1]\n",
    "    γ  = θ[end]\n",
    "\n",
    "    Y = zeros(N, J)\n",
    "    for j = 1:J\n",
    "        Y[:,j] = y .== j\n",
    "    end\n",
    "    Β = [reshape(β, K, J - 1) zeros(K)]\n",
    "    \n",
    "    V = X * Β .+  (Z .- Z[:,J]) * γ    \n",
    "    num = exp.(V)\n",
    "    dem = sum.(eachrow(num))\n",
    "    P = num ./ dem\n",
    "\n",
    "    loglike = -sum(Y .* log.(P))\n",
    "    \n",
    "    return loglike\n",
    "end"
   ]
  },
  {
   "cell_type": "code",
   "execution_count": 35,
   "metadata": {
    "ExecuteTime": {
     "end_time": "2020-10-09T19:20:48.825000-04:00",
     "start_time": "2020-10-09T22:58:20.947Z"
    }
   },
   "outputs": [
    {
     "name": "stdout",
     "output_type": "stream",
     "text": [
      "Iter     Function value   Gradient norm \n",
      "     0     5.241934e+04     7.418499e+04\n",
      " * time: 0.0\n",
      "    50     3.807287e+03     5.822255e+01\n",
      " * time: 2.0939998626708984\n",
      "   100     3.753554e+03     1.125370e+02\n",
      " * time: 4.361999988555908\n",
      "   150     3.744298e+03     1.652303e+02\n",
      " * time: 6.32099986076355\n",
      "   200     3.742731e+03     1.409096e+02\n",
      " * time: 8.369999885559082\n",
      "   250     3.740164e+03     7.754092e+01\n",
      " * time: 10.471999883651733\n",
      "   300     3.738925e+03     4.238436e+01\n",
      " * time: 12.555999994277954\n",
      "   350     3.738379e+03     4.237557e+00\n",
      " * time: 14.48199987411499\n",
      "   400     3.738232e+03     2.035354e+00\n",
      " * time: 16.603999853134155\n",
      "   450     3.738177e+03     3.771214e+00\n",
      " * time: 18.638000011444092\n",
      "   500     3.738122e+03     7.548607e-01\n",
      " * time: 20.723000049591064\n",
      "   550     3.738120e+03     1.529881e+00\n",
      " * time: 22.674999952316284\n",
      "   600     3.738119e+03     1.983503e+00\n",
      " * time: 24.871000051498413\n",
      "   650     3.738119e+03     2.154571e-02\n",
      " * time: 27.044999837875366\n",
      "   700     3.738119e+03     2.313517e-02\n",
      " * time: 29.126999855041504\n",
      "   750     3.738119e+03     1.022206e-02\n",
      " * time: 31.76900005340576\n",
      "   800     3.738119e+03     6.493561e-03\n",
      " * time: 33.794999837875366\n",
      "   850     3.738119e+03     3.256740e-03\n",
      " * time: 35.94099998474121\n",
      "   900     3.738119e+03     1.486931e-03\n",
      " * time: 37.95199990272522\n",
      "[0.055707594546898116 0.009006599698954688; 0.08343028143095195 0.23900410269276118; -2.3448861106523857 0.295964318018883; 0.045000693265299686 0.009279347889870079; 0.7365799489377137 0.2791893144308456; -3.1532418760386522 0.28316707443579325; 0.09264596809799203 0.007682143508290159; -0.0841738409703833 0.23409162555487817; -4.2732786053518526 0.31247534634608115; 0.0239033281797937 0.010054434478432113; 0.7230696318733472 0.3690320885965119; -3.749393310975998 0.40712332449803373; 0.03608718972322175 0.009565090867139445; -0.6437601667678454 0.35720893392338154; -4.279680191713782 0.49832083595013044; 0.08531083589910003 0.007642435863175842; -1.1714269826421264 0.26927438737748294; -6.678673010445837 0.7230346721127853; 0.08662005656661824 0.008009158712163096; -0.7978734902002962 0.2667726196864567; -4.969131767455474 0.36647746365843636; -0.09419748703291657 0.3790763001328667]\n"
     ]
    },
    {
     "data": {
      "text/html": [
       "<table class=\"data-frame\"><thead><tr><th></th><th>x1</th><th>x2</th></tr><tr><th></th><th>Float64</th><th>Float64</th></tr></thead><tbody><p>22 rows × 2 columns</p><tr><th>1</th><td>0.0557076</td><td>0.0090066</td></tr><tr><th>2</th><td>0.0834303</td><td>0.239004</td></tr><tr><th>3</th><td>-2.34489</td><td>0.295964</td></tr><tr><th>4</th><td>0.0450007</td><td>0.00927935</td></tr><tr><th>5</th><td>0.73658</td><td>0.279189</td></tr><tr><th>6</th><td>-3.15324</td><td>0.283167</td></tr><tr><th>7</th><td>0.092646</td><td>0.00768214</td></tr><tr><th>8</th><td>-0.0841738</td><td>0.234092</td></tr><tr><th>9</th><td>-4.27328</td><td>0.312475</td></tr><tr><th>10</th><td>0.0239033</td><td>0.0100544</td></tr><tr><th>11</th><td>0.72307</td><td>0.369032</td></tr><tr><th>12</th><td>-3.74939</td><td>0.407123</td></tr><tr><th>13</th><td>0.0360872</td><td>0.00956509</td></tr><tr><th>14</th><td>-0.64376</td><td>0.357209</td></tr><tr><th>15</th><td>-4.27968</td><td>0.498321</td></tr><tr><th>16</th><td>0.0853108</td><td>0.00764244</td></tr><tr><th>17</th><td>-1.17143</td><td>0.269274</td></tr><tr><th>18</th><td>-6.67867</td><td>0.723035</td></tr><tr><th>19</th><td>0.0866201</td><td>0.00800916</td></tr><tr><th>20</th><td>-0.797873</td><td>0.266773</td></tr><tr><th>21</th><td>-4.96913</td><td>0.366477</td></tr><tr><th>22</th><td>-0.0941975</td><td>0.379076</td></tr></tbody></table>"
      ],
      "text/latex": [
       "\\begin{tabular}{r|cc}\n",
       "\t& x1 & x2\\\\\n",
       "\t\\hline\n",
       "\t& Float64 & Float64\\\\\n",
       "\t\\hline\n",
       "\t1 & 0.0557076 & 0.0090066 \\\\\n",
       "\t2 & 0.0834303 & 0.239004 \\\\\n",
       "\t3 & -2.34489 & 0.295964 \\\\\n",
       "\t4 & 0.0450007 & 0.00927935 \\\\\n",
       "\t5 & 0.73658 & 0.279189 \\\\\n",
       "\t6 & -3.15324 & 0.283167 \\\\\n",
       "\t7 & 0.092646 & 0.00768214 \\\\\n",
       "\t8 & -0.0841738 & 0.234092 \\\\\n",
       "\t9 & -4.27328 & 0.312475 \\\\\n",
       "\t10 & 0.0239033 & 0.0100544 \\\\\n",
       "\t11 & 0.72307 & 0.369032 \\\\\n",
       "\t12 & -3.74939 & 0.407123 \\\\\n",
       "\t13 & 0.0360872 & 0.00956509 \\\\\n",
       "\t14 & -0.64376 & 0.357209 \\\\\n",
       "\t15 & -4.27968 & 0.498321 \\\\\n",
       "\t16 & 0.0853108 & 0.00764244 \\\\\n",
       "\t17 & -1.17143 & 0.269274 \\\\\n",
       "\t18 & -6.67867 & 0.723035 \\\\\n",
       "\t19 & 0.0866201 & 0.00800916 \\\\\n",
       "\t20 & -0.797873 & 0.266773 \\\\\n",
       "\t21 & -4.96913 & 0.366477 \\\\\n",
       "\t22 & -0.0941975 & 0.379076 \\\\\n",
       "\\end{tabular}\n"
      ],
      "text/plain": [
       "22×2 DataFrame\n",
       "│ Row │ x1         │ x2         │\n",
       "│     │ \u001b[90mFloat64\u001b[39m    │ \u001b[90mFloat64\u001b[39m    │\n",
       "├─────┼────────────┼────────────┤\n",
       "│ 1   │ 0.0557076  │ 0.0090066  │\n",
       "│ 2   │ 0.0834303  │ 0.239004   │\n",
       "│ 3   │ -2.34489   │ 0.295964   │\n",
       "│ 4   │ 0.0450007  │ 0.00927935 │\n",
       "│ 5   │ 0.73658    │ 0.279189   │\n",
       "│ 6   │ -3.15324   │ 0.283167   │\n",
       "│ 7   │ 0.092646   │ 0.00768214 │\n",
       "│ 8   │ -0.0841738 │ 0.234092   │\n",
       "│ 9   │ -4.27328   │ 0.312475   │\n",
       "│ 10  │ 0.0239033  │ 0.0100544  │\n",
       "│ 11  │ 0.72307    │ 0.369032   │\n",
       "│ 12  │ -3.74939   │ 0.407123   │\n",
       "│ 13  │ 0.0360872  │ 0.00956509 │\n",
       "│ 14  │ -0.64376   │ 0.357209   │\n",
       "│ 15  │ -4.27968   │ 0.498321   │\n",
       "│ 16  │ 0.0853108  │ 0.00764244 │\n",
       "│ 17  │ -1.17143   │ 0.269274   │\n",
       "│ 18  │ -6.67867   │ 0.723035   │\n",
       "│ 19  │ 0.0866201  │ 0.00800916 │\n",
       "│ 20  │ -0.797873  │ 0.266773   │\n",
       "│ 21  │ -4.96913   │ 0.366477   │\n",
       "│ 22  │ -0.0941975 │ 0.379076   │"
      ]
     },
     "execution_count": 35,
     "metadata": {},
     "output_type": "execute_result"
    }
   ],
   "source": [
    "K = size(X, 2)\n",
    "J = length(unique(y))\n",
    "N = length(y)\n",
    "\n",
    "startvals = [2 * rand((J - 1) * K) .- 1; .1]\n",
    "td = TwiceDifferentiable(θ -> mlogit_with_Z(θ, X, Z, y), startvals; autodiff=:forward)\n",
    "# run the optimizer\n",
    "theta_hat_optim_ad = optimize(td, startvals, LBFGS(), Optim.Options(g_tol=1e-5, iterations=100_000, show_trace=false, show_every=50))\n",
    "theta_hat_mle_ad = theta_hat_optim_ad.minimizer\n",
    "# evaluate the Hessian at the estimates\n",
    "H  = Optim.hessian!(td, theta_hat_mle_ad)\n",
    "theta_hat_mle_ad_se = sqrt.(diag(inv(H)))\n",
    "println([theta_hat_mle_ad theta_hat_mle_ad_se]) # these standard errors match Stata\n",
    "DataFrame([theta_hat_mle_ad ,theta_hat_mle_ad_se])"
   ]
  },
  {
   "cell_type": "code",
   "execution_count": null,
   "metadata": {},
   "outputs": [],
   "source": []
  },
  {
   "cell_type": "markdown",
   "metadata": {},
   "source": [
    "# Nested Logit"
   ]
  },
  {
   "cell_type": "markdown",
   "metadata": {},
   "source": [
    "Estimate a nested logit with the following nesting structure:  \n",
    "\n",
    "* White collar occupations (indexed by WC)  \n",
    "    1 Professional/Technical  \n",
    "    2 Managers/Administrators  \n",
    "    3 Sales  \n",
    "* Blue collar occupations (indexed by BC)  \n",
    "    4 Clerical/Unskilled  \n",
    "    5 Craftsmen  \n",
    "    6 Operatives  \n",
    "    7 Transport  \n",
    "* Other occupations (indexed by Other)  \n",
    "    8 Other  "
   ]
  },
  {
   "cell_type": "markdown",
   "metadata": {},
   "source": [
    "$\\beta_{\\text{Other}}$ is normalized to 0"
   ]
  },
  {
   "cell_type": "markdown",
   "metadata": {},
   "source": [
    "\\begin{align}\n",
    "    P_{ij} &= \\begin{cases} \\frac{\\exp\\left(\\frac{X_{i}\\beta_{WC}+\\gamma(Z_{ij}-Z_{iJ})}{\\lambda_{WC}}\\right)\\left[\\sum_{\\ell\\in WC}\\exp\\left(\\frac{X_{i}\\beta_{WC}+\\gamma(Z_{i\\ell}-Z_{iJ})}{\\lambda_{WC}}\\right)\\right]^{\\lambda_{WC}-1}}{1+\\left[\\sum_{k\\in WC}\\exp\\left(\\frac{X_{i}\\beta_{WC}+\\gamma(Z_{ik}-Z_{iJ})}{\\lambda_{WC}}\\right)\\right]^{\\lambda_{WC}}+\\left[\\sum_{m\\in BC}\\exp\\left(\\frac{X_{i}\\beta_{BC}+\\gamma(Z_{im}-Z_{iJ})}{\\lambda_{BC}}\\right)\\right]^{\\lambda_{BC}}} ,& j\\in WC\\\\\n",
    "    \\frac{\\exp\\left(\\frac{X_{i}\\beta_{BC}+\\gamma(Z_{ij}-Z_{iJ})}{\\lambda_{BC}}\\right)\\left[\\sum_{\\ell\\in BC}\\exp\\left(\\frac{X_{i}\\beta_{BC}+\\gamma(Z_{i\\ell}-Z_{iJ})}{\\lambda_{BC}}\\right)\\right]^{\\lambda_{BC}-1}}{1+\\left[\\sum_{k\\in WC}\\exp\\left(\\frac{X_{i}\\beta_{WC}+\\gamma(Z_{ik}-Z_{iJ})}{\\lambda_{WC}}\\right)\\right]^{\\lambda_{WC}}+\\left[\\sum_{m\\in BC}\\exp\\left(\\frac{X_{i}\\beta_{BC}+\\gamma(Z_{im}-Z_{iJ})}{\\lambda_{BC}}\\right)\\right]^{\\lambda_{BC}}} ,& j\\in BC\\\\\n",
    "     \\frac{1}{1+\\left[\\sum_{k\\in WC}\\exp\\left(\\frac{X_{i}\\beta_{WC}+\\gamma(Z_{ik}-Z_{iJ})}{\\lambda_{WC}}\\right)\\right]^{\\lambda_{WC}}+\\left[\\sum_{m\\in BC}\\exp\\left(\\frac{X_{i}\\beta_{BC}+\\gamma(Z_{im}-Z_{iJ})}{\\lambda_{BC}}\\right)\\right]^{\\lambda_{BC}}} ,& j=J\n",
    "     \\end{cases}\n",
    "\\end{align}"
   ]
  },
  {
   "cell_type": "code",
   "execution_count": 36,
   "metadata": {
    "ExecuteTime": {
     "end_time": "2020-10-09T19:20:48.974000-04:00",
     "start_time": "2020-10-09T22:58:20.963Z"
    }
   },
   "outputs": [
    {
     "data": {
      "text/plain": [
       "nested_logit_with_Z (generic function with 1 method)"
      ]
     },
     "execution_count": 36,
     "metadata": {},
     "output_type": "execute_result"
    }
   ],
   "source": [
    "function nested_logit_with_Z(theta, X, Z, y, nesting_structure)\n",
    "    \n",
    "    alpha = theta[1:end-3]\n",
    "    lambda = theta[end-2:end-1]\n",
    "    gamma = theta[end]\n",
    "    K = size(X,2)\n",
    "    J = length(unique(y))\n",
    "    N = length(y)\n",
    "    bigY = zeros(N,J)\n",
    "    for j=1:J\n",
    "        bigY[:,j] = y.==j\n",
    "    end\n",
    "    bigAlpha = [repeat(alpha[1:K],1,length(nesting_structure[1])) repeat(alpha[K+1:2K],1,length(nesting_structure[2])) zeros(K)]\n",
    "    \n",
    "    T = promote_type(eltype(X),eltype(theta))\n",
    "    num   = zeros(T,N,J)\n",
    "    lidx  = zeros(T,N,J)\n",
    "    dem   = zeros(T,N)\n",
    "    for j=1:J\n",
    "        if j in nesting_structure[1]\n",
    "            lidx[:,j] = exp.( (X*bigAlpha[:,j] .+ (Z[:,j] .- Z[:,J])*gamma)./lambda[1] )\n",
    "        elseif j in nesting_structure[2]\n",
    "            lidx[:,j] = exp.( (X*bigAlpha[:,j] .+ (Z[:,j] .- Z[:,J])*gamma)./lambda[2] )\n",
    "        else\n",
    "            lidx[:,j] = exp.(zeros(N))\n",
    "        end\n",
    "    end\n",
    "    for j=1:J\n",
    "        if j in nesting_structure[1]\n",
    "            num[:,j] = lidx[:,j].*sum(lidx[:,nesting_structure[1][:]];dims=2).^(lambda[1]-1)\n",
    "        elseif j in nesting_structure[2]\n",
    "            num[:,j] = lidx[:,j].*sum(lidx[:,nesting_structure[2][:]];dims=2).^(lambda[2]-1)\n",
    "        else\n",
    "            num[:,j] = lidx[:,j]\n",
    "        end\n",
    "        dem .+= num[:,j]\n",
    "    end\n",
    "    \n",
    "    P = num./repeat(dem,1,J)\n",
    "    \n",
    "    loglike = -sum( bigY.*log.(P) )\n",
    "    \n",
    "    return loglike\n",
    "end"
   ]
  },
  {
   "cell_type": "code",
   "execution_count": 37,
   "metadata": {
    "ExecuteTime": {
     "end_time": "2020-10-09T19:20:49.501000-04:00",
     "start_time": "2020-10-09T22:58:20.971Z"
    }
   },
   "outputs": [
    {
     "data": {
      "text/plain": [
       "(9,)"
      ]
     },
     "execution_count": 37,
     "metadata": {},
     "output_type": "execute_result"
    }
   ],
   "source": [
    "nesting_structure = [[1 2 3], [4 5 6 7]]\n",
    "startvals = [2*rand(2*size(X,2)).-1; 1; 1; .1]\n",
    "size(startvals)"
   ]
  },
  {
   "cell_type": "code",
   "execution_count": 38,
   "metadata": {
    "ExecuteTime": {
     "end_time": "2020-10-09T19:20:55.435000-04:00",
     "start_time": "2020-10-09T22:58:20.978Z"
    }
   },
   "outputs": [
    {
     "ename": "LoadError",
     "evalue": "AssertionError: isfinite(phi_c) && isfinite(dphi_c)",
     "output_type": "error",
     "traceback": [
      "AssertionError: isfinite(phi_c) && isfinite(dphi_c)",
      "",
      "Stacktrace:",
      " [1] secant2!(::LineSearches.var\"#ϕdϕ#6\"{Optim.ManifoldObjective{TwiceDifferentiable{Float64,Array{Float64,1},Array{Float64,2},Array{Float64,1}}},Array{Float64,1},Array{Float64,1},Array{Float64,1}}, ::Array{Float64,1}, ::Array{Float64,1}, ::Array{Float64,1}, ::Int64, ::Int64, ::Float64, ::Float64, ::Float64, ::Int64) at C:\\Users\\jhu\\.julia\\packages\\LineSearches\\pJuyA\\src\\hagerzhang.jl:369",
      " [2] (::HagerZhang{Float64,Base.RefValue{Bool}})(::Function, ::LineSearches.var\"#ϕdϕ#6\"{Optim.ManifoldObjective{TwiceDifferentiable{Float64,Array{Float64,1},Array{Float64,2},Array{Float64,1}}},Array{Float64,1},Array{Float64,1},Array{Float64,1}}, ::Float64, ::Float64, ::Float64) at C:\\Users\\jhu\\.julia\\packages\\LineSearches\\pJuyA\\src\\hagerzhang.jl:269",
      " [3] HagerZhang at C:\\Users\\jhu\\.julia\\packages\\LineSearches\\pJuyA\\src\\hagerzhang.jl:101 [inlined]",
      " [4] perform_linesearch!(::Optim.LBFGSState{Array{Float64,1},Array{Array{Float64,1},1},Array{Array{Float64,1},1},Float64,Array{Float64,1}}, ::LBFGS{Nothing,InitialStatic{Float64},HagerZhang{Float64,Base.RefValue{Bool}},Optim.var\"#15#17\"}, ::Optim.ManifoldObjective{TwiceDifferentiable{Float64,Array{Float64,1},Array{Float64,2},Array{Float64,1}}}) at C:\\Users\\jhu\\.julia\\packages\\Optim\\TNmSw\\src\\utilities\\perform_linesearch.jl:56",
      " [5] update_state!(::TwiceDifferentiable{Float64,Array{Float64,1},Array{Float64,2},Array{Float64,1}}, ::Optim.LBFGSState{Array{Float64,1},Array{Array{Float64,1},1},Array{Array{Float64,1},1},Float64,Array{Float64,1}}, ::LBFGS{Nothing,InitialStatic{Float64},HagerZhang{Float64,Base.RefValue{Bool}},Optim.var\"#15#17\"}) at C:\\Users\\jhu\\.julia\\packages\\Optim\\TNmSw\\src\\multivariate\\solvers\\first_order\\l_bfgs.jl:198",
      " [6] optimize(::TwiceDifferentiable{Float64,Array{Float64,1},Array{Float64,2},Array{Float64,1}}, ::Array{Float64,1}, ::LBFGS{Nothing,InitialStatic{Float64},HagerZhang{Float64,Base.RefValue{Bool}},Optim.var\"#15#17\"}, ::Optim.Options{Float64,Nothing}, ::Optim.LBFGSState{Array{Float64,1},Array{Array{Float64,1},1},Array{Array{Float64,1},1},Float64,Array{Float64,1}}) at C:\\Users\\jhu\\.julia\\packages\\Optim\\TNmSw\\src\\multivariate\\optimize\\optimize.jl:57",
      " [7] optimize(::TwiceDifferentiable{Float64,Array{Float64,1},Array{Float64,2},Array{Float64,1}}, ::Array{Float64,1}, ::LBFGS{Nothing,InitialStatic{Float64},HagerZhang{Float64,Base.RefValue{Bool}},Optim.var\"#15#17\"}, ::Optim.Options{Float64,Nothing}) at C:\\Users\\jhu\\.julia\\packages\\Optim\\TNmSw\\src\\multivariate\\optimize\\optimize.jl:33",
      " [8] top-level scope at In[38]:4",
      " [9] include_string(::Function, ::Module, ::String, ::String) at .\\loading.jl:1091",
      " [10] execute_code(::String, ::String) at C:\\Users\\jhu\\.julia\\packages\\IJulia\\rWZ9e\\src\\execute_request.jl:27",
      " [11] execute_request(::ZMQ.Socket, ::IJulia.Msg) at C:\\Users\\jhu\\.julia\\packages\\IJulia\\rWZ9e\\src\\execute_request.jl:86",
      " [12] #invokelatest#1 at .\\essentials.jl:710 [inlined]",
      " [13] invokelatest at .\\essentials.jl:709 [inlined]",
      " [14] eventloop(::ZMQ.Socket) at C:\\Users\\jhu\\.julia\\packages\\IJulia\\rWZ9e\\src\\eventloop.jl:8",
      " [15] (::IJulia.var\"#15#18\")() at .\\task.jl:356"
     ]
    }
   ],
   "source": [
    "td = TwiceDifferentiable(theta -> nested_logit_with_Z(theta, X, Z, y, nesting_structure), startvals; autodiff = :forward)\n",
    "\n",
    "# run the optimizer\n",
    "nlogit_theta_hat_optim_ad = optimize(td, startvals, LBFGS(), \n",
    "        Optim.Options(g_tol = 1e-5, iterations=100_000, show_trace=false, show_every=50))\n",
    "nlogit_theta_hat_mle_ad = nlogit_theta_hat_optim_ad.minimizer\n",
    "\n",
    "# evaluate the Hessian at the estimates\n",
    "#H  = Optim.hessian!(td, nlogit_theta_hat_mle_ad)\n",
    "#nlogit_theta_hat_mle_ad_se = sqrt.(diag(inv(H)))"
   ]
  },
  {
   "cell_type": "code",
   "execution_count": 39,
   "metadata": {
    "ExecuteTime": {
     "end_time": "2020-10-09T19:20:55.556000-04:00",
     "start_time": "2020-10-09T22:58:20.986Z"
    }
   },
   "outputs": [
    {
     "ename": "LoadError",
     "evalue": "UndefVarError: nlogit_theta_hat_mle_ad not defined",
     "output_type": "error",
     "traceback": [
      "UndefVarError: nlogit_theta_hat_mle_ad not defined",
      "",
      "Stacktrace:",
      " [1] top-level scope at In[39]:1",
      " [2] include_string(::Function, ::Module, ::String, ::String) at .\\loading.jl:1091",
      " [3] execute_code(::String, ::String) at C:\\Users\\jhu\\.julia\\packages\\IJulia\\rWZ9e\\src\\execute_request.jl:27",
      " [4] execute_request(::ZMQ.Socket, ::IJulia.Msg) at C:\\Users\\jhu\\.julia\\packages\\IJulia\\rWZ9e\\src\\execute_request.jl:86",
      " [5] #invokelatest#1 at .\\essentials.jl:710 [inlined]",
      " [6] invokelatest at .\\essentials.jl:709 [inlined]",
      " [7] eventloop(::ZMQ.Socket) at C:\\Users\\jhu\\.julia\\packages\\IJulia\\rWZ9e\\src\\eventloop.jl:8",
      " [8] (::IJulia.var\"#15#18\")() at .\\task.jl:356"
     ]
    }
   ],
   "source": [
    "DataFrame([nlogit_theta_hat_mle_ad nlogit_theta_hat_mle_ad_se]) # these standard errors match Stata"
   ]
  },
  {
   "cell_type": "markdown",
   "metadata": {},
   "source": [
    "# multinomial logit (with alternative-specific covariates Z) "
   ]
  },
  {
   "cell_type": "code",
   "execution_count": 40,
   "metadata": {
    "ExecuteTime": {
     "end_time": "2020-10-09T19:20:56.179000-04:00",
     "start_time": "2020-10-09T22:58:20.994Z"
    }
   },
   "outputs": [
    {
     "name": "stdout",
     "output_type": "stream",
     "text": [
      "/c/Users/jhu/Documents/GitHub/fall-2020/ProblemSets\n"
     ]
    }
   ],
   "source": [
    ";pwd"
   ]
  },
  {
   "cell_type": "code",
   "execution_count": 41,
   "metadata": {
    "ExecuteTime": {
     "end_time": "2020-10-09T19:20:56.337000-04:00",
     "start_time": "2020-10-09T22:58:21.002Z"
    }
   },
   "outputs": [
    {
     "data": {
      "text/plain": [
       "lgwt (generic function with 3 methods)"
      ]
     },
     "execution_count": 41,
     "metadata": {},
     "output_type": "execute_result"
    }
   ],
   "source": [
    "include(\"PS4-mixture/lgwt.jl\")"
   ]
  },
  {
   "cell_type": "code",
   "execution_count": 42,
   "metadata": {
    "ExecuteTime": {
     "end_time": "2020-10-09T19:20:57.309000-04:00",
     "start_time": "2020-10-09T22:58:21.008Z"
    }
   },
   "outputs": [],
   "source": [
    "url = \"https://raw.githubusercontent.com/OU-PhD-Econometrics/fall-2020/master/ProblemSets/PS4-mixture/nlsw88t.csv\"\n",
    "df = CSV.read(HTTP.get(url).body)\n",
    "X = [df.age df.white df.collgrad]\n",
    "Z = hcat(df.elnwage1, df.elnwage2, df.elnwage3, df.elnwage4, \n",
    "         df.elnwage5, df.elnwage6, df.elnwage7, df.elnwage8)\n",
    "y = df.occ_code;"
   ]
  },
  {
   "cell_type": "code",
   "execution_count": 43,
   "metadata": {
    "ExecuteTime": {
     "end_time": "2020-10-09T19:20:57.312000-04:00",
     "start_time": "2020-10-09T22:58:21.015Z"
    }
   },
   "outputs": [
    {
     "data": {
      "text/plain": [
       "((28365, 14), (28365, 3), (28365,), [18, 0, 0], [3, 6, 6, 6])"
      ]
     },
     "execution_count": 43,
     "metadata": {},
     "output_type": "execute_result"
    }
   ],
   "source": [
    "size(df),size(X), size(y), X[1,:],y[1:4]"
   ]
  },
  {
   "cell_type": "code",
   "execution_count": 44,
   "metadata": {
    "ExecuteTime": {
     "end_time": "2020-10-09T19:20:57.325000-04:00",
     "start_time": "2020-10-09T22:58:21.022Z"
    }
   },
   "outputs": [
    {
     "data": {
      "text/html": [
       "<table class=\"data-frame\"><thead><tr><th></th><th>idcode</th><th>year</th><th>age</th><th>collgrad</th><th>occ_code</th><th>white</th><th>elnwage1</th><th>elnwage2</th><th>elnwage3</th><th>elnwage4</th><th>elnwage5</th><th>elnwage6</th><th>elnwage7</th><th>elnwage8</th></tr><tr><th></th><th>Int64</th><th>Int64</th><th>Int64</th><th>Int64</th><th>Int64</th><th>Int64</th><th>Float64</th><th>Float64</th><th>Float64</th><th>Float64</th><th>Float64</th><th>Float64</th><th>Float64</th><th>Float64</th></tr></thead><tbody><p>4 rows × 14 columns</p><tr><th>1</th><td>1</td><td>70</td><td>18</td><td>0</td><td>3</td><td>0</td><td>1.54409</td><td>1.39779</td><td>1.5373</td><td>1.24634</td><td>1.32091</td><td>1.38799</td><td>1.05836</td><td>1.48378</td></tr><tr><th>2</th><td>1</td><td>71</td><td>19</td><td>0</td><td>6</td><td>0</td><td>1.57714</td><td>1.3839</td><td>1.54069</td><td>1.2108</td><td>1.30514</td><td>1.37949</td><td>1.11104</td><td>1.48257</td></tr><tr><th>3</th><td>1</td><td>72</td><td>20</td><td>0</td><td>6</td><td>0</td><td>1.62328</td><td>1.43399</td><td>1.56725</td><td>1.24377</td><td>1.36105</td><td>1.40231</td><td>1.15108</td><td>1.49813</td></tr><tr><th>4</th><td>1</td><td>73</td><td>21</td><td>0</td><td>6</td><td>0</td><td>1.66722</td><td>1.48198</td><td>1.5924</td><td>1.27541</td><td>1.41339</td><td>1.42391</td><td>1.18879</td><td>1.5135</td></tr></tbody></table>"
      ],
      "text/latex": [
       "\\begin{tabular}{r|cccccccccccccc}\n",
       "\t& idcode & year & age & collgrad & occ\\_code & white & elnwage1 & elnwage2 & elnwage3 & elnwage4 & elnwage5 & elnwage6 & elnwage7 & elnwage8\\\\\n",
       "\t\\hline\n",
       "\t& Int64 & Int64 & Int64 & Int64 & Int64 & Int64 & Float64 & Float64 & Float64 & Float64 & Float64 & Float64 & Float64 & Float64\\\\\n",
       "\t\\hline\n",
       "\t1 & 1 & 70 & 18 & 0 & 3 & 0 & 1.54409 & 1.39779 & 1.5373 & 1.24634 & 1.32091 & 1.38799 & 1.05836 & 1.48378 \\\\\n",
       "\t2 & 1 & 71 & 19 & 0 & 6 & 0 & 1.57714 & 1.3839 & 1.54069 & 1.2108 & 1.30514 & 1.37949 & 1.11104 & 1.48257 \\\\\n",
       "\t3 & 1 & 72 & 20 & 0 & 6 & 0 & 1.62328 & 1.43399 & 1.56725 & 1.24377 & 1.36105 & 1.40231 & 1.15108 & 1.49813 \\\\\n",
       "\t4 & 1 & 73 & 21 & 0 & 6 & 0 & 1.66722 & 1.48198 & 1.5924 & 1.27541 & 1.41339 & 1.42391 & 1.18879 & 1.5135 \\\\\n",
       "\\end{tabular}\n"
      ],
      "text/plain": [
       "4×14 DataFrame\n",
       "│ Row │ idcode │ year  │ age   │ collgrad │ occ_code │ white │ elnwage1 │ elnwage2 │ elnwage3 │ elnwage4 │ elnwage5 │ elnwage6 │ elnwage7 │ elnwage8 │\n",
       "│     │ \u001b[90mInt64\u001b[39m  │ \u001b[90mInt64\u001b[39m │ \u001b[90mInt64\u001b[39m │ \u001b[90mInt64\u001b[39m    │ \u001b[90mInt64\u001b[39m    │ \u001b[90mInt64\u001b[39m │ \u001b[90mFloat64\u001b[39m  │ \u001b[90mFloat64\u001b[39m  │ \u001b[90mFloat64\u001b[39m  │ \u001b[90mFloat64\u001b[39m  │ \u001b[90mFloat64\u001b[39m  │ \u001b[90mFloat64\u001b[39m  │ \u001b[90mFloat64\u001b[39m  │ \u001b[90mFloat64\u001b[39m  │\n",
       "├─────┼────────┼───────┼───────┼──────────┼──────────┼───────┼──────────┼──────────┼──────────┼──────────┼──────────┼──────────┼──────────┼──────────┤\n",
       "│ 1   │ 1      │ 70    │ 18    │ 0        │ 3        │ 0     │ 1.54409  │ 1.39779  │ 1.5373   │ 1.24634  │ 1.32091  │ 1.38799  │ 1.05836  │ 1.48378  │\n",
       "│ 2   │ 1      │ 71    │ 19    │ 0        │ 6        │ 0     │ 1.57714  │ 1.3839   │ 1.54069  │ 1.2108   │ 1.30514  │ 1.37949  │ 1.11104  │ 1.48257  │\n",
       "│ 3   │ 1      │ 72    │ 20    │ 0        │ 6        │ 0     │ 1.62328  │ 1.43399  │ 1.56725  │ 1.24377  │ 1.36105  │ 1.40231  │ 1.15108  │ 1.49813  │\n",
       "│ 4   │ 1      │ 73    │ 21    │ 0        │ 6        │ 0     │ 1.66722  │ 1.48198  │ 1.5924   │ 1.27541  │ 1.41339  │ 1.42391  │ 1.18879  │ 1.5135   │"
      ]
     },
     "execution_count": 44,
     "metadata": {},
     "output_type": "execute_result"
    }
   ],
   "source": [
    "df[1:4,:]"
   ]
  },
  {
   "cell_type": "code",
   "execution_count": 45,
   "metadata": {
    "ExecuteTime": {
     "end_time": "2020-10-09T19:20:57.339000-04:00",
     "start_time": "2020-10-09T22:58:21.029Z"
    }
   },
   "outputs": [
    {
     "data": {
      "text/plain": [
       "mlogit_with_Z (generic function with 1 method)"
      ]
     },
     "execution_count": 45,
     "metadata": {},
     "output_type": "execute_result"
    }
   ],
   "source": [
    "function mlogit_with_Z(theta, X, Z, y)\n",
    "        \n",
    "        alpha = theta[1:end-1]\n",
    "        gamma = theta[end]\n",
    "        K = size(X,2)\n",
    "        J = length(unique(y))\n",
    "        N = length(y)\n",
    "        bigY = zeros(N,J)\n",
    "        for j=1:J\n",
    "            bigY[:,j] = y.==j\n",
    "        end\n",
    "        bigAlpha = [reshape(alpha,K,J-1) zeros(K)]\n",
    "        \n",
    "        T = promote_type(eltype(X),eltype(theta))\n",
    "        num   = zeros(T,N,J)\n",
    "        dem   = zeros(T,N)\n",
    "        for j=1:J\n",
    "            num[:,j] = exp.(X*bigAlpha[:,j] .+ (Z[:,j] .- Z[:,J])*gamma)\n",
    "            dem .+= num[:,j]\n",
    "        end\n",
    "        \n",
    "        P = num./repeat(dem,1,J)\n",
    "        \n",
    "        loglike = -sum( bigY.*log.(P) )\n",
    "        \n",
    "        return loglike\n",
    "    end"
   ]
  },
  {
   "cell_type": "code",
   "execution_count": 46,
   "metadata": {
    "ExecuteTime": {
     "end_time": "2020-10-09T19:20:57.343000-04:00",
     "start_time": "2020-10-09T22:58:21.036Z"
    }
   },
   "outputs": [
    {
     "data": {
      "text/plain": [
       "22-element Array{Float64,1}:\n",
       "  0.0403744\n",
       "  0.2439942\n",
       " -1.57132\n",
       "  0.0433254\n",
       "  0.1468556\n",
       " -2.959103\n",
       "  0.1020574\n",
       "  0.7473086\n",
       " -4.12005\n",
       "  0.0375628\n",
       "  0.6884899\n",
       " -3.65577\n",
       "  0.0204543\n",
       " -0.3584007\n",
       " -4.376929\n",
       "  0.1074636\n",
       " -0.5263738\n",
       " -6.199197\n",
       "  0.1168824\n",
       " -0.2870554\n",
       " -5.322248\n",
       "  1.307477"
      ]
     },
     "execution_count": 46,
     "metadata": {},
     "output_type": "execute_result"
    }
   ],
   "source": [
    "#startvals = [2*rand(7*size(X,2)).-1; .1]\n",
    "startvals = [0.0403744\n",
    "  0.2439942\n",
    " -1.57132\n",
    "  0.0433254\n",
    "  0.1468556\n",
    " -2.959103\n",
    "  0.1020574\n",
    "  0.7473086\n",
    " -4.12005\n",
    "  0.0375628\n",
    "  0.6884899\n",
    " -3.65577\n",
    "  0.0204543\n",
    " -0.3584007\n",
    " -4.376929\n",
    "  0.1074636\n",
    " -0.5263738\n",
    " -6.199197\n",
    "  0.1168824\n",
    " -0.2870554\n",
    " -5.322248\n",
    "  1.307477\n",
    "]"
   ]
  },
  {
   "cell_type": "code",
   "execution_count": 47,
   "metadata": {
    "ExecuteTime": {
     "end_time": "2020-10-09T19:21:11.995000-04:00",
     "start_time": "2020-10-09T22:58:21.044Z"
    }
   },
   "outputs": [
    {
     "data": {
      "text/plain": [
       " * Status: success\n",
       "\n",
       " * Candidate solution\n",
       "    Final objective value:     4.488317e+04\n",
       "\n",
       " * Found with\n",
       "    Algorithm:     L-BFGS\n",
       "\n",
       " * Convergence measures\n",
       "    |x - x'|               = 6.71e-09 ≰ 0.0e+00\n",
       "    |x - x'|/|x'|          = 1.08e-09 ≰ 0.0e+00\n",
       "    |f(x) - f(x')|         = 0.00e+00 ≤ 0.0e+00\n",
       "    |f(x) - f(x')|/|f(x')| = 0.00e+00 ≤ 0.0e+00\n",
       "    |g(x)|                 = 2.67e-04 ≰ 1.0e-05\n",
       "\n",
       " * Work counters\n",
       "    Seconds run:   12  (vs limit Inf)\n",
       "    Iterations:    15\n",
       "    f(x) calls:    49\n",
       "    ∇f(x) calls:   49\n"
      ]
     },
     "execution_count": 47,
     "metadata": {},
     "output_type": "execute_result"
    }
   ],
   "source": [
    "td = TwiceDifferentiable(theta -> mlogit_with_Z(theta, X, Z, y), startvals; autodiff = :forward)\n",
    "# run the optimizer\n",
    "theta_hat_optim_ad = optimize(td, startvals, LBFGS(), \n",
    "                    Optim.Options(g_tol = 1e-5, iterations=100_000, show_trace=false, show_every=50))"
   ]
  },
  {
   "cell_type": "code",
   "execution_count": 48,
   "metadata": {
    "ExecuteTime": {
     "end_time": "2020-10-09T19:21:24.398000-04:00",
     "start_time": "2020-10-09T22:58:21.050Z"
    }
   },
   "outputs": [
    {
     "data": {
      "text/html": [
       "<table class=\"data-frame\"><thead><tr><th></th><th>x1</th><th>x2</th></tr><tr><th></th><th>Float64</th><th>Float64</th></tr></thead><tbody><p>22 rows × 2 columns</p><tr><th>1</th><td>0.0403745</td><td>0.0028898</td></tr><tr><th>2</th><td>0.243995</td><td>0.0714891</td></tr><tr><th>3</th><td>-1.57132</td><td>0.0875003</td></tr><tr><th>4</th><td>0.0433255</td><td>0.00293729</td></tr><tr><th>5</th><td>0.146856</td><td>0.078683</td></tr><tr><th>6</th><td>-2.95911</td><td>0.0927874</td></tr><tr><th>7</th><td>0.102057</td><td>0.00254176</td></tr><tr><th>8</th><td>0.747309</td><td>0.0675232</td></tr><tr><th>9</th><td>-4.12005</td><td>0.0901064</td></tr><tr><th>10</th><td>0.0375629</td><td>0.00320097</td></tr><tr><th>11</th><td>0.68849</td><td>0.0884348</td></tr><tr><th>12</th><td>-3.65577</td><td>0.111402</td></tr><tr><th>13</th><td>0.0204543</td><td>0.00348658</td></tr><tr><th>14</th><td>-0.3584</td><td>0.107959</td></tr><tr><th>15</th><td>-4.37693</td><td>0.199799</td></tr><tr><th>16</th><td>0.107464</td><td>0.00259943</td></tr><tr><th>17</th><td>-0.526373</td><td>0.0739877</td></tr><tr><th>18</th><td>-6.1992</td><td>0.178096</td></tr><tr><th>19</th><td>0.116882</td><td>0.00281366</td></tr><tr><th>20</th><td>-0.287055</td><td>0.0726636</td></tr><tr><th>21</th><td>-5.32225</td><td>0.104839</td></tr><tr><th>22</th><td>1.30748</td><td>0.124669</td></tr></tbody></table>"
      ],
      "text/latex": [
       "\\begin{tabular}{r|cc}\n",
       "\t& x1 & x2\\\\\n",
       "\t\\hline\n",
       "\t& Float64 & Float64\\\\\n",
       "\t\\hline\n",
       "\t1 & 0.0403745 & 0.0028898 \\\\\n",
       "\t2 & 0.243995 & 0.0714891 \\\\\n",
       "\t3 & -1.57132 & 0.0875003 \\\\\n",
       "\t4 & 0.0433255 & 0.00293729 \\\\\n",
       "\t5 & 0.146856 & 0.078683 \\\\\n",
       "\t6 & -2.95911 & 0.0927874 \\\\\n",
       "\t7 & 0.102057 & 0.00254176 \\\\\n",
       "\t8 & 0.747309 & 0.0675232 \\\\\n",
       "\t9 & -4.12005 & 0.0901064 \\\\\n",
       "\t10 & 0.0375629 & 0.00320097 \\\\\n",
       "\t11 & 0.68849 & 0.0884348 \\\\\n",
       "\t12 & -3.65577 & 0.111402 \\\\\n",
       "\t13 & 0.0204543 & 0.00348658 \\\\\n",
       "\t14 & -0.3584 & 0.107959 \\\\\n",
       "\t15 & -4.37693 & 0.199799 \\\\\n",
       "\t16 & 0.107464 & 0.00259943 \\\\\n",
       "\t17 & -0.526373 & 0.0739877 \\\\\n",
       "\t18 & -6.1992 & 0.178096 \\\\\n",
       "\t19 & 0.116882 & 0.00281366 \\\\\n",
       "\t20 & -0.287055 & 0.0726636 \\\\\n",
       "\t21 & -5.32225 & 0.104839 \\\\\n",
       "\t22 & 1.30748 & 0.124669 \\\\\n",
       "\\end{tabular}\n"
      ],
      "text/plain": [
       "22×2 DataFrame\n",
       "│ Row │ x1        │ x2         │\n",
       "│     │ \u001b[90mFloat64\u001b[39m   │ \u001b[90mFloat64\u001b[39m    │\n",
       "├─────┼───────────┼────────────┤\n",
       "│ 1   │ 0.0403745 │ 0.0028898  │\n",
       "│ 2   │ 0.243995  │ 0.0714891  │\n",
       "│ 3   │ -1.57132  │ 0.0875003  │\n",
       "│ 4   │ 0.0433255 │ 0.00293729 │\n",
       "│ 5   │ 0.146856  │ 0.078683   │\n",
       "│ 6   │ -2.95911  │ 0.0927874  │\n",
       "│ 7   │ 0.102057  │ 0.00254176 │\n",
       "│ 8   │ 0.747309  │ 0.0675232  │\n",
       "│ 9   │ -4.12005  │ 0.0901064  │\n",
       "│ 10  │ 0.0375629 │ 0.00320097 │\n",
       "│ 11  │ 0.68849   │ 0.0884348  │\n",
       "│ 12  │ -3.65577  │ 0.111402   │\n",
       "│ 13  │ 0.0204543 │ 0.00348658 │\n",
       "│ 14  │ -0.3584   │ 0.107959   │\n",
       "│ 15  │ -4.37693  │ 0.199799   │\n",
       "│ 16  │ 0.107464  │ 0.00259943 │\n",
       "│ 17  │ -0.526373 │ 0.0739877  │\n",
       "│ 18  │ -6.1992   │ 0.178096   │\n",
       "│ 19  │ 0.116882  │ 0.00281366 │\n",
       "│ 20  │ -0.287055 │ 0.0726636  │\n",
       "│ 21  │ -5.32225  │ 0.104839   │\n",
       "│ 22  │ 1.30748   │ 0.124669   │"
      ]
     },
     "execution_count": 48,
     "metadata": {},
     "output_type": "execute_result"
    }
   ],
   "source": [
    "theta_hat_mle_ad = theta_hat_optim_ad.minimizer\n",
    "H  = Optim.hessian!(td, theta_hat_mle_ad)\n",
    "theta_hat_mle_ad_se = sqrt.(diag(inv(H)))\n",
    "DataFrame([theta_hat_mle_ad theta_hat_mle_ad_se]) # these standard errors match Stata"
   ]
  },
  {
   "cell_type": "markdown",
   "metadata": {},
   "source": [
    "# mixed logit "
   ]
  },
  {
   "cell_type": "code",
   "execution_count": 49,
   "metadata": {
    "ExecuteTime": {
     "end_time": "2020-10-09T19:21:27.075000-04:00",
     "start_time": "2020-10-09T22:58:21.055Z"
    }
   },
   "outputs": [
    {
     "data": {
      "text/plain": [
       "2.6454533008646308e-17"
      ]
     },
     "execution_count": 49,
     "metadata": {},
     "output_type": "execute_result"
    }
   ],
   "source": [
    "# define distribution\n",
    "d = Normal(0,1) # mean=0, standard deviation=1\n",
    "\n",
    "# get quadrature nodes and weights for 7 grid points\n",
    "nodes, weights = lgwt(7,-4,4)\n",
    "\n",
    "# now compute the integral over the density and verify it's 1\n",
    "sum(weights.*pdf.(d,nodes))\n",
    "\n",
    "# now compute the expectation and verify it's 0\n",
    "sum(weights.*nodes.*pdf.(d,nodes))"
   ]
  },
  {
   "cell_type": "code",
   "execution_count": 50,
   "metadata": {
    "ExecuteTime": {
     "end_time": "2020-10-09T19:21:27.259000-04:00",
     "start_time": "2020-10-09T22:58:21.059Z"
    }
   },
   "outputs": [
    {
     "data": {
      "text/plain": [
       "4.038977384853661"
      ]
     },
     "execution_count": 50,
     "metadata": {},
     "output_type": "execute_result"
    }
   ],
   "source": [
    "d = Normal(0,2)\n",
    "\n",
    "nodes, weights = lgwt(7,-10,10)\n",
    "sum(weights .* nodes.^2 .* pdf.(d,nodes))\n",
    "\n",
    "nodes, weights = lgwt(10,-10,10)\n",
    "sum(weights .* nodes.^2 .* pdf.(d,nodes))"
   ]
  },
  {
   "cell_type": "code",
   "execution_count": 51,
   "metadata": {
    "ExecuteTime": {
     "end_time": "2020-10-09T19:21:27.412000-04:00",
     "start_time": "2020-10-09T22:58:21.066Z"
    }
   },
   "outputs": [
    {
     "data": {
      "text/plain": [
       "1000000-element Array{Float64,1}:\n",
       "  4.753685437166379\n",
       "  4.466184347790074\n",
       "  8.912346987237243\n",
       "  6.223902853311728\n",
       " -4.23689632092036\n",
       " -6.970353385103647\n",
       " -6.698947108401634\n",
       " -9.132918909609828\n",
       "  2.800553930417763\n",
       " -0.9014132554337486\n",
       " -7.024803816398384\n",
       " -2.6755636905335622\n",
       "  0.4558587935437117\n",
       "  ⋮\n",
       " -6.417886300341569\n",
       " -0.7173580656365708\n",
       "  3.9370809063666368\n",
       "  4.441078801221927\n",
       " -7.599540247552845\n",
       " -7.002947837730602\n",
       "  5.502510973668905\n",
       " -6.25223973309279\n",
       " -9.748942566142631\n",
       " -4.957927031035703\n",
       " -1.3498412229020929\n",
       "  2.2702973158198816"
      ]
     },
     "execution_count": 51,
     "metadata": {},
     "output_type": "execute_result"
    }
   ],
   "source": [
    "b = 10\n",
    "a = -10\n",
    "c = Uniform(a,b)\n",
    "draws = rand(c,1_000_000)"
   ]
  },
  {
   "cell_type": "code",
   "execution_count": 52,
   "metadata": {
    "ExecuteTime": {
     "end_time": "2020-10-09T19:21:27.664000-04:00",
     "start_time": "2020-10-09T22:58:21.072Z"
    }
   },
   "outputs": [
    {
     "name": "stdout",
     "output_type": "stream",
     "text": [
      "3.9969278597257603\n"
     ]
    }
   ],
   "source": [
    "# estimate of variance\n",
    "    (b-a)*mean(draws.^2 .* pdf.(d,draws)) |> println"
   ]
  },
  {
   "cell_type": "code",
   "execution_count": 53,
   "metadata": {
    "ExecuteTime": {
     "end_time": "2020-10-09T19:21:27.704000-04:00",
     "start_time": "2020-10-09T22:58:21.078Z"
    }
   },
   "outputs": [
    {
     "name": "stdout",
     "output_type": "stream",
     "text": [
      "-0.0004499707742411492\n"
     ]
    }
   ],
   "source": [
    "# estimate of mean\n",
    "    (b-a)*mean(draws .* pdf.(d,draws)) |> println"
   ]
  },
  {
   "cell_type": "code",
   "execution_count": 54,
   "metadata": {
    "ExecuteTime": {
     "end_time": "2020-10-09T19:21:27.801000-04:00",
     "start_time": "2020-10-09T22:58:21.083Z"
    }
   },
   "outputs": [
    {
     "name": "stdout",
     "output_type": "stream",
     "text": [
      "0.9996672106524742\n"
     ]
    }
   ],
   "source": [
    "# estimate of integral over support\n",
    "    (b-a)*mean(pdf.(d,draws)) |> println"
   ]
  },
  {
   "cell_type": "code",
   "execution_count": 55,
   "metadata": {
    "ExecuteTime": {
     "end_time": "2020-10-09T19:21:27.907000-04:00",
     "start_time": "2020-10-09T22:58:21.087Z"
    }
   },
   "outputs": [
    {
     "name": "stdout",
     "output_type": "stream",
     "text": [
      "3.9969278597257603\n",
      "-0.0004499707742411492\n",
      "0.9996672106524742\n"
     ]
    }
   ],
   "source": [
    "# now repeat with only 1_000 draws\n",
    "    draw2 = rand(c,1_000)\n",
    "    (b-a)*mean(draws.^2 .* pdf.(d,draws)) |> println\n",
    "    (b-a)*mean(draws .* pdf.(d,draws)) |> println\n",
    "    (b-a)*mean(pdf.(d,draws)) |> println\n"
   ]
  },
  {
   "cell_type": "code",
   "execution_count": null,
   "metadata": {},
   "outputs": [],
   "source": []
  },
  {
   "cell_type": "code",
   "execution_count": 56,
   "metadata": {
    "ExecuteTime": {
     "end_time": "2020-10-09T19:21:28.044000-04:00",
     "start_time": "2020-10-09T22:58:21.094Z"
    }
   },
   "outputs": [
    {
     "data": {
      "text/plain": [
       "mixlogit_quad_with_Z (generic function with 1 method)"
      ]
     },
     "execution_count": 56,
     "metadata": {},
     "output_type": "execute_result"
    }
   ],
   "source": [
    "function mixlogit_quad_with_Z(theta, X, Z, y, R)\n",
    "    \n",
    "    alpha = theta[1:end-2]\n",
    "    gamma = theta[end-1]\n",
    "    sigma = exp(theta[end]) # makes sure sigma is never 0 (which would make the Normal density undefined)\n",
    "    K = size(X,2)\n",
    "    J = length(unique(y))\n",
    "    N = length(y)\n",
    "    bigY = zeros(N,J)\n",
    "    for j=1:J\n",
    "        bigY[:,j] = y.==j\n",
    "    end\n",
    "    bigAlpha = [reshape(alpha,K,J-1) zeros(K)]\n",
    "    \n",
    "    # now write P as a function of variable of integration\n",
    "    T = promote_type(eltype(X),eltype(theta))\n",
    "    function like_int(T,N,J,X,Z,bigAlpha,gamma,sigma,R)\n",
    "        nodes, weights = lgwt(R,-4*sigma,4*sigma)\n",
    "        out = zeros(T,N)\n",
    "        for r=1:R\n",
    "            num   = zeros(T,N,J)\n",
    "            dem   = zeros(T,N)\n",
    "            P     = zeros(T,N,J)\n",
    "            for j=1:J\n",
    "                num[:,j] = exp.(X*bigAlpha[:,j] .+ (Z[:,j] .- Z[:,J])*nodes[r])\n",
    "                dem .+= num[:,j]\n",
    "            end\n",
    "            P = num./repeat(dem,1,J)\n",
    "            out .+= vec( weights[r]*( prod(P.^bigY; dims=2) )*pdf(Normal(gamma,sigma),nodes[r]) ) # why do we have to use vec here? because vectors in Julia are \"flat\" and the vec operator flattens a one-dimensional array.\n",
    "        end\n",
    "        return out\n",
    "    end\n",
    "    \n",
    "    intlike = like_int(T,N,J,X,Z,bigAlpha,gamma,sigma,R)\n",
    "    loglike = -sum(log.(intlike))\n",
    "    return loglike\n",
    "end"
   ]
  },
  {
   "cell_type": "code",
   "execution_count": 57,
   "metadata": {
    "ExecuteTime": {
     "end_time": "2020-10-09T19:21:28.049000-04:00",
     "start_time": "2020-10-09T22:58:21.101Z"
    }
   },
   "outputs": [
    {
     "data": {
      "text/plain": [
       "23-element Array{Float64,1}:\n",
       "  0.0403744\n",
       "  0.2439942\n",
       " -1.57132\n",
       "  0.0433254\n",
       "  0.1468556\n",
       " -2.959103\n",
       "  0.1020574\n",
       "  0.7473086\n",
       " -4.12005\n",
       "  0.0375628\n",
       "  0.6884899\n",
       " -3.65577\n",
       "  0.0204543\n",
       " -0.3584007\n",
       " -4.376929\n",
       "  0.1074636\n",
       " -0.5263738\n",
       " -6.199197\n",
       "  0.1168824\n",
       " -0.2870554\n",
       " -5.322248\n",
       "  1.307477\n",
       "  2.0"
      ]
     },
     "execution_count": 57,
     "metadata": {},
     "output_type": "execute_result"
    }
   ],
   "source": [
    "startvals = [\n",
    "    0.0403744\n",
    "  0.2439942\n",
    " -1.57132\n",
    "  0.0433254\n",
    "  0.1468556\n",
    " -2.959103\n",
    "  0.1020574\n",
    "  0.7473086\n",
    " -4.12005\n",
    "  0.0375628\n",
    "  0.6884899\n",
    " -3.65577\n",
    "  0.0204543\n",
    " -0.3584007\n",
    " -4.376929\n",
    "  0.1074636\n",
    " -0.5263738\n",
    " -6.199197\n",
    "  0.1168824\n",
    " -0.2870554\n",
    " -5.322248\n",
    "  1.307477\n",
    "  2.0\n",
    "]"
   ]
  },
  {
   "cell_type": "code",
   "execution_count": 58,
   "metadata": {
    "ExecuteTime": {
     "end_time": "2020-10-09T19:21:28.054000-04:00",
     "start_time": "2020-10-09T22:58:21.107Z"
    }
   },
   "outputs": [
    {
     "data": {
      "text/plain": [
       "23-element Array{Float64,1}:\n",
       " -0.0493358\n",
       " -0.7359427\n",
       "  1.161792\n",
       " -0.0127601\n",
       "  0.1499798\n",
       " -2.438863\n",
       "  0.0979789\n",
       "  0.6508201\n",
       " -4.049595\n",
       "  0.055819\n",
       "  0.2773671\n",
       " -4.34042\n",
       "  0.0203963\n",
       " -0.6880248\n",
       " -4.794188\n",
       "  0.1288023\n",
       " -0.9974547\n",
       " -7.914539\n",
       "  0.118583\n",
       " -0.7813687\n",
       " -5.609388\n",
       "  4.50982\n",
       "  2.2925"
      ]
     },
     "execution_count": 58,
     "metadata": {},
     "output_type": "execute_result"
    }
   ],
   "source": [
    "startvals = [\n",
    "    -0.0493358\n",
    " -0.7359427\n",
    "  1.161792\n",
    " -0.0127601\n",
    "  0.1499798\n",
    " -2.438863\n",
    "  0.0979789\n",
    "  0.6508201\n",
    " -4.049595\n",
    "  0.055819\n",
    "  0.2773671\n",
    " -4.34042\n",
    "  0.0203963\n",
    " -0.6880248\n",
    " -4.794188\n",
    "  0.1288023\n",
    " -0.9974547\n",
    " -7.914539\n",
    "  0.118583\n",
    " -0.7813687\n",
    " -5.609388\n",
    "  4.50982\n",
    "  2.2925\n",
    "]"
   ]
  },
  {
   "cell_type": "code",
   "execution_count": 59,
   "metadata": {
    "ExecuteTime": {
     "end_time": "2020-10-09T19:21:43.579000-04:00",
     "start_time": "2020-10-09T22:58:21.113Z"
    }
   },
   "outputs": [
    {
     "name": "stdout",
     "output_type": "stream",
     "text": [
      "Iter     Function value   Gradient norm \n",
      "     0     4.406052e+04     1.141582e+04\n",
      " * time: 0.002000093460083008\n",
      "     1     4.403062e+04     2.062902e+03\n",
      " * time: 5.799999952316284\n",
      "     2     4.402829e+04     1.300642e+03\n",
      " * time: 8.342000007629395\n"
     ]
    },
    {
     "data": {
      "text/plain": [
       " * Status: failure (reached maximum number of iterations)\n",
       "\n",
       " * Candidate solution\n",
       "    Final objective value:     4.402829e+04\n",
       "\n",
       " * Found with\n",
       "    Algorithm:     L-BFGS\n",
       "\n",
       " * Convergence measures\n",
       "    |x - x'|               = 4.73e-04 ≰ 0.0e+00\n",
       "    |x - x'|/|x'|          = 5.98e-05 ≰ 0.0e+00\n",
       "    |f(x) - f(x')|         = 2.33e+00 ≰ 0.0e+00\n",
       "    |f(x) - f(x')|/|f(x')| = 5.29e-05 ≰ 0.0e+00\n",
       "    |g(x)|                 = 1.30e+03 ≰ 1.0e-05\n",
       "\n",
       " * Work counters\n",
       "    Seconds run:   8  (vs limit Inf)\n",
       "    Iterations:    2\n",
       "    f(x) calls:    18\n",
       "    ∇f(x) calls:   3\n"
      ]
     },
     "execution_count": 59,
     "metadata": {},
     "output_type": "execute_result"
    }
   ],
   "source": [
    "td = TwiceDifferentiable(theta -> mixlogit_quad_with_Z(theta, X, Z, y, 7), startvals; autodiff = :forward)\n",
    "    # run the optimizer\n",
    "theta_hat_mix_optim_ad = optimize(td, startvals, LBFGS(linesearch = BackTracking()), \n",
    "                      Optim.Options(g_tol = 1e-5, iterations=100_000, show_trace=false, show_every=1))"
   ]
  },
  {
   "cell_type": "code",
   "execution_count": 60,
   "metadata": {
    "ExecuteTime": {
     "end_time": "2020-10-09T21:08:04.168000-04:00",
     "start_time": "2020-10-09T22:58:21.117Z"
    }
   },
   "outputs": [
    {
     "name": "stdout",
     "output_type": "stream",
     "text": [
      "Iter     Function value   Gradient norm \n",
      "     0     4.406052e+04     1.141582e+04\n",
      " * time: 0.0009999275207519531\n",
      "    50     4.395013e+04     3.732679e+02\n",
      " * time: 369.08200001716614\n",
      "   100     4.394021e+04     3.137313e+01\n",
      " * time: 724.231999874115\n",
      "   150     4.393842e+04     2.330937e+01\n",
      " * time: 1101.1129999160767\n",
      "   200     4.393799e+04     3.458030e+00\n",
      " * time: 1440.651999950409\n",
      "   250     4.393779e+04     4.593640e+01\n",
      " * time: 1772.5120000839233\n",
      "   300     4.393767e+04     2.239337e+01\n",
      " * time: 2124.4900000095367\n",
      "   350     4.393760e+04     3.584956e+00\n",
      " * time: 2466.731999874115\n",
      "   400     4.393758e+04     1.282834e+01\n",
      " * time: 3119.2460000514984\n",
      "   450     4.393757e+04     1.566242e+00\n",
      " * time: 3582.4939999580383\n",
      "   500     4.393757e+04     3.156897e+00\n",
      " * time: 4086.9359998703003\n",
      "   550     4.393757e+04     5.023101e-01\n",
      " * time: 4586.657999992371\n",
      "   600     4.393757e+04     3.627510e-01\n",
      " * time: 5100.338000059128\n",
      "   650     4.393757e+04     9.932797e-02\n",
      " * time: 5594.846999883652\n",
      "   700     4.393757e+04     5.680645e-03\n",
      " * time: 6097.743000030518\n"
     ]
    },
    {
     "data": {
      "text/plain": [
       " * Status: failure (objective increased between iterations)\n",
       "\n",
       " * Candidate solution\n",
       "    Final objective value:     4.393757e+04\n",
       "\n",
       " * Found with\n",
       "    Algorithm:     L-BFGS\n",
       "\n",
       " * Convergence measures\n",
       "    |x - x'|               = 7.18e-08 ≰ 0.0e+00\n",
       "    |x - x'|/|x'|          = 8.26e-09 ≰ 0.0e+00\n",
       "    |f(x) - f(x')|         = 7.28e-12 ≰ 0.0e+00\n",
       "    |f(x) - f(x')|/|f(x')| = 1.66e-16 ≰ 0.0e+00\n",
       "    |g(x)|                 = 3.24e-03 ≰ 1.0e-05\n",
       "\n",
       " * Work counters\n",
       "    Seconds run:   6378  (vs limit Inf)\n",
       "    Iterations:    727\n",
       "    f(x) calls:    2279\n",
       "    ∇f(x) calls:   2264\n"
      ]
     },
     "execution_count": 60,
     "metadata": {},
     "output_type": "execute_result"
    }
   ],
   "source": [
    "theta_hat_mix_optim_ad = optimize(td, startvals, LBFGS(), \n",
    "Optim.Options(g_tol = 1e-5, iterations=100_000, show_trace=false, show_every=50))"
   ]
  },
  {
   "cell_type": "code",
   "execution_count": 61,
   "metadata": {
    "ExecuteTime": {
     "end_time": "2020-10-09T21:08:04.193000-04:00",
     "start_time": "2020-10-09T22:58:21.122Z"
    }
   },
   "outputs": [
    {
     "name": "stdout",
     "output_type": "stream",
     "text": [
      "[-0.04777877883533606, -0.47898270632061074, 1.3192068371897292, -0.007828243306700419, 0.3872993108319169, -2.3706206042816667, 0.10853115013838868, 0.7881421211966766, -4.830801965152722, 0.04888970119859712, 0.5506886770187716, -4.754547069771281, 0.028378170943471, -0.4743409826824806, -4.839365770733797, 0.12089211111352804, -0.588758745069359, -8.693494922428261, 0.10783378781742979, -0.5349464811147346, -5.843150991831915, 2.6928517144885613, 2.4322748489032886]\n"
     ]
    }
   ],
   "source": [
    "  theta_hat_mix_mle_ad = theta_hat_mix_optim_ad.minimizer\n",
    "    println(theta_hat_mix_mle_ad)"
   ]
  },
  {
   "cell_type": "code",
   "execution_count": null,
   "metadata": {},
   "outputs": [],
   "source": []
  },
  {
   "cell_type": "code",
   "execution_count": 62,
   "metadata": {
    "ExecuteTime": {
     "end_time": "2020-10-09T21:08:04.201000-04:00",
     "start_time": "2020-10-09T22:58:21.130Z"
    }
   },
   "outputs": [],
   "source": [
    "# # evaluate the Hessian at the estimates\n",
    "# H  = Optim.hessian!(td, theta_hat_mix_optim_ad) # it bugs out at this point, and I don't now why\n",
    "# # theta_hat_mix_mle_ad_se = sqrt.(diag(inv(H)))\n",
    "# # println([theta_hat_mix_mle_ad theta_hat_mix_mle_ad_se]) # these standard errors match Stata"
   ]
  },
  {
   "cell_type": "code",
   "execution_count": null,
   "metadata": {},
   "outputs": [],
   "source": []
  },
  {
   "cell_type": "code",
   "execution_count": 63,
   "metadata": {
    "ExecuteTime": {
     "end_time": "2020-10-09T21:08:04.605000-04:00",
     "start_time": "2020-10-09T22:58:21.141Z"
    }
   },
   "outputs": [
    {
     "data": {
      "text/plain": [
       "mixlogit_MC_with_Z (generic function with 1 method)"
      ]
     },
     "execution_count": 63,
     "metadata": {},
     "output_type": "execute_result"
    }
   ],
   "source": [
    "function mixlogit_MC_with_Z(theta, X, Z, y, R)\n",
    "    \n",
    "    alpha = theta[1:end-2]\n",
    "    gamma = theta[end-1]\n",
    "    sigma = exp(theta[end]) # makes sure sigma is never 0 (which would make the Normal density undefined)\n",
    "    K = size(X,2)\n",
    "    J = length(unique(y))\n",
    "    N = length(y)\n",
    "    bigY = zeros(N,J)\n",
    "    for j=1:J\n",
    "        bigY[:,j] = y.==j\n",
    "    end\n",
    "    bigAlpha = [reshape(alpha,K,J-1) zeros(K)]\n",
    "    \n",
    "    # now write P as a function of variable of integration\n",
    "    T = promote_type(eltype(X),eltype(theta))\n",
    "    function like_int(T,N,J,X,Z,bigAlpha,gamma,sigma,R)\n",
    "        draws = 8*sigma.*Base.rand(R).-4*sigma\n",
    "        out = zeros(T,N)\n",
    "        for r=1:R\n",
    "            num   = zeros(T,N,J)\n",
    "            dem   = zeros(T,N)\n",
    "            P     = zeros(T,N,J)\n",
    "            for j=1:J\n",
    "                num[:,j] = exp.(X*bigAlpha[:,j] .+ (Z[:,j] .- Z[:,J])*draws[r])\n",
    "                dem .+= num[:,j]\n",
    "            end\n",
    "            P = num./repeat(dem,1,J)\n",
    "            out .+= vec( (8*sigma/R)*( prod(P.^bigY; dims=2) )*pdf(Normal(gamma,sigma),draws[r]) ) # why do we have to use vec here? because vectors in Julia are \"flat\" and the vec operator flattens a one-dimensional array.\n",
    "        end\n",
    "        return out\n",
    "    end\n",
    "    \n",
    "    intlike = like_int(T,N,J,X,Z,bigAlpha,gamma,sigma,R)\n",
    "    loglike = -sum(log.(intlike))\n",
    "    return loglike\n",
    "end"
   ]
  },
  {
   "cell_type": "code",
   "execution_count": 64,
   "metadata": {
    "ExecuteTime": {
     "end_time": "2020-10-09T21:14:04.226000-04:00",
     "start_time": "2020-10-09T22:58:21.146Z"
    }
   },
   "outputs": [
    {
     "name": "stdout",
     "output_type": "stream",
     "text": [
      "Iter     Function value   Gradient norm \n",
      "     0     4.697074e+04     4.518283e+03\n",
      " * time: 0.0\n",
      "     1     4.648744e+04     7.674161e+03\n",
      " * time: 238.93899989128113\n",
      "     2     4.229750e+04     1.342608e+04\n",
      " * time: 299.5130000114441\n",
      "[-0.04799912335823286, -0.7359024882711005, 1.1618190548693716, -0.011049704626142475, 0.1500214635823764, -2.4388531700279565, 0.09922720779806007, 0.6508234671723178, -4.049607280894275, 0.05485552438406271, 0.2773393654431958, -4.340416332420542, 0.02045892465809208, -0.6880231891966071, -4.79418801124816, 0.12828211587439114, -0.9974581801608406, -7.9145384047775735, 0.12002662204389272, -0.7813389333240287, -5.6093861214180665, 4.509837823890668, 2.292236339740456]\n"
     ]
    }
   ],
   "source": [
    "td = TwiceDifferentiable(theta -> mixlogit_MC_with_Z(theta, X, Z, y, 100), startvals; autodiff = :forward)\n",
    "    # run the optimizer\n",
    "#theta_hat_mix_optim_ad = optimize(td, startvals, LBFGS(), Optim.Options(g_tol = 1e-5, iterations=2, show_trace=true, show_every=1))\n",
    "theta_hat_mix_optim_ad = optimize(td, startvals, LBFGS(), Optim.Options(g_tol = 1e-5, iterations=100_000, show_trace=false, show_every=50))\n",
    "\n",
    "theta_hat_mix_mle_ad = theta_hat_mix_optim_ad.minimizer\n",
    "println(theta_hat_mix_mle_ad)"
   ]
  },
  {
   "cell_type": "code",
   "execution_count": 65,
   "metadata": {
    "ExecuteTime": {
     "end_time": "2020-10-09T21:14:04.229000-04:00",
     "start_time": "2020-10-09T22:58:21.151Z"
    }
   },
   "outputs": [],
   "source": [
    "# evaluate the Hessian at the estimates\n",
    "# H  = Optim.hessian!(td, theta_hat_mix_optim_ad) # it bugs out at this point, and I don't now why (it's possibly due to me making sigma piecewise above)\n",
    "# theta_hat_mix_mle_ad_se = sqrt.(diag(inv(H)))\n",
    "# println([theta_hat_mix_mle_ad theta_hat_mix_mle_ad_se]) # these standard errors match Stata"
   ]
  },
  {
   "cell_type": "code",
   "execution_count": null,
   "metadata": {},
   "outputs": [],
   "source": []
  },
  {
   "cell_type": "code",
   "execution_count": null,
   "metadata": {},
   "outputs": [],
   "source": []
  }
 ],
 "metadata": {
  "kernelspec": {
   "display_name": "Julia 1.5.1",
   "language": "julia",
   "name": "julia-1.5"
  },
  "language_info": {
   "file_extension": ".jl",
   "mimetype": "application/julia",
   "name": "julia",
   "version": "1.5.1"
  },
  "toc": {
   "base_numbering": 1,
   "nav_menu": {},
   "number_sections": true,
   "sideBar": true,
   "skip_h1_title": false,
   "title_cell": "Table of Contents",
   "title_sidebar": "Contents",
   "toc_cell": true,
   "toc_position": {
    "height": "calc(100% - 180px)",
    "left": "10px",
    "top": "150px",
    "width": "165px"
   },
   "toc_section_display": true,
   "toc_window_display": true
  }
 },
 "nbformat": 4,
 "nbformat_minor": 4
}
